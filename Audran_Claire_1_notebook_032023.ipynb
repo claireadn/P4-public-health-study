{
 "cells": [
  {
   "cell_type": "markdown",
   "id": "f6cff067",
   "metadata": {},
   "source": [
    "## Table des matières\n",
    "* [Q1 - Proportion de personnes en état de sous-nutrition](#question1)\n",
    "    * [Somme de la population totale en 2017](#section_1_1)\n",
    "    * [Somme de la population en sous-nutrition en 2017](#section_1_2)\n",
    "    * [Proportion de la population mondiale en état de sous-nutrition en 2017](#section_1_3)\n",
    "* [Q2 - Nombre théorique de personnes qui pourraient être nourries](#question2)\n",
    "    * [Somme des Kcal/personne/jour par pays](#section_2_1)\n",
    "    * [Nombre théorique de personnes qui pourraient être nourries dans le monde](#section_2_4)\n",
    "* [Q3 - Nombre théorique de personnes qui pourraient être nourries avec des produits végétaux](#question3)\n",
    "     * [Somme des Kcals/personne/an par pays pour les produits végétaux](#section_3_1)\n",
    "     * [Nombre théorique de personnes qui pourraient être nourries avec des produits végétaux dans le monde](#section_3_3)\n",
    "* [Q4 - Utilisation de la disponibilité intérieure](#question4)\n",
    "    * [Attribué à l'alimentation animale](#section_4_3)\n",
    "        * [Proportion mondiale de la disponibilité intérieure attribuée à l'alimentation animale](#sub_section_4_3_2)\n",
    "        * [Proportion de la disponibilité intérieure attribuée à l'alimentation animale par pays](#sub_section_4_3_1)\n",
    "    * [Attribué à l'alimentation humaine](#section_4_4)\n",
    "        * [Proportion mondiale de la disponibilité intérieure attribuée à l'alimentation humaine](#sub_section_4_4_2)\n",
    "        * [Proportion de la disponibilité intérieure attribuée à l'alimentation humaine par pays](#sub_section_4_4_1)\n",
    "    * [Part de la disponibilité intérieure perdue](#section_4_5)\n",
    "        * [Proportion mondiale de la disponibilité intérieure perdue](#sub_section_4_5_2)\n",
    "        * [Proportion de la disponibilité intérieure perdue par pays](#sub_section_4_5_1)\n",
    "* [Q5 - Pays où la proportion de personnes en état de sous-nutrition est la plus forte en 2017](#question5)\n",
    "* [Q6 - Pays bénéficiaires d'aides depuis 2013](#question6)\n",
    "    * [Top 10 des pays qui ont le plus bénéficié d’aide depuis 2013](#section_6_3)\n",
    "* [Q7 - Disponibilité par habitant maximale et minimale](#question7)\n",
    "    * [Top 10 des pays ayant le plus de disponibilité par habitant en 2017](#section_7_1)\n",
    "    * [Top 10 des pays ayant le moins de disponibilité par habitant en 2017](#section_7_2)\n",
    "* [Utilisation des céréales](#question8)\n",
    "    * [Somme totale des céréales](#section_8_1)\n",
    "        * [Proportion de la nourriture par rapport à la disponibilité intérieure mondiale](#sub_section_8_1_2)\n",
    "        * [Proportion des aliments pour animaux par rapport à la disponibilité intérieure mondiale](#sub_section_8_1_3)\n",
    "    * [Sommes des céréales par pays](#section_8_2)\n",
    "        * [Somme des céréales attribuée à l'alimentation humaine par pays](#sub_section_8_2_1)\n",
    "        * [Somme des céréales attribuée à l'alimentation animale par pays](#sub_section_8_2_2)\n",
    "    * [Pays où la part des céréales attribué à l'alimentation des animaux est la plus élevé](#section_8_5)\n",
    "    * [Pays où la part des céréales attribué à l'alimentation humaine est la plus élevé](#section_8_6)"
   ]
  },
  {
   "cell_type": "markdown",
   "id": "3dee2b7e",
   "metadata": {},
   "source": [
    "# Import des librairies"
   ]
  },
  {
   "cell_type": "code",
   "execution_count": 1,
   "id": "c99c8247",
   "metadata": {},
   "outputs": [],
   "source": [
    "# Dataframes\n",
    "import pandas as pd\n",
    "pd.options.mode.chained_assignment = None"
   ]
  },
  {
   "cell_type": "code",
   "execution_count": 2,
   "id": "7bf2fe75",
   "metadata": {},
   "outputs": [],
   "source": [
    "# Calculs\n",
    "import numpy as np"
   ]
  },
  {
   "cell_type": "markdown",
   "id": "934c1bc8",
   "metadata": {},
   "source": [
    "# Import des données"
   ]
  },
  {
   "cell_type": "code",
   "execution_count": 3,
   "id": "8b20cb70",
   "metadata": {},
   "outputs": [],
   "source": [
    "# Dataset 1 : Données sur la taille de la population mondiale en 2017\n",
    "population = pd.read_csv(\"population.csv\")\n",
    "population_2017 = population[(population[\"Année\"] == 2017) & (population[\"Valeur\"]>0.0)]"
   ]
  },
  {
   "cell_type": "code",
   "execution_count": 4,
   "id": "8a6a13f6",
   "metadata": {},
   "outputs": [],
   "source": [
    "# Dataset 2 : Données sur la population en sous-nutrition en 2017\n",
    "sous_nutrition = pd.read_csv(\"sous_nutrition.csv\")\n",
    "sous_nutrition_2017 = sous_nutrition[(sous_nutrition[\"Année\"] == \"2016-2018\")]"
   ]
  },
  {
   "cell_type": "code",
   "execution_count": 5,
   "id": "da8aeed1",
   "metadata": {},
   "outputs": [],
   "source": [
    "# Dataset 3 : Données sur la disponibilité alimentaire\n",
    "dispo_alimentaire = pd.read_csv(\"dispo_alimentaire.csv\")"
   ]
  },
  {
   "cell_type": "code",
   "execution_count": 6,
   "id": "f02da019",
   "metadata": {},
   "outputs": [],
   "source": [
    "# Dataset 4 : Données sur les aides alimentaires depuis 2013\n",
    "aide = pd.read_csv(\"aide_alimentaire.csv\")\n",
    "aide_2013 = aide[aide[\"Année\"] >= 2013]"
   ]
  },
  {
   "cell_type": "markdown",
   "id": "c7e0db89",
   "metadata": {},
   "source": [
    "# Constantes"
   ]
  },
  {
   "cell_type": "code",
   "execution_count": 7,
   "id": "e1a70209",
   "metadata": {},
   "outputs": [],
   "source": [
    "# Besoin énergétique moyen des femmes (2000 à 2200 kcal)\n",
    "besoin_kcal_j_f = 2100\n",
    "\n",
    "# Besoin énergétique moyen des hommes (2400 à 2700 kcal)\n",
    "besoin_kcal_j_h = 2550"
   ]
  },
  {
   "cell_type": "code",
   "execution_count": 8,
   "id": "ab2294c6",
   "metadata": {},
   "outputs": [],
   "source": [
    "# Besoin énergétique moyen (femmes et hommes)\n",
    "besoin_kcal_j_h_f = (besoin_kcal_j_f + besoin_kcal_j_h)/2"
   ]
  },
  {
   "cell_type": "code",
   "execution_count": 9,
   "id": "4d2973c7",
   "metadata": {},
   "outputs": [],
   "source": [
    "# Besoin énergétique moyen sur une année\n",
    "besoin_kcal = besoin_kcal_j_h_f*365"
   ]
  },
  {
   "cell_type": "markdown",
   "id": "ecf47259",
   "metadata": {},
   "source": [
    "# Vérification et nettoyage des données"
   ]
  },
  {
   "cell_type": "markdown",
   "id": "c06e0e14",
   "metadata": {},
   "source": [
    "## Vérification des valeurs nulles"
   ]
  },
  {
   "cell_type": "code",
   "execution_count": 10,
   "id": "4f3a59a8",
   "metadata": {},
   "outputs": [
    {
     "data": {
      "text/plain": [
       "Zone      0\n",
       "Année     0\n",
       "Valeur    0\n",
       "dtype: int64"
      ]
     },
     "execution_count": 10,
     "metadata": {},
     "output_type": "execute_result"
    }
   ],
   "source": [
    "# Dataset 1 : Rien à signaler\n",
    "population_2017.isnull().sum()"
   ]
  },
  {
   "cell_type": "code",
   "execution_count": 11,
   "id": "364445be",
   "metadata": {},
   "outputs": [],
   "source": [
    "# Dataset 2 : 99 valeurs manquantes\n",
    "sous_nutrition_2017.isnull().sum()\n",
    "# Remplacement des valeurs nulles par 0\n",
    "sous_nutrition_2017 = sous_nutrition_2017.fillna(0)"
   ]
  },
  {
   "cell_type": "code",
   "execution_count": 12,
   "id": "625d9dc2",
   "metadata": {},
   "outputs": [
    {
     "data": {
      "text/plain": [
       "Zone      0\n",
       "Année     0\n",
       "Valeur    0\n",
       "dtype: int64"
      ]
     },
     "execution_count": 12,
     "metadata": {},
     "output_type": "execute_result"
    }
   ],
   "source": [
    "# Vérification de la suppresion\n",
    "sous_nutrition_2017.isnull().sum()"
   ]
  },
  {
   "cell_type": "code",
   "execution_count": 13,
   "id": "055e706f",
   "metadata": {},
   "outputs": [],
   "source": [
    "# Dataset 3 : 8829 valeurs manquantes\n",
    "dispo_alimentaire.isnull().sum()\n",
    "# Remplacement des valeurs nulles par 0\n",
    "dispo_alimentaire = dispo_alimentaire.fillna(0)"
   ]
  },
  {
   "cell_type": "code",
   "execution_count": 14,
   "id": "7fe0ddf7",
   "metadata": {},
   "outputs": [
    {
     "data": {
      "text/plain": [
       "Zone                                                             0\n",
       "Produit                                                          0\n",
       "Origine                                                          0\n",
       "Aliments pour animaux                                            0\n",
       "Autres Utilisations                                              0\n",
       "Disponibilité alimentaire (Kcal/personne/jour)                   0\n",
       "Disponibilité alimentaire en quantité (kg/personne/an)           0\n",
       "Disponibilité de matière grasse en quantité (g/personne/jour)    0\n",
       "Disponibilité de protéines en quantité (g/personne/jour)         0\n",
       "Disponibilité intérieure                                         0\n",
       "Exportations - Quantité                                          0\n",
       "Importations - Quantité                                          0\n",
       "Nourriture                                                       0\n",
       "Pertes                                                           0\n",
       "Production                                                       0\n",
       "Semences                                                         0\n",
       "Traitement                                                       0\n",
       "Variation de stock                                               0\n",
       "dtype: int64"
      ]
     },
     "execution_count": 14,
     "metadata": {},
     "output_type": "execute_result"
    }
   ],
   "source": [
    "# Vérification de la suppresion\n",
    "dispo_alimentaire.isnull().sum()"
   ]
  },
  {
   "cell_type": "code",
   "execution_count": 15,
   "id": "f7ddfa8d",
   "metadata": {},
   "outputs": [
    {
     "data": {
      "text/plain": [
       "Pays bénéficiaire    0\n",
       "Année                0\n",
       "Produit              0\n",
       "Valeur               0\n",
       "dtype: int64"
      ]
     },
     "execution_count": 15,
     "metadata": {},
     "output_type": "execute_result"
    }
   ],
   "source": [
    "# Dataset 4 : Rien à signaler\n",
    "aide_2013.isnull().sum()"
   ]
  },
  {
   "cell_type": "markdown",
   "id": "d55b4c89",
   "metadata": {},
   "source": [
    "## Vérification du formatage des données"
   ]
  },
  {
   "cell_type": "code",
   "execution_count": 16,
   "id": "1a31e733",
   "metadata": {},
   "outputs": [
    {
     "name": "stdout",
     "output_type": "stream",
     "text": [
      "<class 'pandas.core.frame.DataFrame'>\n",
      "Int64Index: 236 entries, 4 to 1414\n",
      "Data columns (total 3 columns):\n",
      " #   Column  Non-Null Count  Dtype  \n",
      "---  ------  --------------  -----  \n",
      " 0   Zone    236 non-null    object \n",
      " 1   Année   236 non-null    int64  \n",
      " 2   Valeur  236 non-null    float64\n",
      "dtypes: float64(1), int64(1), object(1)\n",
      "memory usage: 7.4+ KB\n"
     ]
    }
   ],
   "source": [
    "# Dataset 1 : Modifier \"année\" en object\n",
    "population_2017.info()\n",
    "population_2017[\"Année\"] = population_2017[\"Année\"].astype(str)"
   ]
  },
  {
   "cell_type": "code",
   "execution_count": 17,
   "id": "1f34c8f5",
   "metadata": {},
   "outputs": [
    {
     "name": "stdout",
     "output_type": "stream",
     "text": [
      "<class 'pandas.core.frame.DataFrame'>\n",
      "Int64Index: 236 entries, 4 to 1414\n",
      "Data columns (total 3 columns):\n",
      " #   Column  Non-Null Count  Dtype  \n",
      "---  ------  --------------  -----  \n",
      " 0   Zone    236 non-null    object \n",
      " 1   Année   236 non-null    object \n",
      " 2   Valeur  236 non-null    float64\n",
      "dtypes: float64(1), object(2)\n",
      "memory usage: 7.4+ KB\n"
     ]
    }
   ],
   "source": [
    "# Vérification de la conversion\n",
    "population_2017.info()"
   ]
  },
  {
   "cell_type": "code",
   "execution_count": 18,
   "id": "ce9d92ab",
   "metadata": {},
   "outputs": [
    {
     "name": "stdout",
     "output_type": "stream",
     "text": [
      "<class 'pandas.core.frame.DataFrame'>\n",
      "Int64Index: 203 entries, 4 to 1216\n",
      "Data columns (total 3 columns):\n",
      " #   Column  Non-Null Count  Dtype \n",
      "---  ------  --------------  ----- \n",
      " 0   Zone    203 non-null    object\n",
      " 1   Année   203 non-null    object\n",
      " 2   Valeur  203 non-null    object\n",
      "dtypes: object(3)\n",
      "memory usage: 6.3+ KB\n"
     ]
    }
   ],
   "source": [
    "# Dataset 2 : Modifier la \"valeur\" en float\n",
    "sous_nutrition_2017.info()\n",
    "# Modifier '<0.1' en 0 pour permettre la conversion\n",
    "sous_nutrition_2017.loc[sous_nutrition_2017[\"Valeur\"] == \"<0.1\"] = 0\n",
    "sous_nutrition_2017[\"Valeur\"] = sous_nutrition_2017[\"Valeur\"].astype(float)"
   ]
  },
  {
   "cell_type": "code",
   "execution_count": 19,
   "id": "0f015cb8",
   "metadata": {},
   "outputs": [
    {
     "name": "stdout",
     "output_type": "stream",
     "text": [
      "<class 'pandas.core.frame.DataFrame'>\n",
      "Int64Index: 203 entries, 4 to 1216\n",
      "Data columns (total 3 columns):\n",
      " #   Column  Non-Null Count  Dtype  \n",
      "---  ------  --------------  -----  \n",
      " 0   Zone    203 non-null    object \n",
      " 1   Année   203 non-null    object \n",
      " 2   Valeur  203 non-null    float64\n",
      "dtypes: float64(1), object(2)\n",
      "memory usage: 6.3+ KB\n"
     ]
    }
   ],
   "source": [
    "# Vérification de la conversion\n",
    "sous_nutrition_2017.info()"
   ]
  },
  {
   "cell_type": "code",
   "execution_count": 20,
   "id": "0eb682ff",
   "metadata": {},
   "outputs": [
    {
     "name": "stdout",
     "output_type": "stream",
     "text": [
      "<class 'pandas.core.frame.DataFrame'>\n",
      "RangeIndex: 15605 entries, 0 to 15604\n",
      "Data columns (total 18 columns):\n",
      " #   Column                                                         Non-Null Count  Dtype  \n",
      "---  ------                                                         --------------  -----  \n",
      " 0   Zone                                                           15605 non-null  object \n",
      " 1   Produit                                                        15605 non-null  object \n",
      " 2   Origine                                                        15605 non-null  object \n",
      " 3   Aliments pour animaux                                          15605 non-null  float64\n",
      " 4   Autres Utilisations                                            15605 non-null  float64\n",
      " 5   Disponibilité alimentaire (Kcal/personne/jour)                 15605 non-null  float64\n",
      " 6   Disponibilité alimentaire en quantité (kg/personne/an)         15605 non-null  float64\n",
      " 7   Disponibilité de matière grasse en quantité (g/personne/jour)  15605 non-null  float64\n",
      " 8   Disponibilité de protéines en quantité (g/personne/jour)       15605 non-null  float64\n",
      " 9   Disponibilité intérieure                                       15605 non-null  float64\n",
      " 10  Exportations - Quantité                                        15605 non-null  float64\n",
      " 11  Importations - Quantité                                        15605 non-null  float64\n",
      " 12  Nourriture                                                     15605 non-null  float64\n",
      " 13  Pertes                                                         15605 non-null  float64\n",
      " 14  Production                                                     15605 non-null  float64\n",
      " 15  Semences                                                       15605 non-null  float64\n",
      " 16  Traitement                                                     15605 non-null  float64\n",
      " 17  Variation de stock                                             15605 non-null  float64\n",
      "dtypes: float64(15), object(3)\n",
      "memory usage: 2.1+ MB\n"
     ]
    }
   ],
   "source": [
    "# Dataset 3 : Rien à signaler\n",
    "dispo_alimentaire.info()"
   ]
  },
  {
   "cell_type": "code",
   "execution_count": 21,
   "id": "12431394",
   "metadata": {},
   "outputs": [
    {
     "name": "stdout",
     "output_type": "stream",
     "text": [
      "<class 'pandas.core.frame.DataFrame'>\n",
      "Int64Index: 1475 entries, 0 to 1474\n",
      "Data columns (total 4 columns):\n",
      " #   Column             Non-Null Count  Dtype \n",
      "---  ------             --------------  ----- \n",
      " 0   Pays bénéficiaire  1475 non-null   object\n",
      " 1   Année              1475 non-null   int64 \n",
      " 2   Produit            1475 non-null   object\n",
      " 3   Valeur             1475 non-null   int64 \n",
      "dtypes: int64(2), object(2)\n",
      "memory usage: 57.6+ KB\n"
     ]
    }
   ],
   "source": [
    "# Dataset 4 : Rien à signaler\n",
    "aide_2013.info()"
   ]
  },
  {
   "cell_type": "markdown",
   "id": "b488203f",
   "metadata": {},
   "source": [
    "# Autres"
   ]
  },
  {
   "cell_type": "markdown",
   "id": "87383fc2",
   "metadata": {},
   "source": [
    "## Conversions"
   ]
  },
  {
   "cell_type": "code",
   "execution_count": 22,
   "id": "0c14ced2",
   "metadata": {},
   "outputs": [],
   "source": [
    "# Convertir la population \n",
    "population_2017[\"Valeur\"] = population_2017[\"Valeur\"]/1000\n",
    "\n",
    "# Convertir les kcal par jour en kcal par an\n",
    "dispo_alimentaire[\"Disponibilité alimentaire (Kcal/personne/jour)\"] = dispo_alimentaire[\"Disponibilité alimentaire (Kcal/personne/jour)\"]*365\n",
    "\n",
    "# Convertir la quantité totale \n",
    "aide_2013[\"Valeur\"] = aide_2013[\"Valeur\"]/1000"
   ]
  },
  {
   "cell_type": "markdown",
   "id": "505feeaf",
   "metadata": {},
   "source": [
    "## Modification des noms de colonnes"
   ]
  },
  {
   "cell_type": "code",
   "execution_count": 23,
   "id": "b112b9e7",
   "metadata": {},
   "outputs": [],
   "source": [
    "population_2017.rename(columns={\"Valeur\": \"popTotale\"}, inplace=True)\n",
    "sous_nutrition_2017.rename(columns={\"Valeur\": \"popSousNut\", \"Année\": \"Intervalle\"}, inplace=True)\n",
    "aide_2013.rename(columns={\"Pays bénéficiaire\": \"Zone\", \"Valeur\": \"Quantité\"}, inplace=True)\n",
    "dispo_alimentaire.rename(columns={\"Disponibilité alimentaire (Kcal/personne/jour)\": \"Kcal/personne/an\"}, inplace=True)\n",
    "dispo_alimentaire.rename(columns={\"Disponibilité intérieure\": \"dispoMilliersTonnes\"}, inplace=True)"
   ]
  },
  {
   "cell_type": "markdown",
   "id": "0b6a200a",
   "metadata": {},
   "source": [
    "# Partie I  - La sous-nutrition dans le monde"
   ]
  },
  {
   "cell_type": "markdown",
   "id": "d31e5050",
   "metadata": {},
   "source": [
    "## Requête 1 : Proportion de personnes en état de sous-nutrition en 2017<a class=\"anchor\" id=\"question1\"></a>"
   ]
  },
  {
   "cell_type": "code",
   "execution_count": 24,
   "id": "3ab0e9c0",
   "metadata": {},
   "outputs": [],
   "source": [
    "# Jointure des données de population totale et de population en sous-nutrition en 2017\n",
    "pop_sousnut = pd.merge(population_2017, sous_nutrition_2017, how=\"left\", on=\"Zone\")"
   ]
  },
  {
   "cell_type": "code",
   "execution_count": 25,
   "id": "b5fc9983",
   "metadata": {},
   "outputs": [
    {
     "data": {
      "text/html": [
       "<div>\n",
       "<style scoped>\n",
       "    .dataframe tbody tr th:only-of-type {\n",
       "        vertical-align: middle;\n",
       "    }\n",
       "\n",
       "    .dataframe tbody tr th {\n",
       "        vertical-align: top;\n",
       "    }\n",
       "\n",
       "    .dataframe thead th {\n",
       "        text-align: right;\n",
       "    }\n",
       "</style>\n",
       "<table border=\"1\" class=\"dataframe\">\n",
       "  <thead>\n",
       "    <tr style=\"text-align: right;\">\n",
       "      <th></th>\n",
       "      <th>Zone</th>\n",
       "      <th>popTotale</th>\n",
       "      <th>popSousNut</th>\n",
       "    </tr>\n",
       "  </thead>\n",
       "  <tbody>\n",
       "    <tr>\n",
       "      <th>0</th>\n",
       "      <td>Afghanistan</td>\n",
       "      <td>36.30</td>\n",
       "      <td>10.5</td>\n",
       "    </tr>\n",
       "    <tr>\n",
       "      <th>1</th>\n",
       "      <td>Afrique du Sud</td>\n",
       "      <td>57.01</td>\n",
       "      <td>3.1</td>\n",
       "    </tr>\n",
       "    <tr>\n",
       "      <th>2</th>\n",
       "      <td>Albanie</td>\n",
       "      <td>2.88</td>\n",
       "      <td>0.1</td>\n",
       "    </tr>\n",
       "    <tr>\n",
       "      <th>3</th>\n",
       "      <td>Algérie</td>\n",
       "      <td>41.39</td>\n",
       "      <td>1.3</td>\n",
       "    </tr>\n",
       "    <tr>\n",
       "      <th>4</th>\n",
       "      <td>Allemagne</td>\n",
       "      <td>82.66</td>\n",
       "      <td>0.0</td>\n",
       "    </tr>\n",
       "    <tr>\n",
       "      <th>...</th>\n",
       "      <td>...</td>\n",
       "      <td>...</td>\n",
       "      <td>...</td>\n",
       "    </tr>\n",
       "    <tr>\n",
       "      <th>231</th>\n",
       "      <td>Venezuela (République bolivarienne du)</td>\n",
       "      <td>29.40</td>\n",
       "      <td>8.0</td>\n",
       "    </tr>\n",
       "    <tr>\n",
       "      <th>232</th>\n",
       "      <td>Viet Nam</td>\n",
       "      <td>94.60</td>\n",
       "      <td>6.5</td>\n",
       "    </tr>\n",
       "    <tr>\n",
       "      <th>233</th>\n",
       "      <td>Yémen</td>\n",
       "      <td>27.83</td>\n",
       "      <td>0.0</td>\n",
       "    </tr>\n",
       "    <tr>\n",
       "      <th>234</th>\n",
       "      <td>Zambie</td>\n",
       "      <td>16.85</td>\n",
       "      <td>0.0</td>\n",
       "    </tr>\n",
       "    <tr>\n",
       "      <th>235</th>\n",
       "      <td>Zimbabwe</td>\n",
       "      <td>14.24</td>\n",
       "      <td>0.0</td>\n",
       "    </tr>\n",
       "  </tbody>\n",
       "</table>\n",
       "<p>236 rows × 3 columns</p>\n",
       "</div>"
      ],
      "text/plain": [
       "                                       Zone  popTotale  popSousNut\n",
       "0                               Afghanistan      36.30        10.5\n",
       "1                            Afrique du Sud      57.01         3.1\n",
       "2                                   Albanie       2.88         0.1\n",
       "3                                   Algérie      41.39         1.3\n",
       "4                                 Allemagne      82.66         0.0\n",
       "..                                      ...        ...         ...\n",
       "231  Venezuela (République bolivarienne du)      29.40         8.0\n",
       "232                                Viet Nam      94.60         6.5\n",
       "233                                   Yémen      27.83         0.0\n",
       "234                                  Zambie      16.85         0.0\n",
       "235                                Zimbabwe      14.24         0.0\n",
       "\n",
       "[236 rows x 3 columns]"
      ]
     },
     "metadata": {},
     "output_type": "display_data"
    }
   ],
   "source": [
    "# Filtrer les colonnes\n",
    "pop_sousnut = pop_sousnut[[\"Zone\", \"popTotale\", \"popSousNut\"]]\n",
    "display(pop_sousnut.reset_index(drop=True).round(2))"
   ]
  },
  {
   "cell_type": "markdown",
   "id": "fd277ef0",
   "metadata": {},
   "source": [
    "### Somme de la population totale en 2017<a class=\"anchor\" id=\"section_1_1\"></a>"
   ]
  },
  {
   "cell_type": "code",
   "execution_count": 26,
   "id": "94adc4fd",
   "metadata": {},
   "outputs": [
    {
     "name": "stdout",
     "output_type": "stream",
     "text": [
      "En 2017, la population mondiale est de 7.548 milliards d'habitants.\n"
     ]
    }
   ],
   "source": [
    "pop_totale = (pop_sousnut[\"popTotale\"].sum())/1000\n",
    "\n",
    "print(\"En 2017, la population mondiale est de\", round(pop_totale, 3), \"milliards d'habitants.\")"
   ]
  },
  {
   "cell_type": "markdown",
   "id": "b11af1bb",
   "metadata": {},
   "source": [
    "### Somme de la population en sous-nutrition en 2017<a class=\"anchor\" id=\"section_1_2\"></a>"
   ]
  },
  {
   "cell_type": "code",
   "execution_count": 27,
   "id": "772213ce",
   "metadata": {},
   "outputs": [],
   "source": [
    "# Filtrer les données\n",
    "pop_sousnut = pop_sousnut[(pop_sousnut[\"popSousNut\"] >0.0)]"
   ]
  },
  {
   "cell_type": "code",
   "execution_count": 28,
   "id": "e1f007f8",
   "metadata": {},
   "outputs": [
    {
     "name": "stdout",
     "output_type": "stream",
     "text": [
      "En 2017, la population mondiale en sous-nutrition est de 0.535 milliards d'habitants.\n"
     ]
    }
   ],
   "source": [
    "pop_totale_sousnut = (pop_sousnut [\"popSousNut\"].sum())/1000\n",
    "\n",
    "print(\"En 2017, la population mondiale en sous-nutrition est de\", round(pop_totale_sousnut, 3), \"milliards d'habitants.\")"
   ]
  },
  {
   "cell_type": "markdown",
   "id": "f8c47e48",
   "metadata": {},
   "source": [
    "### Proportion de la population mondiale en état de sous-nutrition en 2017<a class=\"anchor\" id=\"section_1_3\"></a>"
   ]
  },
  {
   "cell_type": "code",
   "execution_count": 29,
   "id": "1e5f92a5",
   "metadata": {},
   "outputs": [
    {
     "name": "stdout",
     "output_type": "stream",
     "text": [
      "Pour l'année 2017, la proportion de personnes en état de sous_nutrition mondial est de 7.09 %\n"
     ]
    }
   ],
   "source": [
    "prop_sousnut = (pop_totale_sousnut / pop_totale)*100\n",
    "\n",
    "print(\"Pour l'année 2017, la proportion de personnes en état de sous_nutrition mondial est de\", round(prop_sousnut, 2), \"%\")"
   ]
  },
  {
   "cell_type": "markdown",
   "id": "d3b9e89a",
   "metadata": {},
   "source": [
    "## Requête 2 : Nombre théorique de personnes qui pourraient être nourries en 2017<a class=\"anchor\" id=\"question2\"></a>"
   ]
  },
  {
   "cell_type": "markdown",
   "id": "5c899e8e",
   "metadata": {},
   "source": [
    "### Somme des Kcal/personne/jour par pays<a class=\"anchor\" id=\"section_2_1\"></a>"
   ]
  },
  {
   "cell_type": "code",
   "execution_count": 30,
   "id": "53bc489f",
   "metadata": {},
   "outputs": [
    {
     "data": {
      "text/html": [
       "<div>\n",
       "<style scoped>\n",
       "    .dataframe tbody tr th:only-of-type {\n",
       "        vertical-align: middle;\n",
       "    }\n",
       "\n",
       "    .dataframe tbody tr th {\n",
       "        vertical-align: top;\n",
       "    }\n",
       "\n",
       "    .dataframe thead th {\n",
       "        text-align: right;\n",
       "    }\n",
       "</style>\n",
       "<table border=\"1\" class=\"dataframe\">\n",
       "  <thead>\n",
       "    <tr style=\"text-align: right;\">\n",
       "      <th></th>\n",
       "      <th>Zone</th>\n",
       "      <th>Kcal/personne/an</th>\n",
       "    </tr>\n",
       "  </thead>\n",
       "  <tbody>\n",
       "    <tr>\n",
       "      <th>0</th>\n",
       "      <td>Afghanistan</td>\n",
       "      <td>761755.0</td>\n",
       "    </tr>\n",
       "    <tr>\n",
       "      <th>1</th>\n",
       "      <td>Afrique du Sud</td>\n",
       "      <td>1102300.0</td>\n",
       "    </tr>\n",
       "    <tr>\n",
       "      <th>2</th>\n",
       "      <td>Albanie</td>\n",
       "      <td>1163620.0</td>\n",
       "    </tr>\n",
       "    <tr>\n",
       "      <th>3</th>\n",
       "      <td>Algérie</td>\n",
       "      <td>1201945.0</td>\n",
       "    </tr>\n",
       "    <tr>\n",
       "      <th>4</th>\n",
       "      <td>Allemagne</td>\n",
       "      <td>1278595.0</td>\n",
       "    </tr>\n",
       "  </tbody>\n",
       "</table>\n",
       "</div>"
      ],
      "text/plain": [
       "             Zone  Kcal/personne/an\n",
       "0     Afghanistan          761755.0\n",
       "1  Afrique du Sud         1102300.0\n",
       "2         Albanie         1163620.0\n",
       "3         Algérie         1201945.0\n",
       "4       Allemagne         1278595.0"
      ]
     },
     "execution_count": 30,
     "metadata": {},
     "output_type": "execute_result"
    }
   ],
   "source": [
    "# Grouper par pays\n",
    "dispo_alim_pays = dispo_alimentaire.groupby([\"Zone\"])[\"Kcal/personne/an\"].sum().reset_index()\n",
    "dispo_alim_pays.head()"
   ]
  },
  {
   "cell_type": "code",
   "execution_count": 31,
   "id": "497cf8ee",
   "metadata": {},
   "outputs": [],
   "source": [
    "# Jointure des données de population par pays et des données d'aide alimentaire\n",
    "dispo_alim = pd.merge(dispo_alim_pays, population_2017, how=\"left\", on=\"Zone\")"
   ]
  },
  {
   "cell_type": "code",
   "execution_count": 32,
   "id": "04641f63",
   "metadata": {},
   "outputs": [
    {
     "data": {
      "text/html": [
       "<div>\n",
       "<style scoped>\n",
       "    .dataframe tbody tr th:only-of-type {\n",
       "        vertical-align: middle;\n",
       "    }\n",
       "\n",
       "    .dataframe tbody tr th {\n",
       "        vertical-align: top;\n",
       "    }\n",
       "\n",
       "    .dataframe thead th {\n",
       "        text-align: right;\n",
       "    }\n",
       "</style>\n",
       "<table border=\"1\" class=\"dataframe\">\n",
       "  <thead>\n",
       "    <tr style=\"text-align: right;\">\n",
       "      <th></th>\n",
       "      <th>Zone</th>\n",
       "      <th>Kcal/personne/an</th>\n",
       "      <th>popTotale</th>\n",
       "    </tr>\n",
       "  </thead>\n",
       "  <tbody>\n",
       "    <tr>\n",
       "      <th>0</th>\n",
       "      <td>Afghanistan</td>\n",
       "      <td>761755.0</td>\n",
       "      <td>36.30</td>\n",
       "    </tr>\n",
       "    <tr>\n",
       "      <th>1</th>\n",
       "      <td>Afrique du Sud</td>\n",
       "      <td>1102300.0</td>\n",
       "      <td>57.01</td>\n",
       "    </tr>\n",
       "    <tr>\n",
       "      <th>2</th>\n",
       "      <td>Albanie</td>\n",
       "      <td>1163620.0</td>\n",
       "      <td>2.88</td>\n",
       "    </tr>\n",
       "    <tr>\n",
       "      <th>3</th>\n",
       "      <td>Algérie</td>\n",
       "      <td>1201945.0</td>\n",
       "      <td>41.39</td>\n",
       "    </tr>\n",
       "    <tr>\n",
       "      <th>4</th>\n",
       "      <td>Allemagne</td>\n",
       "      <td>1278595.0</td>\n",
       "      <td>82.66</td>\n",
       "    </tr>\n",
       "  </tbody>\n",
       "</table>\n",
       "</div>"
      ],
      "text/plain": [
       "             Zone  Kcal/personne/an  popTotale\n",
       "0     Afghanistan          761755.0      36.30\n",
       "1  Afrique du Sud         1102300.0      57.01\n",
       "2         Albanie         1163620.0       2.88\n",
       "3         Algérie         1201945.0      41.39\n",
       "4       Allemagne         1278595.0      82.66"
      ]
     },
     "metadata": {},
     "output_type": "display_data"
    }
   ],
   "source": [
    "# Filtrer les colonnes\n",
    "dispo_alim = dispo_alim[[\"Zone\", \"Kcal/personne/an\", \"popTotale\"]]\n",
    "display(dispo_alim.reset_index(drop=True).head().round(2))"
   ]
  },
  {
   "cell_type": "markdown",
   "id": "0b8ad21d",
   "metadata": {},
   "source": [
    "### Proportion de la population totale qui pourraient être nourrie par pays<a class=\"anchor\" id=\"section_2_2\"></a>"
   ]
  },
  {
   "cell_type": "code",
   "execution_count": 33,
   "id": "b2b16a8f",
   "metadata": {},
   "outputs": [
    {
     "data": {
      "text/html": [
       "<div>\n",
       "<style scoped>\n",
       "    .dataframe tbody tr th:only-of-type {\n",
       "        vertical-align: middle;\n",
       "    }\n",
       "\n",
       "    .dataframe tbody tr th {\n",
       "        vertical-align: top;\n",
       "    }\n",
       "\n",
       "    .dataframe thead th {\n",
       "        text-align: right;\n",
       "    }\n",
       "</style>\n",
       "<table border=\"1\" class=\"dataframe\">\n",
       "  <thead>\n",
       "    <tr style=\"text-align: right;\">\n",
       "      <th></th>\n",
       "      <th>Zone</th>\n",
       "      <th>Kcal/personne/an</th>\n",
       "      <th>popTotale</th>\n",
       "      <th>ratioKcal</th>\n",
       "    </tr>\n",
       "  </thead>\n",
       "  <tbody>\n",
       "    <tr>\n",
       "      <th>0</th>\n",
       "      <td>Afghanistan</td>\n",
       "      <td>761755.0</td>\n",
       "      <td>36.30</td>\n",
       "      <td>0.90</td>\n",
       "    </tr>\n",
       "    <tr>\n",
       "      <th>1</th>\n",
       "      <td>Afrique du Sud</td>\n",
       "      <td>1102300.0</td>\n",
       "      <td>57.01</td>\n",
       "      <td>1.30</td>\n",
       "    </tr>\n",
       "    <tr>\n",
       "      <th>2</th>\n",
       "      <td>Albanie</td>\n",
       "      <td>1163620.0</td>\n",
       "      <td>2.88</td>\n",
       "      <td>1.37</td>\n",
       "    </tr>\n",
       "    <tr>\n",
       "      <th>3</th>\n",
       "      <td>Algérie</td>\n",
       "      <td>1201945.0</td>\n",
       "      <td>41.39</td>\n",
       "      <td>1.42</td>\n",
       "    </tr>\n",
       "    <tr>\n",
       "      <th>4</th>\n",
       "      <td>Allemagne</td>\n",
       "      <td>1278595.0</td>\n",
       "      <td>82.66</td>\n",
       "      <td>1.51</td>\n",
       "    </tr>\n",
       "  </tbody>\n",
       "</table>\n",
       "</div>"
      ],
      "text/plain": [
       "             Zone  Kcal/personne/an  popTotale  ratioKcal\n",
       "0     Afghanistan          761755.0      36.30       0.90\n",
       "1  Afrique du Sud         1102300.0      57.01       1.30\n",
       "2         Albanie         1163620.0       2.88       1.37\n",
       "3         Algérie         1201945.0      41.39       1.42\n",
       "4       Allemagne         1278595.0      82.66       1.51"
      ]
     },
     "execution_count": 33,
     "metadata": {},
     "output_type": "execute_result"
    }
   ],
   "source": [
    "dispo_alim[\"ratioKcal\"] = dispo_alim[\"Kcal/personne/an\"]/besoin_kcal\n",
    "dispo_alim.head().round(2)"
   ]
  },
  {
   "cell_type": "markdown",
   "id": "cc0391e9",
   "metadata": {},
   "source": [
    "### Nombre théorique de personnes qui pourraient être nourries par pays<a class=\"anchor\" id=\"section_2_3\"></a>"
   ]
  },
  {
   "cell_type": "code",
   "execution_count": 34,
   "id": "ab6e27e3",
   "metadata": {},
   "outputs": [
    {
     "data": {
      "text/html": [
       "<div>\n",
       "<style scoped>\n",
       "    .dataframe tbody tr th:only-of-type {\n",
       "        vertical-align: middle;\n",
       "    }\n",
       "\n",
       "    .dataframe tbody tr th {\n",
       "        vertical-align: top;\n",
       "    }\n",
       "\n",
       "    .dataframe thead th {\n",
       "        text-align: right;\n",
       "    }\n",
       "</style>\n",
       "<table border=\"1\" class=\"dataframe\">\n",
       "  <thead>\n",
       "    <tr style=\"text-align: right;\">\n",
       "      <th></th>\n",
       "      <th>Zone</th>\n",
       "      <th>Kcal/personne/an</th>\n",
       "      <th>popTotale</th>\n",
       "      <th>ratioKcal</th>\n",
       "      <th>dispoAlimKcal</th>\n",
       "    </tr>\n",
       "  </thead>\n",
       "  <tbody>\n",
       "    <tr>\n",
       "      <th>0</th>\n",
       "      <td>Afghanistan</td>\n",
       "      <td>761755.0</td>\n",
       "      <td>36.30</td>\n",
       "      <td>0.90</td>\n",
       "      <td>32.58</td>\n",
       "    </tr>\n",
       "    <tr>\n",
       "      <th>1</th>\n",
       "      <td>Afrique du Sud</td>\n",
       "      <td>1102300.0</td>\n",
       "      <td>57.01</td>\n",
       "      <td>1.30</td>\n",
       "      <td>74.05</td>\n",
       "    </tr>\n",
       "    <tr>\n",
       "      <th>2</th>\n",
       "      <td>Albanie</td>\n",
       "      <td>1163620.0</td>\n",
       "      <td>2.88</td>\n",
       "      <td>1.37</td>\n",
       "      <td>3.95</td>\n",
       "    </tr>\n",
       "    <tr>\n",
       "      <th>3</th>\n",
       "      <td>Algérie</td>\n",
       "      <td>1201945.0</td>\n",
       "      <td>41.39</td>\n",
       "      <td>1.42</td>\n",
       "      <td>58.62</td>\n",
       "    </tr>\n",
       "    <tr>\n",
       "      <th>4</th>\n",
       "      <td>Allemagne</td>\n",
       "      <td>1278595.0</td>\n",
       "      <td>82.66</td>\n",
       "      <td>1.51</td>\n",
       "      <td>124.54</td>\n",
       "    </tr>\n",
       "  </tbody>\n",
       "</table>\n",
       "</div>"
      ],
      "text/plain": [
       "             Zone  Kcal/personne/an  popTotale  ratioKcal  dispoAlimKcal\n",
       "0     Afghanistan          761755.0      36.30       0.90          32.58\n",
       "1  Afrique du Sud         1102300.0      57.01       1.30          74.05\n",
       "2         Albanie         1163620.0       2.88       1.37           3.95\n",
       "3         Algérie         1201945.0      41.39       1.42          58.62\n",
       "4       Allemagne         1278595.0      82.66       1.51         124.54"
      ]
     },
     "execution_count": 34,
     "metadata": {},
     "output_type": "execute_result"
    }
   ],
   "source": [
    "dispo_alim[\"dispoAlimKcal\"] = dispo_alim[\"popTotale\"]*dispo_alim[\"ratioKcal\"]\n",
    "dispo_alim.head().round(2)"
   ]
  },
  {
   "cell_type": "code",
   "execution_count": 35,
   "id": "89fe12ae",
   "metadata": {},
   "outputs": [
    {
     "data": {
      "text/html": [
       "<div>\n",
       "<style scoped>\n",
       "    .dataframe tbody tr th:only-of-type {\n",
       "        vertical-align: middle;\n",
       "    }\n",
       "\n",
       "    .dataframe tbody tr th {\n",
       "        vertical-align: top;\n",
       "    }\n",
       "\n",
       "    .dataframe thead th {\n",
       "        text-align: right;\n",
       "    }\n",
       "</style>\n",
       "<table border=\"1\" class=\"dataframe\">\n",
       "  <thead>\n",
       "    <tr style=\"text-align: right;\">\n",
       "      <th></th>\n",
       "      <th>Zone</th>\n",
       "      <th>Kcal/personne/an</th>\n",
       "      <th>popTotale</th>\n",
       "      <th>ratioKcal</th>\n",
       "      <th>dispoAlimKcal</th>\n",
       "    </tr>\n",
       "  </thead>\n",
       "  <tbody>\n",
       "    <tr>\n",
       "      <th>0</th>\n",
       "      <td>Inde</td>\n",
       "      <td>895710.0</td>\n",
       "      <td>1338.68</td>\n",
       "      <td>1.06</td>\n",
       "      <td>1412.95</td>\n",
       "    </tr>\n",
       "    <tr>\n",
       "      <th>1</th>\n",
       "      <td>États-Unis d'Amérique</td>\n",
       "      <td>1343930.0</td>\n",
       "      <td>325.08</td>\n",
       "      <td>1.58</td>\n",
       "      <td>514.82</td>\n",
       "    </tr>\n",
       "    <tr>\n",
       "      <th>2</th>\n",
       "      <td>Indonésie</td>\n",
       "      <td>1013240.0</td>\n",
       "      <td>264.65</td>\n",
       "      <td>1.19</td>\n",
       "      <td>315.99</td>\n",
       "    </tr>\n",
       "    <tr>\n",
       "      <th>3</th>\n",
       "      <td>Brésil</td>\n",
       "      <td>1190630.0</td>\n",
       "      <td>207.83</td>\n",
       "      <td>1.40</td>\n",
       "      <td>291.59</td>\n",
       "    </tr>\n",
       "    <tr>\n",
       "      <th>4</th>\n",
       "      <td>Nigéria</td>\n",
       "      <td>985500.0</td>\n",
       "      <td>190.87</td>\n",
       "      <td>1.16</td>\n",
       "      <td>221.66</td>\n",
       "    </tr>\n",
       "  </tbody>\n",
       "</table>\n",
       "</div>"
      ],
      "text/plain": [
       "                    Zone  Kcal/personne/an  popTotale  ratioKcal  \\\n",
       "0                   Inde          895710.0    1338.68       1.06   \n",
       "1  États-Unis d'Amérique         1343930.0     325.08       1.58   \n",
       "2              Indonésie         1013240.0     264.65       1.19   \n",
       "3                 Brésil         1190630.0     207.83       1.40   \n",
       "4                Nigéria          985500.0     190.87       1.16   \n",
       "\n",
       "   dispoAlimKcal  \n",
       "0        1412.95  \n",
       "1         514.82  \n",
       "2         315.99  \n",
       "3         291.59  \n",
       "4         221.66  "
      ]
     },
     "metadata": {},
     "output_type": "display_data"
    }
   ],
   "source": [
    "# Organisation des données et reset de l'index\n",
    "dispo_alim = dispo_alim.sort_values(\"dispoAlimKcal\", ascending=False)\n",
    "display(dispo_alim.reset_index(drop=True).head().round(2))"
   ]
  },
  {
   "cell_type": "markdown",
   "id": "c7dab007",
   "metadata": {},
   "source": [
    "### Nombre théorique de personnes qui pourraient être nourries dans le monde<a class=\"anchor\" id=\"section_2_4\"></a>"
   ]
  },
  {
   "cell_type": "code",
   "execution_count": 36,
   "id": "794729a0",
   "metadata": {},
   "outputs": [
    {
     "name": "stdout",
     "output_type": "stream",
     "text": [
      "Pour l'année 2017, le nombre théorique de personnes pourraient être nourries est de 7.065 milliards.\n"
     ]
    }
   ],
   "source": [
    "sum_dispo = (dispo_alim[\"dispoAlimKcal\"].sum())/1000\n",
    "\n",
    "print(\"Pour l'année 2017, le nombre théorique de personnes pourraient être nourries est de\", round(sum_dispo, 3), \"milliards.\")"
   ]
  },
  {
   "cell_type": "markdown",
   "id": "c7436b1c",
   "metadata": {},
   "source": [
    "## Requête 3 : Nombre théorique de personnes qui pourraient être nourries avec des produits végétaux<a class=\"anchor\" id=\"question3\"></a>"
   ]
  },
  {
   "cell_type": "markdown",
   "id": "d20bba67",
   "metadata": {},
   "source": [
    "### Somme des Kcals/personne/an par pays pour les produits végétaux<a class=\"anchor\" id=\"section_3_1\"></a>"
   ]
  },
  {
   "cell_type": "code",
   "execution_count": 37,
   "id": "6530eb33",
   "metadata": {},
   "outputs": [],
   "source": [
    "# Filtrer les produits \"Végétales\"\n",
    "dispo_pop_veg = dispo_alimentaire[(dispo_alimentaire[\"Origine\"] == \"vegetale\")]"
   ]
  },
  {
   "cell_type": "code",
   "execution_count": 38,
   "id": "1cd7d8e6",
   "metadata": {},
   "outputs": [],
   "source": [
    "# Jointure des données de population totale et de la disponibilité alimentaire des produits végétaux\n",
    "dispo_pop_veg = pd.merge(dispo_pop_veg, population_2017, how=\"left\", on=\"Zone\")"
   ]
  },
  {
   "cell_type": "code",
   "execution_count": 39,
   "id": "7b5f9ebc",
   "metadata": {},
   "outputs": [
    {
     "data": {
      "text/html": [
       "<div>\n",
       "<style scoped>\n",
       "    .dataframe tbody tr th:only-of-type {\n",
       "        vertical-align: middle;\n",
       "    }\n",
       "\n",
       "    .dataframe tbody tr th {\n",
       "        vertical-align: top;\n",
       "    }\n",
       "\n",
       "    .dataframe thead th {\n",
       "        text-align: right;\n",
       "    }\n",
       "</style>\n",
       "<table border=\"1\" class=\"dataframe\">\n",
       "  <thead>\n",
       "    <tr style=\"text-align: right;\">\n",
       "      <th></th>\n",
       "      <th>Zone</th>\n",
       "      <th>Kcal/personne/an</th>\n",
       "    </tr>\n",
       "  </thead>\n",
       "  <tbody>\n",
       "    <tr>\n",
       "      <th>0</th>\n",
       "      <td>Afghanistan</td>\n",
       "      <td>682915.0</td>\n",
       "    </tr>\n",
       "    <tr>\n",
       "      <th>1</th>\n",
       "      <td>Afrique du Sud</td>\n",
       "      <td>924545.0</td>\n",
       "    </tr>\n",
       "    <tr>\n",
       "      <th>2</th>\n",
       "      <td>Albanie</td>\n",
       "      <td>804095.0</td>\n",
       "    </tr>\n",
       "    <tr>\n",
       "      <th>3</th>\n",
       "      <td>Algérie</td>\n",
       "      <td>1063975.0</td>\n",
       "    </tr>\n",
       "    <tr>\n",
       "      <th>4</th>\n",
       "      <td>Allemagne</td>\n",
       "      <td>898265.0</td>\n",
       "    </tr>\n",
       "  </tbody>\n",
       "</table>\n",
       "</div>"
      ],
      "text/plain": [
       "             Zone  Kcal/personne/an\n",
       "0     Afghanistan          682915.0\n",
       "1  Afrique du Sud          924545.0\n",
       "2         Albanie          804095.0\n",
       "3         Algérie         1063975.0\n",
       "4       Allemagne          898265.0"
      ]
     },
     "execution_count": 39,
     "metadata": {},
     "output_type": "execute_result"
    }
   ],
   "source": [
    "# Grouper par pays\n",
    "dispo_pop_veg_pays = dispo_pop_veg.groupby([\"Zone\"])[\"Kcal/personne/an\"].sum().reset_index()\n",
    "dispo_pop_veg_pays.head()"
   ]
  },
  {
   "cell_type": "code",
   "execution_count": 40,
   "id": "51516f89",
   "metadata": {},
   "outputs": [],
   "source": [
    "# Jointure des données de population et des données de disponibilité alimentaire par pays\n",
    "df_dispo_veg = pd.merge(dispo_pop_veg_pays, population_2017, how=\"left\", on=\"Zone\")"
   ]
  },
  {
   "cell_type": "code",
   "execution_count": 41,
   "id": "abcc52af",
   "metadata": {},
   "outputs": [
    {
     "data": {
      "text/html": [
       "<div>\n",
       "<style scoped>\n",
       "    .dataframe tbody tr th:only-of-type {\n",
       "        vertical-align: middle;\n",
       "    }\n",
       "\n",
       "    .dataframe tbody tr th {\n",
       "        vertical-align: top;\n",
       "    }\n",
       "\n",
       "    .dataframe thead th {\n",
       "        text-align: right;\n",
       "    }\n",
       "</style>\n",
       "<table border=\"1\" class=\"dataframe\">\n",
       "  <thead>\n",
       "    <tr style=\"text-align: right;\">\n",
       "      <th></th>\n",
       "      <th>Zone</th>\n",
       "      <th>Kcal/personne/an</th>\n",
       "      <th>popTotale</th>\n",
       "    </tr>\n",
       "  </thead>\n",
       "  <tbody>\n",
       "    <tr>\n",
       "      <th>0</th>\n",
       "      <td>Afghanistan</td>\n",
       "      <td>682915.0</td>\n",
       "      <td>36.30</td>\n",
       "    </tr>\n",
       "    <tr>\n",
       "      <th>1</th>\n",
       "      <td>Afrique du Sud</td>\n",
       "      <td>924545.0</td>\n",
       "      <td>57.01</td>\n",
       "    </tr>\n",
       "    <tr>\n",
       "      <th>2</th>\n",
       "      <td>Albanie</td>\n",
       "      <td>804095.0</td>\n",
       "      <td>2.88</td>\n",
       "    </tr>\n",
       "    <tr>\n",
       "      <th>3</th>\n",
       "      <td>Algérie</td>\n",
       "      <td>1063975.0</td>\n",
       "      <td>41.39</td>\n",
       "    </tr>\n",
       "    <tr>\n",
       "      <th>4</th>\n",
       "      <td>Allemagne</td>\n",
       "      <td>898265.0</td>\n",
       "      <td>82.66</td>\n",
       "    </tr>\n",
       "  </tbody>\n",
       "</table>\n",
       "</div>"
      ],
      "text/plain": [
       "             Zone  Kcal/personne/an  popTotale\n",
       "0     Afghanistan          682915.0      36.30\n",
       "1  Afrique du Sud          924545.0      57.01\n",
       "2         Albanie          804095.0       2.88\n",
       "3         Algérie         1063975.0      41.39\n",
       "4       Allemagne          898265.0      82.66"
      ]
     },
     "execution_count": 41,
     "metadata": {},
     "output_type": "execute_result"
    }
   ],
   "source": [
    "# Filtrer les colonnes\n",
    "df_dispo_veg = df_dispo_veg[[\"Zone\", \"Kcal/personne/an\", \"popTotale\"]]\n",
    "df_dispo_veg.reset_index(drop=True).head().round(2)"
   ]
  },
  {
   "cell_type": "markdown",
   "id": "b7ec450c",
   "metadata": {},
   "source": [
    "### Proportion de la population totale qui pourraient être nourrie avec des produits végétaux par pays<a class=\"anchor\" id=\"section_3_2\"></a>"
   ]
  },
  {
   "cell_type": "code",
   "execution_count": 42,
   "id": "8434c159",
   "metadata": {},
   "outputs": [
    {
     "data": {
      "text/html": [
       "<div>\n",
       "<style scoped>\n",
       "    .dataframe tbody tr th:only-of-type {\n",
       "        vertical-align: middle;\n",
       "    }\n",
       "\n",
       "    .dataframe tbody tr th {\n",
       "        vertical-align: top;\n",
       "    }\n",
       "\n",
       "    .dataframe thead th {\n",
       "        text-align: right;\n",
       "    }\n",
       "</style>\n",
       "<table border=\"1\" class=\"dataframe\">\n",
       "  <thead>\n",
       "    <tr style=\"text-align: right;\">\n",
       "      <th></th>\n",
       "      <th>Zone</th>\n",
       "      <th>Kcal/personne/an</th>\n",
       "      <th>popTotale</th>\n",
       "      <th>ratioKcal</th>\n",
       "    </tr>\n",
       "  </thead>\n",
       "  <tbody>\n",
       "    <tr>\n",
       "      <th>0</th>\n",
       "      <td>Afghanistan</td>\n",
       "      <td>682915.0</td>\n",
       "      <td>36.30</td>\n",
       "      <td>0.80</td>\n",
       "    </tr>\n",
       "    <tr>\n",
       "      <th>1</th>\n",
       "      <td>Afrique du Sud</td>\n",
       "      <td>924545.0</td>\n",
       "      <td>57.01</td>\n",
       "      <td>1.09</td>\n",
       "    </tr>\n",
       "    <tr>\n",
       "      <th>2</th>\n",
       "      <td>Albanie</td>\n",
       "      <td>804095.0</td>\n",
       "      <td>2.88</td>\n",
       "      <td>0.95</td>\n",
       "    </tr>\n",
       "    <tr>\n",
       "      <th>3</th>\n",
       "      <td>Algérie</td>\n",
       "      <td>1063975.0</td>\n",
       "      <td>41.39</td>\n",
       "      <td>1.25</td>\n",
       "    </tr>\n",
       "    <tr>\n",
       "      <th>4</th>\n",
       "      <td>Allemagne</td>\n",
       "      <td>898265.0</td>\n",
       "      <td>82.66</td>\n",
       "      <td>1.06</td>\n",
       "    </tr>\n",
       "  </tbody>\n",
       "</table>\n",
       "</div>"
      ],
      "text/plain": [
       "             Zone  Kcal/personne/an  popTotale  ratioKcal\n",
       "0     Afghanistan          682915.0      36.30       0.80\n",
       "1  Afrique du Sud          924545.0      57.01       1.09\n",
       "2         Albanie          804095.0       2.88       0.95\n",
       "3         Algérie         1063975.0      41.39       1.25\n",
       "4       Allemagne          898265.0      82.66       1.06"
      ]
     },
     "execution_count": 42,
     "metadata": {},
     "output_type": "execute_result"
    }
   ],
   "source": [
    "df_dispo_veg[\"ratioKcal\"] = df_dispo_veg[\"Kcal/personne/an\"]/besoin_kcal\n",
    "df_dispo_veg.head().round(2)"
   ]
  },
  {
   "cell_type": "markdown",
   "id": "bba79610",
   "metadata": {},
   "source": [
    "### Nombre théorique de personnes qui pourraient être nourries avec des produits végétaux par pays<a class=\"anchor\" id=\"section_3_3\"></a>"
   ]
  },
  {
   "cell_type": "code",
   "execution_count": 43,
   "id": "7909658a",
   "metadata": {},
   "outputs": [
    {
     "data": {
      "text/html": [
       "<div>\n",
       "<style scoped>\n",
       "    .dataframe tbody tr th:only-of-type {\n",
       "        vertical-align: middle;\n",
       "    }\n",
       "\n",
       "    .dataframe tbody tr th {\n",
       "        vertical-align: top;\n",
       "    }\n",
       "\n",
       "    .dataframe thead th {\n",
       "        text-align: right;\n",
       "    }\n",
       "</style>\n",
       "<table border=\"1\" class=\"dataframe\">\n",
       "  <thead>\n",
       "    <tr style=\"text-align: right;\">\n",
       "      <th></th>\n",
       "      <th>Zone</th>\n",
       "      <th>Kcal/personne/an</th>\n",
       "      <th>popTotale</th>\n",
       "      <th>ratioKcal</th>\n",
       "      <th>dispoAlimKcal</th>\n",
       "    </tr>\n",
       "  </thead>\n",
       "  <tbody>\n",
       "    <tr>\n",
       "      <th>0</th>\n",
       "      <td>Afghanistan</td>\n",
       "      <td>682915.0</td>\n",
       "      <td>36.30</td>\n",
       "      <td>0.80</td>\n",
       "      <td>29.21</td>\n",
       "    </tr>\n",
       "    <tr>\n",
       "      <th>1</th>\n",
       "      <td>Afrique du Sud</td>\n",
       "      <td>924545.0</td>\n",
       "      <td>57.01</td>\n",
       "      <td>1.09</td>\n",
       "      <td>62.11</td>\n",
       "    </tr>\n",
       "    <tr>\n",
       "      <th>2</th>\n",
       "      <td>Albanie</td>\n",
       "      <td>804095.0</td>\n",
       "      <td>2.88</td>\n",
       "      <td>0.95</td>\n",
       "      <td>2.73</td>\n",
       "    </tr>\n",
       "    <tr>\n",
       "      <th>3</th>\n",
       "      <td>Algérie</td>\n",
       "      <td>1063975.0</td>\n",
       "      <td>41.39</td>\n",
       "      <td>1.25</td>\n",
       "      <td>51.89</td>\n",
       "    </tr>\n",
       "    <tr>\n",
       "      <th>4</th>\n",
       "      <td>Allemagne</td>\n",
       "      <td>898265.0</td>\n",
       "      <td>82.66</td>\n",
       "      <td>1.06</td>\n",
       "      <td>87.49</td>\n",
       "    </tr>\n",
       "  </tbody>\n",
       "</table>\n",
       "</div>"
      ],
      "text/plain": [
       "             Zone  Kcal/personne/an  popTotale  ratioKcal  dispoAlimKcal\n",
       "0     Afghanistan          682915.0      36.30       0.80          29.21\n",
       "1  Afrique du Sud          924545.0      57.01       1.09          62.11\n",
       "2         Albanie          804095.0       2.88       0.95           2.73\n",
       "3         Algérie         1063975.0      41.39       1.25          51.89\n",
       "4       Allemagne          898265.0      82.66       1.06          87.49"
      ]
     },
     "execution_count": 43,
     "metadata": {},
     "output_type": "execute_result"
    }
   ],
   "source": [
    "df_dispo_veg[\"dispoAlimKcal\"] = df_dispo_veg[\"popTotale\"]*df_dispo_veg[\"ratioKcal\"]\n",
    "df_dispo_veg.head().round(2)"
   ]
  },
  {
   "cell_type": "code",
   "execution_count": 44,
   "id": "2329e47c",
   "metadata": {},
   "outputs": [
    {
     "data": {
      "text/html": [
       "<div>\n",
       "<style scoped>\n",
       "    .dataframe tbody tr th:only-of-type {\n",
       "        vertical-align: middle;\n",
       "    }\n",
       "\n",
       "    .dataframe tbody tr th {\n",
       "        vertical-align: top;\n",
       "    }\n",
       "\n",
       "    .dataframe thead th {\n",
       "        text-align: right;\n",
       "    }\n",
       "</style>\n",
       "<table border=\"1\" class=\"dataframe\">\n",
       "  <thead>\n",
       "    <tr style=\"text-align: right;\">\n",
       "      <th></th>\n",
       "      <th>Zone</th>\n",
       "      <th>Kcal/personne/an</th>\n",
       "      <th>popTotale</th>\n",
       "      <th>ratioKcal</th>\n",
       "      <th>dispoAlimKcal</th>\n",
       "    </tr>\n",
       "  </thead>\n",
       "  <tbody>\n",
       "    <tr>\n",
       "      <th>0</th>\n",
       "      <td>Inde</td>\n",
       "      <td>809935.0</td>\n",
       "      <td>1338.68</td>\n",
       "      <td>0.95</td>\n",
       "      <td>1277.64</td>\n",
       "    </tr>\n",
       "    <tr>\n",
       "      <th>1</th>\n",
       "      <td>États-Unis d'Amérique</td>\n",
       "      <td>984770.0</td>\n",
       "      <td>325.08</td>\n",
       "      <td>1.16</td>\n",
       "      <td>377.24</td>\n",
       "    </tr>\n",
       "    <tr>\n",
       "      <th>2</th>\n",
       "      <td>Indonésie</td>\n",
       "      <td>946810.0</td>\n",
       "      <td>264.65</td>\n",
       "      <td>1.12</td>\n",
       "      <td>295.27</td>\n",
       "    </tr>\n",
       "    <tr>\n",
       "      <th>3</th>\n",
       "      <td>Brésil</td>\n",
       "      <td>888775.0</td>\n",
       "      <td>207.83</td>\n",
       "      <td>1.05</td>\n",
       "      <td>217.67</td>\n",
       "    </tr>\n",
       "    <tr>\n",
       "      <th>4</th>\n",
       "      <td>Nigéria</td>\n",
       "      <td>947540.0</td>\n",
       "      <td>190.87</td>\n",
       "      <td>1.12</td>\n",
       "      <td>213.12</td>\n",
       "    </tr>\n",
       "  </tbody>\n",
       "</table>\n",
       "</div>"
      ],
      "text/plain": [
       "                    Zone  Kcal/personne/an  popTotale  ratioKcal  \\\n",
       "0                   Inde          809935.0    1338.68       0.95   \n",
       "1  États-Unis d'Amérique          984770.0     325.08       1.16   \n",
       "2              Indonésie          946810.0     264.65       1.12   \n",
       "3                 Brésil          888775.0     207.83       1.05   \n",
       "4                Nigéria          947540.0     190.87       1.12   \n",
       "\n",
       "   dispoAlimKcal  \n",
       "0        1277.64  \n",
       "1         377.24  \n",
       "2         295.27  \n",
       "3         217.67  \n",
       "4         213.12  "
      ]
     },
     "metadata": {},
     "output_type": "display_data"
    }
   ],
   "source": [
    "# Organisation des données et reset de l'index\n",
    "df_dispo_veg = df_dispo_veg.sort_values(\"dispoAlimKcal\", ascending=False)\n",
    "display(df_dispo_veg.reset_index(drop=True).head().round(2))"
   ]
  },
  {
   "cell_type": "markdown",
   "id": "aa194e60",
   "metadata": {},
   "source": [
    "### Nombre théorique de personnes qui pourraient être nourries avec des produits végétaux dans le monde<a class=\"anchor\" id=\"section_3_4\"></a>"
   ]
  },
  {
   "cell_type": "code",
   "execution_count": 45,
   "id": "6b5749e0",
   "metadata": {},
   "outputs": [
    {
     "name": "stdout",
     "output_type": "stream",
     "text": [
      "Pour l'année 2017, le nombre théorique de personnes pourraient être nourries avec des produits végétaux est de 5.94 milliards.\n"
     ]
    }
   ],
   "source": [
    "sum_dispo_veg = (df_dispo_veg[\"dispoAlimKcal\"].sum())/1000\n",
    "\n",
    "print(\"Pour l'année 2017, le nombre théorique de personnes pourraient être nourries avec des produits végétaux est de\", round(sum_dispo_veg, 2), \"milliards.\")"
   ]
  },
  {
   "cell_type": "markdown",
   "id": "ca017c85",
   "metadata": {},
   "source": [
    "## Requête 4 : Utilisation de la disponibilité intérieure<a class=\"anchor\" id=\"question4\"></a>"
   ]
  },
  {
   "cell_type": "markdown",
   "id": "ec515e12",
   "metadata": {},
   "source": [
    "### Somme de la disponibilité intérieure mondiale<a class=\"anchor\" id=\"section_4_1\"></a>"
   ]
  },
  {
   "cell_type": "code",
   "execution_count": 46,
   "id": "9fde325a",
   "metadata": {},
   "outputs": [],
   "source": [
    "dispo_int_monde = dispo_alimentaire[(dispo_alimentaire[\"dispoMilliersTonnes\"] >0)]"
   ]
  },
  {
   "cell_type": "code",
   "execution_count": 47,
   "id": "0c582a03",
   "metadata": {},
   "outputs": [
    {
     "name": "stdout",
     "output_type": "stream",
     "text": [
      "La disponibilité intérieure mondiale est de 9854329 milliers de tonnes.\n"
     ]
    }
   ],
   "source": [
    "dispo_int_monde = dispo_int_monde[\"dispoMilliersTonnes\"].sum()\n",
    "\n",
    "print(\"La disponibilité intérieure mondiale est de\", round(dispo_int_monde), \"milliers de tonnes.\")"
   ]
  },
  {
   "cell_type": "markdown",
   "id": "7bdc8a1f",
   "metadata": {},
   "source": [
    "### Somme de la disponibilité intérieure par pays<a class=\"anchor\" id=\"section_4_2\"></a>"
   ]
  },
  {
   "cell_type": "code",
   "execution_count": 48,
   "id": "dfef6ac5",
   "metadata": {},
   "outputs": [
    {
     "data": {
      "text/html": [
       "<div>\n",
       "<style scoped>\n",
       "    .dataframe tbody tr th:only-of-type {\n",
       "        vertical-align: middle;\n",
       "    }\n",
       "\n",
       "    .dataframe tbody tr th {\n",
       "        vertical-align: top;\n",
       "    }\n",
       "\n",
       "    .dataframe thead th {\n",
       "        text-align: right;\n",
       "    }\n",
       "</style>\n",
       "<table border=\"1\" class=\"dataframe\">\n",
       "  <thead>\n",
       "    <tr style=\"text-align: right;\">\n",
       "      <th></th>\n",
       "      <th>Zone</th>\n",
       "      <th>dispoMilliersTonnes</th>\n",
       "    </tr>\n",
       "  </thead>\n",
       "  <tbody>\n",
       "    <tr>\n",
       "      <th>0</th>\n",
       "      <td>Afghanistan</td>\n",
       "      <td>13515.0</td>\n",
       "    </tr>\n",
       "    <tr>\n",
       "      <th>1</th>\n",
       "      <td>Afrique du Sud</td>\n",
       "      <td>61256.0</td>\n",
       "    </tr>\n",
       "    <tr>\n",
       "      <th>2</th>\n",
       "      <td>Albanie</td>\n",
       "      <td>4758.0</td>\n",
       "    </tr>\n",
       "    <tr>\n",
       "      <th>3</th>\n",
       "      <td>Algérie</td>\n",
       "      <td>42630.0</td>\n",
       "    </tr>\n",
       "    <tr>\n",
       "      <th>4</th>\n",
       "      <td>Allemagne</td>\n",
       "      <td>162275.0</td>\n",
       "    </tr>\n",
       "  </tbody>\n",
       "</table>\n",
       "</div>"
      ],
      "text/plain": [
       "             Zone  dispoMilliersTonnes\n",
       "0     Afghanistan              13515.0\n",
       "1  Afrique du Sud              61256.0\n",
       "2         Albanie               4758.0\n",
       "3         Algérie              42630.0\n",
       "4       Allemagne             162275.0"
      ]
     },
     "execution_count": 48,
     "metadata": {},
     "output_type": "execute_result"
    }
   ],
   "source": [
    "dispo_int_pays = dispo_alimentaire.groupby([\"Zone\"])[\"dispoMilliersTonnes\"].sum().reset_index()\n",
    "dispo_int_pays.head()"
   ]
  },
  {
   "cell_type": "markdown",
   "id": "7778cd5e",
   "metadata": {},
   "source": [
    "## Attribué à l'alimentation animale<a class=\"anchor\" id=\"section_4_3\"></a>"
   ]
  },
  {
   "cell_type": "markdown",
   "id": "ce8045e5",
   "metadata": {},
   "source": [
    "### Proportion mondiale de la disponibilité intérieure attribuée à l'alimentation animale<a class=\"anchor\" id=\"sub_section_4_3_2\"></a>"
   ]
  },
  {
   "cell_type": "code",
   "execution_count": 49,
   "id": "55f05ff3",
   "metadata": {},
   "outputs": [],
   "source": [
    "# Filtrer les données\n",
    "quantité_animaux = dispo_alimentaire[(dispo_alimentaire[\"Aliments pour animaux\"] >0)]"
   ]
  },
  {
   "cell_type": "code",
   "execution_count": 50,
   "id": "e6114475",
   "metadata": {},
   "outputs": [
    {
     "name": "stdout",
     "output_type": "stream",
     "text": [
      "La quantité de disponibilité intérieure attribuée à l’alimentation animale est de 1304245 milliers de tonnes\n"
     ]
    }
   ],
   "source": [
    "quantité_animaux = dispo_alimentaire[\"Aliments pour animaux\"].sum()\n",
    "\n",
    "print(\"La quantité de disponibilité intérieure attribuée à l’alimentation animale est de\", round(quantité_animaux), \"milliers de tonnes\")"
   ]
  },
  {
   "cell_type": "code",
   "execution_count": 51,
   "id": "49bb0bb4",
   "metadata": {},
   "outputs": [
    {
     "name": "stdout",
     "output_type": "stream",
     "text": [
      "La part de la disponibilité intérieure attribuée à l’alimentation animale est de 13.24 %\n"
     ]
    }
   ],
   "source": [
    "part_dédiée_animaux = (quantité_animaux / dispo_int_monde)*100\n",
    "\n",
    "print(\"La part de la disponibilité intérieure attribuée à l’alimentation animale est de\", round(part_dédiée_animaux, 2), \"%\")"
   ]
  },
  {
   "cell_type": "markdown",
   "id": "3f8aa60e",
   "metadata": {},
   "source": [
    "### Proportion de la disponibilité intérieure attribuée à l'alimentation animale par pays<a class=\"anchor\" id=\"sub_section_4_3_1\"></a>"
   ]
  },
  {
   "cell_type": "code",
   "execution_count": 52,
   "id": "795d5b3b",
   "metadata": {},
   "outputs": [
    {
     "data": {
      "text/html": [
       "<div>\n",
       "<style scoped>\n",
       "    .dataframe tbody tr th:only-of-type {\n",
       "        vertical-align: middle;\n",
       "    }\n",
       "\n",
       "    .dataframe tbody tr th {\n",
       "        vertical-align: top;\n",
       "    }\n",
       "\n",
       "    .dataframe thead th {\n",
       "        text-align: right;\n",
       "    }\n",
       "</style>\n",
       "<table border=\"1\" class=\"dataframe\">\n",
       "  <thead>\n",
       "    <tr style=\"text-align: right;\">\n",
       "      <th></th>\n",
       "      <th>Zone</th>\n",
       "      <th>Aliments pour animaux</th>\n",
       "      <th>dispoMilliersTonnes</th>\n",
       "    </tr>\n",
       "  </thead>\n",
       "  <tbody>\n",
       "    <tr>\n",
       "      <th>29</th>\n",
       "      <td>Afghanistan</td>\n",
       "      <td>123.0</td>\n",
       "      <td>2083.0</td>\n",
       "    </tr>\n",
       "    <tr>\n",
       "      <th>31</th>\n",
       "      <td>Afghanistan</td>\n",
       "      <td>4.0</td>\n",
       "      <td>86.0</td>\n",
       "    </tr>\n",
       "    <tr>\n",
       "      <th>32</th>\n",
       "      <td>Afghanistan</td>\n",
       "      <td>200.0</td>\n",
       "      <td>313.0</td>\n",
       "    </tr>\n",
       "    <tr>\n",
       "      <th>40</th>\n",
       "      <td>Afghanistan</td>\n",
       "      <td>360.0</td>\n",
       "      <td>524.0</td>\n",
       "    </tr>\n",
       "    <tr>\n",
       "      <th>50</th>\n",
       "      <td>Afghanistan</td>\n",
       "      <td>81.0</td>\n",
       "      <td>90.0</td>\n",
       "    </tr>\n",
       "  </tbody>\n",
       "</table>\n",
       "</div>"
      ],
      "text/plain": [
       "           Zone  Aliments pour animaux  dispoMilliersTonnes\n",
       "29  Afghanistan                  123.0               2083.0\n",
       "31  Afghanistan                    4.0                 86.0\n",
       "32  Afghanistan                  200.0                313.0\n",
       "40  Afghanistan                  360.0                524.0\n",
       "50  Afghanistan                   81.0                 90.0"
      ]
     },
     "metadata": {},
     "output_type": "display_data"
    }
   ],
   "source": [
    "# Filtrer les colonnes \n",
    "part_animaux = dispo_alimentaire[(dispo_alimentaire[\"Aliments pour animaux\"] >0)]\n",
    "display(part_animaux[[\"Zone\", \"Aliments pour animaux\", \"dispoMilliersTonnes\"]].head())"
   ]
  },
  {
   "cell_type": "code",
   "execution_count": 53,
   "id": "25cf276b",
   "metadata": {},
   "outputs": [
    {
     "data": {
      "text/html": [
       "<div>\n",
       "<style scoped>\n",
       "    .dataframe tbody tr th:only-of-type {\n",
       "        vertical-align: middle;\n",
       "    }\n",
       "\n",
       "    .dataframe tbody tr th {\n",
       "        vertical-align: top;\n",
       "    }\n",
       "\n",
       "    .dataframe thead th {\n",
       "        text-align: right;\n",
       "    }\n",
       "</style>\n",
       "<table border=\"1\" class=\"dataframe\">\n",
       "  <thead>\n",
       "    <tr style=\"text-align: right;\">\n",
       "      <th></th>\n",
       "      <th>Zone</th>\n",
       "      <th>Aliments pour animaux</th>\n",
       "    </tr>\n",
       "  </thead>\n",
       "  <tbody>\n",
       "    <tr>\n",
       "      <th>0</th>\n",
       "      <td>Afghanistan</td>\n",
       "      <td>768.0</td>\n",
       "    </tr>\n",
       "    <tr>\n",
       "      <th>1</th>\n",
       "      <td>Afrique du Sud</td>\n",
       "      <td>5309.0</td>\n",
       "    </tr>\n",
       "    <tr>\n",
       "      <th>2</th>\n",
       "      <td>Albanie</td>\n",
       "      <td>660.0</td>\n",
       "    </tr>\n",
       "    <tr>\n",
       "      <th>3</th>\n",
       "      <td>Algérie</td>\n",
       "      <td>4352.0</td>\n",
       "    </tr>\n",
       "    <tr>\n",
       "      <th>4</th>\n",
       "      <td>Allemagne</td>\n",
       "      <td>30209.0</td>\n",
       "    </tr>\n",
       "  </tbody>\n",
       "</table>\n",
       "</div>"
      ],
      "text/plain": [
       "             Zone  Aliments pour animaux\n",
       "0     Afghanistan                  768.0\n",
       "1  Afrique du Sud                 5309.0\n",
       "2         Albanie                  660.0\n",
       "3         Algérie                 4352.0\n",
       "4       Allemagne                30209.0"
      ]
     },
     "execution_count": 53,
     "metadata": {},
     "output_type": "execute_result"
    }
   ],
   "source": [
    "# Grouper par pays\n",
    "part_animaux_pays = part_animaux.groupby([\"Zone\"])[\"Aliments pour animaux\"].sum().reset_index()\n",
    "part_animaux_pays.head()"
   ]
  },
  {
   "cell_type": "code",
   "execution_count": 54,
   "id": "ff0020e0",
   "metadata": {},
   "outputs": [
    {
     "data": {
      "text/html": [
       "<div>\n",
       "<style scoped>\n",
       "    .dataframe tbody tr th:only-of-type {\n",
       "        vertical-align: middle;\n",
       "    }\n",
       "\n",
       "    .dataframe tbody tr th {\n",
       "        vertical-align: top;\n",
       "    }\n",
       "\n",
       "    .dataframe thead th {\n",
       "        text-align: right;\n",
       "    }\n",
       "</style>\n",
       "<table border=\"1\" class=\"dataframe\">\n",
       "  <thead>\n",
       "    <tr style=\"text-align: right;\">\n",
       "      <th></th>\n",
       "      <th>Zone</th>\n",
       "      <th>dispoMilliersTonnes</th>\n",
       "      <th>Aliments pour animaux</th>\n",
       "    </tr>\n",
       "  </thead>\n",
       "  <tbody>\n",
       "    <tr>\n",
       "      <th>0</th>\n",
       "      <td>Afghanistan</td>\n",
       "      <td>13515.0</td>\n",
       "      <td>768.0</td>\n",
       "    </tr>\n",
       "    <tr>\n",
       "      <th>1</th>\n",
       "      <td>Afrique du Sud</td>\n",
       "      <td>61256.0</td>\n",
       "      <td>5309.0</td>\n",
       "    </tr>\n",
       "    <tr>\n",
       "      <th>2</th>\n",
       "      <td>Albanie</td>\n",
       "      <td>4758.0</td>\n",
       "      <td>660.0</td>\n",
       "    </tr>\n",
       "    <tr>\n",
       "      <th>3</th>\n",
       "      <td>Algérie</td>\n",
       "      <td>42630.0</td>\n",
       "      <td>4352.0</td>\n",
       "    </tr>\n",
       "    <tr>\n",
       "      <th>4</th>\n",
       "      <td>Allemagne</td>\n",
       "      <td>162275.0</td>\n",
       "      <td>30209.0</td>\n",
       "    </tr>\n",
       "  </tbody>\n",
       "</table>\n",
       "</div>"
      ],
      "text/plain": [
       "             Zone  dispoMilliersTonnes  Aliments pour animaux\n",
       "0     Afghanistan              13515.0                  768.0\n",
       "1  Afrique du Sud              61256.0                 5309.0\n",
       "2         Albanie               4758.0                  660.0\n",
       "3         Algérie              42630.0                 4352.0\n",
       "4       Allemagne             162275.0                30209.0"
      ]
     },
     "execution_count": 54,
     "metadata": {},
     "output_type": "execute_result"
    }
   ],
   "source": [
    "# Jointure des données de disponibilité alimentaire par pays et des données de disponibilité alimentaire attribué à l'alimentation animale\n",
    "dispo_partAnimal = pd.merge(dispo_int_pays, part_animaux_pays, how=\"left\", on=\"Zone\")\n",
    "dispo_partAnimal.reset_index(drop=True).head().round(2)"
   ]
  },
  {
   "cell_type": "code",
   "execution_count": 55,
   "id": "fab21001",
   "metadata": {},
   "outputs": [
    {
     "data": {
      "text/html": [
       "<div>\n",
       "<style scoped>\n",
       "    .dataframe tbody tr th:only-of-type {\n",
       "        vertical-align: middle;\n",
       "    }\n",
       "\n",
       "    .dataframe tbody tr th {\n",
       "        vertical-align: top;\n",
       "    }\n",
       "\n",
       "    .dataframe thead th {\n",
       "        text-align: right;\n",
       "    }\n",
       "</style>\n",
       "<table border=\"1\" class=\"dataframe\">\n",
       "  <thead>\n",
       "    <tr style=\"text-align: right;\">\n",
       "      <th></th>\n",
       "      <th>Zone</th>\n",
       "      <th>dispoMilliersTonnes</th>\n",
       "      <th>Aliments pour animaux</th>\n",
       "      <th>ratioDédiéAnimaux</th>\n",
       "    </tr>\n",
       "  </thead>\n",
       "  <tbody>\n",
       "    <tr>\n",
       "      <th>0</th>\n",
       "      <td>Afghanistan</td>\n",
       "      <td>13515.0</td>\n",
       "      <td>768.0</td>\n",
       "      <td>0.06</td>\n",
       "    </tr>\n",
       "    <tr>\n",
       "      <th>1</th>\n",
       "      <td>Afrique du Sud</td>\n",
       "      <td>61256.0</td>\n",
       "      <td>5309.0</td>\n",
       "      <td>0.09</td>\n",
       "    </tr>\n",
       "    <tr>\n",
       "      <th>2</th>\n",
       "      <td>Albanie</td>\n",
       "      <td>4758.0</td>\n",
       "      <td>660.0</td>\n",
       "      <td>0.14</td>\n",
       "    </tr>\n",
       "    <tr>\n",
       "      <th>3</th>\n",
       "      <td>Algérie</td>\n",
       "      <td>42630.0</td>\n",
       "      <td>4352.0</td>\n",
       "      <td>0.10</td>\n",
       "    </tr>\n",
       "    <tr>\n",
       "      <th>4</th>\n",
       "      <td>Allemagne</td>\n",
       "      <td>162275.0</td>\n",
       "      <td>30209.0</td>\n",
       "      <td>0.19</td>\n",
       "    </tr>\n",
       "  </tbody>\n",
       "</table>\n",
       "</div>"
      ],
      "text/plain": [
       "             Zone  dispoMilliersTonnes  Aliments pour animaux  \\\n",
       "0     Afghanistan              13515.0                  768.0   \n",
       "1  Afrique du Sud              61256.0                 5309.0   \n",
       "2         Albanie               4758.0                  660.0   \n",
       "3         Algérie              42630.0                 4352.0   \n",
       "4       Allemagne             162275.0                30209.0   \n",
       "\n",
       "   ratioDédiéAnimaux  \n",
       "0               0.06  \n",
       "1               0.09  \n",
       "2               0.14  \n",
       "3               0.10  \n",
       "4               0.19  "
      ]
     },
     "metadata": {},
     "output_type": "display_data"
    }
   ],
   "source": [
    "dispo_partAnimal[\"ratioDédiéAnimaux\"] = dispo_partAnimal[\"Aliments pour animaux\"]/dispo_partAnimal[\"dispoMilliersTonnes\"]\n",
    "display(dispo_partAnimal.head().round(2))"
   ]
  },
  {
   "cell_type": "code",
   "execution_count": 56,
   "id": "4675a58d",
   "metadata": {},
   "outputs": [
    {
     "data": {
      "text/html": [
       "<div>\n",
       "<style scoped>\n",
       "    .dataframe tbody tr th:only-of-type {\n",
       "        vertical-align: middle;\n",
       "    }\n",
       "\n",
       "    .dataframe tbody tr th {\n",
       "        vertical-align: top;\n",
       "    }\n",
       "\n",
       "    .dataframe thead th {\n",
       "        text-align: right;\n",
       "    }\n",
       "</style>\n",
       "<table border=\"1\" class=\"dataframe\">\n",
       "  <thead>\n",
       "    <tr style=\"text-align: right;\">\n",
       "      <th></th>\n",
       "      <th>Zone</th>\n",
       "      <th>dispoMilliersTonnes</th>\n",
       "      <th>Aliments pour animaux</th>\n",
       "      <th>ratioDédiéAnimaux</th>\n",
       "    </tr>\n",
       "  </thead>\n",
       "  <tbody>\n",
       "    <tr>\n",
       "      <th>0</th>\n",
       "      <td>Danemark</td>\n",
       "      <td>19749.0</td>\n",
       "      <td>7835.0</td>\n",
       "      <td>0.40</td>\n",
       "    </tr>\n",
       "    <tr>\n",
       "      <th>1</th>\n",
       "      <td>Arabie saoudite</td>\n",
       "      <td>31274.0</td>\n",
       "      <td>11841.0</td>\n",
       "      <td>0.38</td>\n",
       "    </tr>\n",
       "    <tr>\n",
       "      <th>2</th>\n",
       "      <td>Bélarus</td>\n",
       "      <td>27522.0</td>\n",
       "      <td>10204.0</td>\n",
       "      <td>0.37</td>\n",
       "    </tr>\n",
       "    <tr>\n",
       "      <th>3</th>\n",
       "      <td>Tadjikistan</td>\n",
       "      <td>7617.0</td>\n",
       "      <td>2775.0</td>\n",
       "      <td>0.36</td>\n",
       "    </tr>\n",
       "    <tr>\n",
       "      <th>4</th>\n",
       "      <td>Irlande</td>\n",
       "      <td>10738.0</td>\n",
       "      <td>3758.0</td>\n",
       "      <td>0.35</td>\n",
       "    </tr>\n",
       "  </tbody>\n",
       "</table>\n",
       "</div>"
      ],
      "text/plain": [
       "              Zone  dispoMilliersTonnes  Aliments pour animaux  \\\n",
       "0         Danemark              19749.0                 7835.0   \n",
       "1  Arabie saoudite              31274.0                11841.0   \n",
       "2          Bélarus              27522.0                10204.0   \n",
       "3      Tadjikistan               7617.0                 2775.0   \n",
       "4          Irlande              10738.0                 3758.0   \n",
       "\n",
       "   ratioDédiéAnimaux  \n",
       "0               0.40  \n",
       "1               0.38  \n",
       "2               0.37  \n",
       "3               0.36  \n",
       "4               0.35  "
      ]
     },
     "execution_count": 56,
     "metadata": {},
     "output_type": "execute_result"
    }
   ],
   "source": [
    "# Organisation des données et reset de l'index\n",
    "dispo_partAnimal = dispo_partAnimal.sort_values(\"ratioDédiéAnimaux\", ascending=False)\n",
    "dispo_partAnimal.reset_index(drop=True).head().round(2)"
   ]
  },
  {
   "cell_type": "markdown",
   "id": "79a43c29",
   "metadata": {},
   "source": [
    "## Attribué à l'alimentation humaine<a class=\"anchor\" id=\"section_4_4\"></a>"
   ]
  },
  {
   "cell_type": "markdown",
   "id": "7b064e8e",
   "metadata": {},
   "source": [
    "### Proportion mondiale de la disponibilité intérieure attribuée à l'alimentation humaine<a class=\"anchor\" id=\"sub_section_4_4_2\"></a>"
   ]
  },
  {
   "cell_type": "code",
   "execution_count": 57,
   "id": "699ef7b8",
   "metadata": {},
   "outputs": [],
   "source": [
    "# Filtrer les données\n",
    "quantité_homme = dispo_alimentaire[(dispo_alimentaire[\"Nourriture\"] >0)]"
   ]
  },
  {
   "cell_type": "code",
   "execution_count": 58,
   "id": "fec39a92",
   "metadata": {},
   "outputs": [
    {
     "name": "stdout",
     "output_type": "stream",
     "text": [
      "La quantité de disponibilité intérieure attribuée à l’alimentation humaine est de 4876258 milliers de tonnes\n"
     ]
    }
   ],
   "source": [
    "quantité_homme = dispo_alimentaire[\"Nourriture\"].sum()\n",
    "\n",
    "print(\"La quantité de disponibilité intérieure attribuée à l’alimentation humaine est de\", round(quantité_homme), \"milliers de tonnes\")"
   ]
  },
  {
   "cell_type": "code",
   "execution_count": 59,
   "id": "afbd7dcd",
   "metadata": {},
   "outputs": [
    {
     "name": "stdout",
     "output_type": "stream",
     "text": [
      "La part de la disponibilité intérieure attribuée à l’alimentation humaine est de 49.48 %\n"
     ]
    }
   ],
   "source": [
    "part_dédiée_humain = (quantité_homme / dispo_int_monde)*100\n",
    "\n",
    "print(\"La part de la disponibilité intérieure attribuée à l’alimentation humaine est de\", round(part_dédiée_humain, 2), \"%\")"
   ]
  },
  {
   "cell_type": "markdown",
   "id": "8d5790f2",
   "metadata": {},
   "source": [
    "### Proportion de la disponibilité intérieure attribuée à l'alimentation humaine par pays<a class=\"anchor\" id=\"sub_section_4_4_1\"></a>"
   ]
  },
  {
   "cell_type": "code",
   "execution_count": 60,
   "id": "14468ed4",
   "metadata": {},
   "outputs": [
    {
     "data": {
      "text/html": [
       "<div>\n",
       "<style scoped>\n",
       "    .dataframe tbody tr th:only-of-type {\n",
       "        vertical-align: middle;\n",
       "    }\n",
       "\n",
       "    .dataframe tbody tr th {\n",
       "        vertical-align: top;\n",
       "    }\n",
       "\n",
       "    .dataframe thead th {\n",
       "        text-align: right;\n",
       "    }\n",
       "</style>\n",
       "<table border=\"1\" class=\"dataframe\">\n",
       "  <thead>\n",
       "    <tr style=\"text-align: right;\">\n",
       "      <th></th>\n",
       "      <th>Zone</th>\n",
       "      <th>Nourriture</th>\n",
       "      <th>dispoMilliersTonnes</th>\n",
       "    </tr>\n",
       "  </thead>\n",
       "  <tbody>\n",
       "    <tr>\n",
       "      <th>0</th>\n",
       "      <td>Afghanistan</td>\n",
       "      <td>53.0</td>\n",
       "      <td>53.0</td>\n",
       "    </tr>\n",
       "    <tr>\n",
       "      <th>1</th>\n",
       "      <td>Afghanistan</td>\n",
       "      <td>39.0</td>\n",
       "      <td>41.0</td>\n",
       "    </tr>\n",
       "    <tr>\n",
       "      <th>2</th>\n",
       "      <td>Afghanistan</td>\n",
       "      <td>2.0</td>\n",
       "      <td>2.0</td>\n",
       "    </tr>\n",
       "    <tr>\n",
       "      <th>4</th>\n",
       "      <td>Afghanistan</td>\n",
       "      <td>82.0</td>\n",
       "      <td>82.0</td>\n",
       "    </tr>\n",
       "    <tr>\n",
       "      <th>5</th>\n",
       "      <td>Afghanistan</td>\n",
       "      <td>36.0</td>\n",
       "      <td>36.0</td>\n",
       "    </tr>\n",
       "  </tbody>\n",
       "</table>\n",
       "</div>"
      ],
      "text/plain": [
       "          Zone  Nourriture  dispoMilliersTonnes\n",
       "0  Afghanistan        53.0                 53.0\n",
       "1  Afghanistan        39.0                 41.0\n",
       "2  Afghanistan         2.0                  2.0\n",
       "4  Afghanistan        82.0                 82.0\n",
       "5  Afghanistan        36.0                 36.0"
      ]
     },
     "metadata": {},
     "output_type": "display_data"
    }
   ],
   "source": [
    "# Filtrer les colonnes \n",
    "part_homme = dispo_alimentaire[(dispo_alimentaire[\"Nourriture\"] >0)]\n",
    "display(part_homme[[\"Zone\", \"Nourriture\", \"dispoMilliersTonnes\"]].head())"
   ]
  },
  {
   "cell_type": "code",
   "execution_count": 61,
   "id": "c57fe43d",
   "metadata": {},
   "outputs": [
    {
     "data": {
      "text/html": [
       "<div>\n",
       "<style scoped>\n",
       "    .dataframe tbody tr th:only-of-type {\n",
       "        vertical-align: middle;\n",
       "    }\n",
       "\n",
       "    .dataframe tbody tr th {\n",
       "        vertical-align: top;\n",
       "    }\n",
       "\n",
       "    .dataframe thead th {\n",
       "        text-align: right;\n",
       "    }\n",
       "</style>\n",
       "<table border=\"1\" class=\"dataframe\">\n",
       "  <thead>\n",
       "    <tr style=\"text-align: right;\">\n",
       "      <th></th>\n",
       "      <th>Zone</th>\n",
       "      <th>Nourriture</th>\n",
       "    </tr>\n",
       "  </thead>\n",
       "  <tbody>\n",
       "    <tr>\n",
       "      <th>0</th>\n",
       "      <td>Afghanistan</td>\n",
       "      <td>10735.0</td>\n",
       "    </tr>\n",
       "    <tr>\n",
       "      <th>1</th>\n",
       "      <td>Afrique du Sud</td>\n",
       "      <td>29812.0</td>\n",
       "    </tr>\n",
       "    <tr>\n",
       "      <th>2</th>\n",
       "      <td>Albanie</td>\n",
       "      <td>3476.0</td>\n",
       "    </tr>\n",
       "    <tr>\n",
       "      <th>3</th>\n",
       "      <td>Algérie</td>\n",
       "      <td>31729.0</td>\n",
       "    </tr>\n",
       "    <tr>\n",
       "      <th>4</th>\n",
       "      <td>Allemagne</td>\n",
       "      <td>79238.0</td>\n",
       "    </tr>\n",
       "  </tbody>\n",
       "</table>\n",
       "</div>"
      ],
      "text/plain": [
       "             Zone  Nourriture\n",
       "0     Afghanistan     10735.0\n",
       "1  Afrique du Sud     29812.0\n",
       "2         Albanie      3476.0\n",
       "3         Algérie     31729.0\n",
       "4       Allemagne     79238.0"
      ]
     },
     "execution_count": 61,
     "metadata": {},
     "output_type": "execute_result"
    }
   ],
   "source": [
    "# Grouper par pays\n",
    "part_homme_pays = part_homme.groupby([\"Zone\"])[\"Nourriture\"].sum().reset_index()\n",
    "part_homme_pays.head()"
   ]
  },
  {
   "cell_type": "code",
   "execution_count": 62,
   "id": "cabe2da9",
   "metadata": {},
   "outputs": [
    {
     "data": {
      "text/html": [
       "<div>\n",
       "<style scoped>\n",
       "    .dataframe tbody tr th:only-of-type {\n",
       "        vertical-align: middle;\n",
       "    }\n",
       "\n",
       "    .dataframe tbody tr th {\n",
       "        vertical-align: top;\n",
       "    }\n",
       "\n",
       "    .dataframe thead th {\n",
       "        text-align: right;\n",
       "    }\n",
       "</style>\n",
       "<table border=\"1\" class=\"dataframe\">\n",
       "  <thead>\n",
       "    <tr style=\"text-align: right;\">\n",
       "      <th></th>\n",
       "      <th>Zone</th>\n",
       "      <th>dispoMilliersTonnes</th>\n",
       "      <th>Nourriture</th>\n",
       "    </tr>\n",
       "  </thead>\n",
       "  <tbody>\n",
       "    <tr>\n",
       "      <th>0</th>\n",
       "      <td>Afghanistan</td>\n",
       "      <td>13515.0</td>\n",
       "      <td>10735.0</td>\n",
       "    </tr>\n",
       "    <tr>\n",
       "      <th>1</th>\n",
       "      <td>Afrique du Sud</td>\n",
       "      <td>61256.0</td>\n",
       "      <td>29812.0</td>\n",
       "    </tr>\n",
       "    <tr>\n",
       "      <th>2</th>\n",
       "      <td>Albanie</td>\n",
       "      <td>4758.0</td>\n",
       "      <td>3476.0</td>\n",
       "    </tr>\n",
       "    <tr>\n",
       "      <th>3</th>\n",
       "      <td>Algérie</td>\n",
       "      <td>42630.0</td>\n",
       "      <td>31729.0</td>\n",
       "    </tr>\n",
       "    <tr>\n",
       "      <th>4</th>\n",
       "      <td>Allemagne</td>\n",
       "      <td>162275.0</td>\n",
       "      <td>79238.0</td>\n",
       "    </tr>\n",
       "  </tbody>\n",
       "</table>\n",
       "</div>"
      ],
      "text/plain": [
       "             Zone  dispoMilliersTonnes  Nourriture\n",
       "0     Afghanistan              13515.0     10735.0\n",
       "1  Afrique du Sud              61256.0     29812.0\n",
       "2         Albanie               4758.0      3476.0\n",
       "3         Algérie              42630.0     31729.0\n",
       "4       Allemagne             162275.0     79238.0"
      ]
     },
     "execution_count": 62,
     "metadata": {},
     "output_type": "execute_result"
    }
   ],
   "source": [
    "# Jointure des données de disponibilité alimentaire par pays et des données de disponibilité alimentaire attribué à l'alimentation humaine\n",
    "dispo_partHomme = pd.merge(dispo_int_pays, part_homme_pays, how=\"left\", on=\"Zone\")\n",
    "dispo_partHomme.reset_index(drop=True).head().round(2)"
   ]
  },
  {
   "cell_type": "code",
   "execution_count": 63,
   "id": "42e57841",
   "metadata": {},
   "outputs": [
    {
     "data": {
      "text/html": [
       "<div>\n",
       "<style scoped>\n",
       "    .dataframe tbody tr th:only-of-type {\n",
       "        vertical-align: middle;\n",
       "    }\n",
       "\n",
       "    .dataframe tbody tr th {\n",
       "        vertical-align: top;\n",
       "    }\n",
       "\n",
       "    .dataframe thead th {\n",
       "        text-align: right;\n",
       "    }\n",
       "</style>\n",
       "<table border=\"1\" class=\"dataframe\">\n",
       "  <thead>\n",
       "    <tr style=\"text-align: right;\">\n",
       "      <th></th>\n",
       "      <th>Zone</th>\n",
       "      <th>dispoMilliersTonnes</th>\n",
       "      <th>Nourriture</th>\n",
       "      <th>ratioDédiéHomme</th>\n",
       "    </tr>\n",
       "  </thead>\n",
       "  <tbody>\n",
       "    <tr>\n",
       "      <th>0</th>\n",
       "      <td>Afghanistan</td>\n",
       "      <td>13515.0</td>\n",
       "      <td>10735.0</td>\n",
       "      <td>0.79</td>\n",
       "    </tr>\n",
       "    <tr>\n",
       "      <th>1</th>\n",
       "      <td>Afrique du Sud</td>\n",
       "      <td>61256.0</td>\n",
       "      <td>29812.0</td>\n",
       "      <td>0.49</td>\n",
       "    </tr>\n",
       "    <tr>\n",
       "      <th>2</th>\n",
       "      <td>Albanie</td>\n",
       "      <td>4758.0</td>\n",
       "      <td>3476.0</td>\n",
       "      <td>0.73</td>\n",
       "    </tr>\n",
       "    <tr>\n",
       "      <th>3</th>\n",
       "      <td>Algérie</td>\n",
       "      <td>42630.0</td>\n",
       "      <td>31729.0</td>\n",
       "      <td>0.74</td>\n",
       "    </tr>\n",
       "    <tr>\n",
       "      <th>4</th>\n",
       "      <td>Allemagne</td>\n",
       "      <td>162275.0</td>\n",
       "      <td>79238.0</td>\n",
       "      <td>0.49</td>\n",
       "    </tr>\n",
       "  </tbody>\n",
       "</table>\n",
       "</div>"
      ],
      "text/plain": [
       "             Zone  dispoMilliersTonnes  Nourriture  ratioDédiéHomme\n",
       "0     Afghanistan              13515.0     10735.0             0.79\n",
       "1  Afrique du Sud              61256.0     29812.0             0.49\n",
       "2         Albanie               4758.0      3476.0             0.73\n",
       "3         Algérie              42630.0     31729.0             0.74\n",
       "4       Allemagne             162275.0     79238.0             0.49"
      ]
     },
     "execution_count": 63,
     "metadata": {},
     "output_type": "execute_result"
    }
   ],
   "source": [
    "dispo_partHomme[\"ratioDédiéHomme\"] = dispo_partHomme[\"Nourriture\"]/dispo_partHomme[\"dispoMilliersTonnes\"]\n",
    "dispo_partHomme.head().round(2)"
   ]
  },
  {
   "cell_type": "code",
   "execution_count": 64,
   "id": "c0b86aa3",
   "metadata": {},
   "outputs": [],
   "source": [
    "# Organisation des données et reset de l'index"
   ]
  },
  {
   "cell_type": "code",
   "execution_count": 65,
   "id": "86274d86",
   "metadata": {},
   "outputs": [
    {
     "data": {
      "text/html": [
       "<div>\n",
       "<style scoped>\n",
       "    .dataframe tbody tr th:only-of-type {\n",
       "        vertical-align: middle;\n",
       "    }\n",
       "\n",
       "    .dataframe tbody tr th {\n",
       "        vertical-align: top;\n",
       "    }\n",
       "\n",
       "    .dataframe thead th {\n",
       "        text-align: right;\n",
       "    }\n",
       "</style>\n",
       "<table border=\"1\" class=\"dataframe\">\n",
       "  <thead>\n",
       "    <tr style=\"text-align: right;\">\n",
       "      <th></th>\n",
       "      <th>Zone</th>\n",
       "      <th>dispoMilliersTonnes</th>\n",
       "      <th>Nourriture</th>\n",
       "      <th>ratioDédiéHomme</th>\n",
       "    </tr>\n",
       "  </thead>\n",
       "  <tbody>\n",
       "    <tr>\n",
       "      <th>0</th>\n",
       "      <td>Chine - RAS de Macao</td>\n",
       "      <td>383.0</td>\n",
       "      <td>368.0</td>\n",
       "      <td>0.96</td>\n",
       "    </tr>\n",
       "    <tr>\n",
       "      <th>1</th>\n",
       "      <td>Timor-Leste</td>\n",
       "      <td>447.0</td>\n",
       "      <td>419.0</td>\n",
       "      <td>0.94</td>\n",
       "    </tr>\n",
       "    <tr>\n",
       "      <th>2</th>\n",
       "      <td>Yémen</td>\n",
       "      <td>9782.0</td>\n",
       "      <td>9162.0</td>\n",
       "      <td>0.94</td>\n",
       "    </tr>\n",
       "    <tr>\n",
       "      <th>3</th>\n",
       "      <td>Lesotho</td>\n",
       "      <td>966.0</td>\n",
       "      <td>899.0</td>\n",
       "      <td>0.93</td>\n",
       "    </tr>\n",
       "    <tr>\n",
       "      <th>4</th>\n",
       "      <td>Rwanda</td>\n",
       "      <td>10054.0</td>\n",
       "      <td>9273.0</td>\n",
       "      <td>0.92</td>\n",
       "    </tr>\n",
       "  </tbody>\n",
       "</table>\n",
       "</div>"
      ],
      "text/plain": [
       "                   Zone  dispoMilliersTonnes  Nourriture  ratioDédiéHomme\n",
       "0  Chine - RAS de Macao                383.0       368.0             0.96\n",
       "1           Timor-Leste                447.0       419.0             0.94\n",
       "2                 Yémen               9782.0      9162.0             0.94\n",
       "3               Lesotho                966.0       899.0             0.93\n",
       "4                Rwanda              10054.0      9273.0             0.92"
      ]
     },
     "execution_count": 65,
     "metadata": {},
     "output_type": "execute_result"
    }
   ],
   "source": [
    "dispo_partHomme = dispo_partHomme.sort_values(\"ratioDédiéHomme\", ascending=False)\n",
    "dispo_partHomme.reset_index(drop=True).head().round(2)"
   ]
  },
  {
   "cell_type": "markdown",
   "id": "4d856620",
   "metadata": {},
   "source": [
    "## Part de la disponibilité intérieure perdue<a class=\"anchor\" id=\"section_4_5\"></a>"
   ]
  },
  {
   "cell_type": "markdown",
   "id": "c65915d4",
   "metadata": {},
   "source": [
    "### Proportion mondiale de la disponibilité intérieure perdue<a class=\"anchor\" id=\"sub_section_4_5_2\"></a>"
   ]
  },
  {
   "cell_type": "code",
   "execution_count": 66,
   "id": "090e19ee",
   "metadata": {},
   "outputs": [],
   "source": [
    "# Filtrer les données\n",
    "quantité_perte = dispo_alimentaire[(dispo_alimentaire[\"Pertes\"] >0)]"
   ]
  },
  {
   "cell_type": "code",
   "execution_count": 67,
   "id": "a89b476b",
   "metadata": {},
   "outputs": [
    {
     "name": "stdout",
     "output_type": "stream",
     "text": [
      "La quantité de disponibilité intérieure perdue est de 453698 milliers de tonnes.\n"
     ]
    }
   ],
   "source": [
    "quantité_perte = dispo_alimentaire[\"Pertes\"].sum()\n",
    "\n",
    "print(\"La quantité de disponibilité intérieure perdue est de\", round(quantité_perte), \"milliers de tonnes.\")"
   ]
  },
  {
   "cell_type": "code",
   "execution_count": 68,
   "id": "9a8880ec",
   "metadata": {},
   "outputs": [
    {
     "name": "stdout",
     "output_type": "stream",
     "text": [
      "La part de la disponibilité intérieure attribuée perdue est de 4.6 %\n"
     ]
    }
   ],
   "source": [
    "part_pertes = (quantité_perte / dispo_int_monde)*100\n",
    "\n",
    "print(\"La part de la disponibilité intérieure attribuée perdue est de\", round(part_pertes, 2), \"%\")"
   ]
  },
  {
   "cell_type": "markdown",
   "id": "c24f5d38",
   "metadata": {},
   "source": [
    "### Proportion de la disponibilité intérieure perdue par pays<a class=\"anchor\" id=\"sub_section_4_5_1\"></a>"
   ]
  },
  {
   "cell_type": "code",
   "execution_count": 69,
   "id": "7e45c4ae",
   "metadata": {},
   "outputs": [
    {
     "data": {
      "text/html": [
       "<div>\n",
       "<style scoped>\n",
       "    .dataframe tbody tr th:only-of-type {\n",
       "        vertical-align: middle;\n",
       "    }\n",
       "\n",
       "    .dataframe tbody tr th {\n",
       "        vertical-align: top;\n",
       "    }\n",
       "\n",
       "    .dataframe thead th {\n",
       "        text-align: right;\n",
       "    }\n",
       "</style>\n",
       "<table border=\"1\" class=\"dataframe\">\n",
       "  <thead>\n",
       "    <tr style=\"text-align: right;\">\n",
       "      <th></th>\n",
       "      <th>Zone</th>\n",
       "      <th>Pertes</th>\n",
       "      <th>dispoMilliersTonnes</th>\n",
       "    </tr>\n",
       "  </thead>\n",
       "  <tbody>\n",
       "    <tr>\n",
       "      <th>1</th>\n",
       "      <td>Afghanistan</td>\n",
       "      <td>2.0</td>\n",
       "      <td>41.0</td>\n",
       "    </tr>\n",
       "    <tr>\n",
       "      <th>7</th>\n",
       "      <td>Afghanistan</td>\n",
       "      <td>775.0</td>\n",
       "      <td>5992.0</td>\n",
       "    </tr>\n",
       "    <tr>\n",
       "      <th>16</th>\n",
       "      <td>Afghanistan</td>\n",
       "      <td>17.0</td>\n",
       "      <td>240.0</td>\n",
       "    </tr>\n",
       "    <tr>\n",
       "      <th>29</th>\n",
       "      <td>Afghanistan</td>\n",
       "      <td>58.0</td>\n",
       "      <td>2083.0</td>\n",
       "    </tr>\n",
       "    <tr>\n",
       "      <th>30</th>\n",
       "      <td>Afghanistan</td>\n",
       "      <td>122.0</td>\n",
       "      <td>1007.0</td>\n",
       "    </tr>\n",
       "  </tbody>\n",
       "</table>\n",
       "</div>"
      ],
      "text/plain": [
       "           Zone  Pertes  dispoMilliersTonnes\n",
       "1   Afghanistan     2.0                 41.0\n",
       "7   Afghanistan   775.0               5992.0\n",
       "16  Afghanistan    17.0                240.0\n",
       "29  Afghanistan    58.0               2083.0\n",
       "30  Afghanistan   122.0               1007.0"
      ]
     },
     "metadata": {},
     "output_type": "display_data"
    }
   ],
   "source": [
    "# Filtrer les colonnes \n",
    "pertes = dispo_alimentaire[(dispo_alimentaire[\"Pertes\"] >0)]\n",
    "display(pertes[[\"Zone\", \"Pertes\", \"dispoMilliersTonnes\"]].head())"
   ]
  },
  {
   "cell_type": "code",
   "execution_count": 70,
   "id": "7175dcd3",
   "metadata": {},
   "outputs": [
    {
     "data": {
      "text/html": [
       "<div>\n",
       "<style scoped>\n",
       "    .dataframe tbody tr th:only-of-type {\n",
       "        vertical-align: middle;\n",
       "    }\n",
       "\n",
       "    .dataframe tbody tr th {\n",
       "        vertical-align: top;\n",
       "    }\n",
       "\n",
       "    .dataframe thead th {\n",
       "        text-align: right;\n",
       "    }\n",
       "</style>\n",
       "<table border=\"1\" class=\"dataframe\">\n",
       "  <thead>\n",
       "    <tr style=\"text-align: right;\">\n",
       "      <th></th>\n",
       "      <th>Zone</th>\n",
       "      <th>Pertes</th>\n",
       "    </tr>\n",
       "  </thead>\n",
       "  <tbody>\n",
       "    <tr>\n",
       "      <th>0</th>\n",
       "      <td>Afghanistan</td>\n",
       "      <td>1135.0</td>\n",
       "    </tr>\n",
       "    <tr>\n",
       "      <th>1</th>\n",
       "      <td>Afrique du Sud</td>\n",
       "      <td>2193.0</td>\n",
       "    </tr>\n",
       "    <tr>\n",
       "      <th>2</th>\n",
       "      <td>Albanie</td>\n",
       "      <td>276.0</td>\n",
       "    </tr>\n",
       "    <tr>\n",
       "      <th>3</th>\n",
       "      <td>Algérie</td>\n",
       "      <td>3753.0</td>\n",
       "    </tr>\n",
       "    <tr>\n",
       "      <th>4</th>\n",
       "      <td>Allemagne</td>\n",
       "      <td>3781.0</td>\n",
       "    </tr>\n",
       "  </tbody>\n",
       "</table>\n",
       "</div>"
      ],
      "text/plain": [
       "             Zone  Pertes\n",
       "0     Afghanistan  1135.0\n",
       "1  Afrique du Sud  2193.0\n",
       "2         Albanie   276.0\n",
       "3         Algérie  3753.0\n",
       "4       Allemagne  3781.0"
      ]
     },
     "execution_count": 70,
     "metadata": {},
     "output_type": "execute_result"
    }
   ],
   "source": [
    "# Grouper par pays\n",
    "pertes_pays = pertes.groupby([\"Zone\"])[\"Pertes\"].sum().reset_index()\n",
    "pertes_pays.head()"
   ]
  },
  {
   "cell_type": "code",
   "execution_count": 71,
   "id": "aaa84263",
   "metadata": {},
   "outputs": [
    {
     "data": {
      "text/html": [
       "<div>\n",
       "<style scoped>\n",
       "    .dataframe tbody tr th:only-of-type {\n",
       "        vertical-align: middle;\n",
       "    }\n",
       "\n",
       "    .dataframe tbody tr th {\n",
       "        vertical-align: top;\n",
       "    }\n",
       "\n",
       "    .dataframe thead th {\n",
       "        text-align: right;\n",
       "    }\n",
       "</style>\n",
       "<table border=\"1\" class=\"dataframe\">\n",
       "  <thead>\n",
       "    <tr style=\"text-align: right;\">\n",
       "      <th></th>\n",
       "      <th>Zone</th>\n",
       "      <th>dispoMilliersTonnes</th>\n",
       "      <th>Pertes</th>\n",
       "    </tr>\n",
       "  </thead>\n",
       "  <tbody>\n",
       "    <tr>\n",
       "      <th>0</th>\n",
       "      <td>Afghanistan</td>\n",
       "      <td>13515.0</td>\n",
       "      <td>1135.0</td>\n",
       "    </tr>\n",
       "    <tr>\n",
       "      <th>1</th>\n",
       "      <td>Afrique du Sud</td>\n",
       "      <td>61256.0</td>\n",
       "      <td>2193.0</td>\n",
       "    </tr>\n",
       "    <tr>\n",
       "      <th>2</th>\n",
       "      <td>Albanie</td>\n",
       "      <td>4758.0</td>\n",
       "      <td>276.0</td>\n",
       "    </tr>\n",
       "    <tr>\n",
       "      <th>3</th>\n",
       "      <td>Algérie</td>\n",
       "      <td>42630.0</td>\n",
       "      <td>3753.0</td>\n",
       "    </tr>\n",
       "    <tr>\n",
       "      <th>4</th>\n",
       "      <td>Allemagne</td>\n",
       "      <td>162275.0</td>\n",
       "      <td>3781.0</td>\n",
       "    </tr>\n",
       "  </tbody>\n",
       "</table>\n",
       "</div>"
      ],
      "text/plain": [
       "             Zone  dispoMilliersTonnes  Pertes\n",
       "0     Afghanistan              13515.0  1135.0\n",
       "1  Afrique du Sud              61256.0  2193.0\n",
       "2         Albanie               4758.0   276.0\n",
       "3         Algérie              42630.0  3753.0\n",
       "4       Allemagne             162275.0  3781.0"
      ]
     },
     "execution_count": 71,
     "metadata": {},
     "output_type": "execute_result"
    }
   ],
   "source": [
    "# Jointure des données de disponibilité alimentaire par pays et des pertes\n",
    "dispoPertes = pd.merge(dispo_int_pays, pertes_pays, how=\"left\", on=\"Zone\")\n",
    "dispoPertes.reset_index(drop=True).head().round(2)"
   ]
  },
  {
   "cell_type": "code",
   "execution_count": 72,
   "id": "de18ebee",
   "metadata": {},
   "outputs": [
    {
     "data": {
      "text/html": [
       "<div>\n",
       "<style scoped>\n",
       "    .dataframe tbody tr th:only-of-type {\n",
       "        vertical-align: middle;\n",
       "    }\n",
       "\n",
       "    .dataframe tbody tr th {\n",
       "        vertical-align: top;\n",
       "    }\n",
       "\n",
       "    .dataframe thead th {\n",
       "        text-align: right;\n",
       "    }\n",
       "</style>\n",
       "<table border=\"1\" class=\"dataframe\">\n",
       "  <thead>\n",
       "    <tr style=\"text-align: right;\">\n",
       "      <th></th>\n",
       "      <th>Zone</th>\n",
       "      <th>dispoMilliersTonnes</th>\n",
       "      <th>Pertes</th>\n",
       "      <th>ratioPertes</th>\n",
       "    </tr>\n",
       "  </thead>\n",
       "  <tbody>\n",
       "    <tr>\n",
       "      <th>0</th>\n",
       "      <td>Afghanistan</td>\n",
       "      <td>13515.0</td>\n",
       "      <td>1135.0</td>\n",
       "      <td>0.08</td>\n",
       "    </tr>\n",
       "    <tr>\n",
       "      <th>1</th>\n",
       "      <td>Afrique du Sud</td>\n",
       "      <td>61256.0</td>\n",
       "      <td>2193.0</td>\n",
       "      <td>0.04</td>\n",
       "    </tr>\n",
       "    <tr>\n",
       "      <th>2</th>\n",
       "      <td>Albanie</td>\n",
       "      <td>4758.0</td>\n",
       "      <td>276.0</td>\n",
       "      <td>0.06</td>\n",
       "    </tr>\n",
       "    <tr>\n",
       "      <th>3</th>\n",
       "      <td>Algérie</td>\n",
       "      <td>42630.0</td>\n",
       "      <td>3753.0</td>\n",
       "      <td>0.09</td>\n",
       "    </tr>\n",
       "    <tr>\n",
       "      <th>4</th>\n",
       "      <td>Allemagne</td>\n",
       "      <td>162275.0</td>\n",
       "      <td>3781.0</td>\n",
       "      <td>0.02</td>\n",
       "    </tr>\n",
       "  </tbody>\n",
       "</table>\n",
       "</div>"
      ],
      "text/plain": [
       "             Zone  dispoMilliersTonnes  Pertes  ratioPertes\n",
       "0     Afghanistan              13515.0  1135.0         0.08\n",
       "1  Afrique du Sud              61256.0  2193.0         0.04\n",
       "2         Albanie               4758.0   276.0         0.06\n",
       "3         Algérie              42630.0  3753.0         0.09\n",
       "4       Allemagne             162275.0  3781.0         0.02"
      ]
     },
     "execution_count": 72,
     "metadata": {},
     "output_type": "execute_result"
    }
   ],
   "source": [
    "dispoPertes[\"ratioPertes\"] = dispoPertes[\"Pertes\"]/dispoPertes[\"dispoMilliersTonnes\"]\n",
    "dispoPertes.head().round(2)"
   ]
  },
  {
   "cell_type": "code",
   "execution_count": 73,
   "id": "7597aae5",
   "metadata": {},
   "outputs": [
    {
     "data": {
      "text/html": [
       "<div>\n",
       "<style scoped>\n",
       "    .dataframe tbody tr th:only-of-type {\n",
       "        vertical-align: middle;\n",
       "    }\n",
       "\n",
       "    .dataframe tbody tr th {\n",
       "        vertical-align: top;\n",
       "    }\n",
       "\n",
       "    .dataframe thead th {\n",
       "        text-align: right;\n",
       "    }\n",
       "</style>\n",
       "<table border=\"1\" class=\"dataframe\">\n",
       "  <thead>\n",
       "    <tr style=\"text-align: right;\">\n",
       "      <th></th>\n",
       "      <th>Zone</th>\n",
       "      <th>dispoMilliersTonnes</th>\n",
       "      <th>Pertes</th>\n",
       "      <th>ratioPertes</th>\n",
       "    </tr>\n",
       "  </thead>\n",
       "  <tbody>\n",
       "    <tr>\n",
       "      <th>0</th>\n",
       "      <td>Sierra Leone</td>\n",
       "      <td>6570.0</td>\n",
       "      <td>2191.0</td>\n",
       "      <td>0.33</td>\n",
       "    </tr>\n",
       "    <tr>\n",
       "      <th>1</th>\n",
       "      <td>Ghana</td>\n",
       "      <td>38998.0</td>\n",
       "      <td>7442.0</td>\n",
       "      <td>0.19</td>\n",
       "    </tr>\n",
       "    <tr>\n",
       "      <th>2</th>\n",
       "      <td>Cameroun</td>\n",
       "      <td>26222.0</td>\n",
       "      <td>3981.0</td>\n",
       "      <td>0.15</td>\n",
       "    </tr>\n",
       "    <tr>\n",
       "      <th>3</th>\n",
       "      <td>Angola</td>\n",
       "      <td>32029.0</td>\n",
       "      <td>4799.0</td>\n",
       "      <td>0.15</td>\n",
       "    </tr>\n",
       "    <tr>\n",
       "      <th>4</th>\n",
       "      <td>Dominique</td>\n",
       "      <td>141.0</td>\n",
       "      <td>20.0</td>\n",
       "      <td>0.14</td>\n",
       "    </tr>\n",
       "  </tbody>\n",
       "</table>\n",
       "</div>"
      ],
      "text/plain": [
       "           Zone  dispoMilliersTonnes  Pertes  ratioPertes\n",
       "0  Sierra Leone               6570.0  2191.0         0.33\n",
       "1         Ghana              38998.0  7442.0         0.19\n",
       "2      Cameroun              26222.0  3981.0         0.15\n",
       "3        Angola              32029.0  4799.0         0.15\n",
       "4     Dominique                141.0    20.0         0.14"
      ]
     },
     "execution_count": 73,
     "metadata": {},
     "output_type": "execute_result"
    }
   ],
   "source": [
    "# Organisation des données et reset de l'index\n",
    "dispoPertes = dispoPertes.sort_values(\"ratioPertes\", ascending=False)\n",
    "dispoPertes.reset_index(drop=True).head().round(2)"
   ]
  },
  {
   "cell_type": "markdown",
   "id": "4f902e38",
   "metadata": {},
   "source": [
    "# Partie 2 -  Focus sur la sous-nutrition par pays"
   ]
  },
  {
   "cell_type": "markdown",
   "id": "9298cfad",
   "metadata": {},
   "source": [
    "## Requête 1 : Pays où la proportion de personnes en état de sous-nutrition est la plus forte en 2017<a class=\"anchor\" id=\"question5\"></a>"
   ]
  },
  {
   "cell_type": "code",
   "execution_count": 74,
   "id": "7c2adb7e",
   "metadata": {},
   "outputs": [
    {
     "data": {
      "text/html": [
       "<div>\n",
       "<style scoped>\n",
       "    .dataframe tbody tr th:only-of-type {\n",
       "        vertical-align: middle;\n",
       "    }\n",
       "\n",
       "    .dataframe tbody tr th {\n",
       "        vertical-align: top;\n",
       "    }\n",
       "\n",
       "    .dataframe thead th {\n",
       "        text-align: right;\n",
       "    }\n",
       "</style>\n",
       "<table border=\"1\" class=\"dataframe\">\n",
       "  <thead>\n",
       "    <tr style=\"text-align: right;\">\n",
       "      <th></th>\n",
       "      <th>Zone</th>\n",
       "      <th>popTotale</th>\n",
       "      <th>popSousNut</th>\n",
       "      <th>propSousNut (%)</th>\n",
       "    </tr>\n",
       "  </thead>\n",
       "  <tbody>\n",
       "    <tr>\n",
       "      <th>0</th>\n",
       "      <td>Afghanistan</td>\n",
       "      <td>36.30</td>\n",
       "      <td>10.5</td>\n",
       "      <td>28.93</td>\n",
       "    </tr>\n",
       "    <tr>\n",
       "      <th>1</th>\n",
       "      <td>Afrique du Sud</td>\n",
       "      <td>57.01</td>\n",
       "      <td>3.1</td>\n",
       "      <td>5.44</td>\n",
       "    </tr>\n",
       "    <tr>\n",
       "      <th>2</th>\n",
       "      <td>Albanie</td>\n",
       "      <td>2.88</td>\n",
       "      <td>0.1</td>\n",
       "      <td>3.47</td>\n",
       "    </tr>\n",
       "    <tr>\n",
       "      <th>3</th>\n",
       "      <td>Algérie</td>\n",
       "      <td>41.39</td>\n",
       "      <td>1.3</td>\n",
       "      <td>3.14</td>\n",
       "    </tr>\n",
       "    <tr>\n",
       "      <th>6</th>\n",
       "      <td>Angola</td>\n",
       "      <td>29.82</td>\n",
       "      <td>5.8</td>\n",
       "      <td>19.45</td>\n",
       "    </tr>\n",
       "  </tbody>\n",
       "</table>\n",
       "</div>"
      ],
      "text/plain": [
       "             Zone  popTotale  popSousNut  propSousNut (%)\n",
       "0     Afghanistan      36.30        10.5            28.93\n",
       "1  Afrique du Sud      57.01         3.1             5.44\n",
       "2         Albanie       2.88         0.1             3.47\n",
       "3         Algérie      41.39         1.3             3.14\n",
       "6          Angola      29.82         5.8            19.45"
      ]
     },
     "metadata": {},
     "output_type": "display_data"
    }
   ],
   "source": [
    "# Ajout d'une colonne pour représenter la proportion de sous-nutrition par pays\n",
    "pop_sousnut[\"propSousNut (%)\"] = (pop_sousnut[\"popSousNut\"]/pop_sousnut[\"popTotale\"])*100\n",
    "display(pop_sousnut.head().round(2))"
   ]
  },
  {
   "cell_type": "code",
   "execution_count": 75,
   "id": "99b15731",
   "metadata": {},
   "outputs": [
    {
     "data": {
      "text/html": [
       "<div>\n",
       "<style scoped>\n",
       "    .dataframe tbody tr th:only-of-type {\n",
       "        vertical-align: middle;\n",
       "    }\n",
       "\n",
       "    .dataframe tbody tr th {\n",
       "        vertical-align: top;\n",
       "    }\n",
       "\n",
       "    .dataframe thead th {\n",
       "        text-align: right;\n",
       "    }\n",
       "</style>\n",
       "<table border=\"1\" class=\"dataframe\">\n",
       "  <thead>\n",
       "    <tr style=\"text-align: right;\">\n",
       "      <th></th>\n",
       "      <th>Zone</th>\n",
       "      <th>popTotale</th>\n",
       "      <th>popSousNut</th>\n",
       "      <th>propSousNut (%)</th>\n",
       "    </tr>\n",
       "  </thead>\n",
       "  <tbody>\n",
       "    <tr>\n",
       "      <th>0</th>\n",
       "      <td>Haïti</td>\n",
       "      <td>10.98</td>\n",
       "      <td>5.3</td>\n",
       "      <td>48.26</td>\n",
       "    </tr>\n",
       "    <tr>\n",
       "      <th>1</th>\n",
       "      <td>République populaire démocratique de Corée</td>\n",
       "      <td>25.43</td>\n",
       "      <td>12.0</td>\n",
       "      <td>47.19</td>\n",
       "    </tr>\n",
       "    <tr>\n",
       "      <th>2</th>\n",
       "      <td>Madagascar</td>\n",
       "      <td>25.57</td>\n",
       "      <td>10.5</td>\n",
       "      <td>41.06</td>\n",
       "    </tr>\n",
       "    <tr>\n",
       "      <th>3</th>\n",
       "      <td>Libéria</td>\n",
       "      <td>4.70</td>\n",
       "      <td>1.8</td>\n",
       "      <td>38.28</td>\n",
       "    </tr>\n",
       "    <tr>\n",
       "      <th>4</th>\n",
       "      <td>Lesotho</td>\n",
       "      <td>2.09</td>\n",
       "      <td>0.8</td>\n",
       "      <td>38.25</td>\n",
       "    </tr>\n",
       "    <tr>\n",
       "      <th>5</th>\n",
       "      <td>Tchad</td>\n",
       "      <td>15.02</td>\n",
       "      <td>5.7</td>\n",
       "      <td>37.96</td>\n",
       "    </tr>\n",
       "    <tr>\n",
       "      <th>6</th>\n",
       "      <td>Rwanda</td>\n",
       "      <td>11.98</td>\n",
       "      <td>4.2</td>\n",
       "      <td>35.06</td>\n",
       "    </tr>\n",
       "    <tr>\n",
       "      <th>7</th>\n",
       "      <td>Mozambique</td>\n",
       "      <td>28.65</td>\n",
       "      <td>9.4</td>\n",
       "      <td>32.81</td>\n",
       "    </tr>\n",
       "    <tr>\n",
       "      <th>8</th>\n",
       "      <td>Timor-Leste</td>\n",
       "      <td>1.24</td>\n",
       "      <td>0.4</td>\n",
       "      <td>32.17</td>\n",
       "    </tr>\n",
       "    <tr>\n",
       "      <th>9</th>\n",
       "      <td>Afghanistan</td>\n",
       "      <td>36.30</td>\n",
       "      <td>10.5</td>\n",
       "      <td>28.93</td>\n",
       "    </tr>\n",
       "  </tbody>\n",
       "</table>\n",
       "</div>"
      ],
      "text/plain": [
       "                                         Zone  popTotale  popSousNut  \\\n",
       "0                                       Haïti      10.98         5.3   \n",
       "1  République populaire démocratique de Corée      25.43        12.0   \n",
       "2                                  Madagascar      25.57        10.5   \n",
       "3                                     Libéria       4.70         1.8   \n",
       "4                                     Lesotho       2.09         0.8   \n",
       "5                                       Tchad      15.02         5.7   \n",
       "6                                      Rwanda      11.98         4.2   \n",
       "7                                  Mozambique      28.65         9.4   \n",
       "8                                 Timor-Leste       1.24         0.4   \n",
       "9                                 Afghanistan      36.30        10.5   \n",
       "\n",
       "   propSousNut (%)  \n",
       "0            48.26  \n",
       "1            47.19  \n",
       "2            41.06  \n",
       "3            38.28  \n",
       "4            38.25  \n",
       "5            37.96  \n",
       "6            35.06  \n",
       "7            32.81  \n",
       "8            32.17  \n",
       "9            28.93  "
      ]
     },
     "metadata": {},
     "output_type": "display_data"
    }
   ],
   "source": [
    "# Organisation des données et reset de l'index\n",
    "prop_sousnut_top10 = pop_sousnut.sort_values(\"propSousNut (%)\", ascending=False)\n",
    "display(prop_sousnut_top10.reset_index(drop=True)[[\"Zone\", \"popTotale\", \"popSousNut\", \"propSousNut (%)\"]][0:10].round(2))"
   ]
  },
  {
   "cell_type": "markdown",
   "id": "2a0a3885",
   "metadata": {},
   "source": [
    "## Requête 2 : Pays bénéficiaires d'aides depuis 2013<a class=\"anchor\" id=\"question6\"></a>"
   ]
  },
  {
   "cell_type": "markdown",
   "id": "ddaf22ef",
   "metadata": {},
   "source": [
    "### Somme des quantités depuis 2013<a class=\"anchor\" id=\"section_6_1\"></a>"
   ]
  },
  {
   "cell_type": "code",
   "execution_count": 76,
   "id": "3c662782",
   "metadata": {},
   "outputs": [],
   "source": [
    "# Filtrer les données\n",
    "aide_2013 = aide_2013[(aide_2013[\"Quantité\"] >0)]"
   ]
  },
  {
   "cell_type": "code",
   "execution_count": 77,
   "id": "2c129d85",
   "metadata": {},
   "outputs": [
    {
     "name": "stdout",
     "output_type": "stream",
     "text": [
      "Depuis 2013, la quantité d'aide alimentaire est de 11036 milliers de tonnes.\n"
     ]
    }
   ],
   "source": [
    "quantité_totale = aide_2013[\"Quantité\"].sum()\n",
    "\n",
    "print(\"Depuis 2013, la quantité d'aide alimentaire est de\", round(quantité_totale), \"milliers de tonnes.\")"
   ]
  },
  {
   "cell_type": "markdown",
   "id": "d1bf9b46",
   "metadata": {},
   "source": [
    "### Somme des quantité par pays depuis 2013<a class=\"anchor\" id=\"section_6_2\"></a>"
   ]
  },
  {
   "cell_type": "code",
   "execution_count": 78,
   "id": "8e1c1b75",
   "metadata": {},
   "outputs": [
    {
     "data": {
      "text/html": [
       "<div>\n",
       "<style scoped>\n",
       "    .dataframe tbody tr th:only-of-type {\n",
       "        vertical-align: middle;\n",
       "    }\n",
       "\n",
       "    .dataframe tbody tr th {\n",
       "        vertical-align: top;\n",
       "    }\n",
       "\n",
       "    .dataframe thead th {\n",
       "        text-align: right;\n",
       "    }\n",
       "</style>\n",
       "<table border=\"1\" class=\"dataframe\">\n",
       "  <thead>\n",
       "    <tr style=\"text-align: right;\">\n",
       "      <th></th>\n",
       "      <th>Zone</th>\n",
       "      <th>Quantité</th>\n",
       "    </tr>\n",
       "  </thead>\n",
       "  <tbody>\n",
       "    <tr>\n",
       "      <th>0</th>\n",
       "      <td>Afghanistan</td>\n",
       "      <td>185.452</td>\n",
       "    </tr>\n",
       "    <tr>\n",
       "      <th>1</th>\n",
       "      <td>Algérie</td>\n",
       "      <td>81.114</td>\n",
       "    </tr>\n",
       "    <tr>\n",
       "      <th>2</th>\n",
       "      <td>Angola</td>\n",
       "      <td>5.014</td>\n",
       "    </tr>\n",
       "    <tr>\n",
       "      <th>3</th>\n",
       "      <td>Bangladesh</td>\n",
       "      <td>348.188</td>\n",
       "    </tr>\n",
       "    <tr>\n",
       "      <th>4</th>\n",
       "      <td>Bhoutan</td>\n",
       "      <td>2.666</td>\n",
       "    </tr>\n",
       "  </tbody>\n",
       "</table>\n",
       "</div>"
      ],
      "text/plain": [
       "          Zone  Quantité\n",
       "0  Afghanistan   185.452\n",
       "1      Algérie    81.114\n",
       "2       Angola     5.014\n",
       "3   Bangladesh   348.188\n",
       "4      Bhoutan     2.666"
      ]
     },
     "execution_count": 78,
     "metadata": {},
     "output_type": "execute_result"
    }
   ],
   "source": [
    "# Grouper par pays\n",
    "aide_2013_pays = aide_2013.groupby([\"Zone\"])[\"Quantité\"].sum().reset_index()\n",
    "aide_2013_pays.head()"
   ]
  },
  {
   "cell_type": "markdown",
   "id": "bd492f1e",
   "metadata": {},
   "source": [
    "### Top 10 des pays qui ont le plus bénéficié d’aide depuis 2013<a class=\"anchor\" id=\"section_6_3\"></a>"
   ]
  },
  {
   "cell_type": "code",
   "execution_count": 79,
   "id": "5f25d29c",
   "metadata": {},
   "outputs": [
    {
     "data": {
      "text/html": [
       "<div>\n",
       "<style scoped>\n",
       "    .dataframe tbody tr th:only-of-type {\n",
       "        vertical-align: middle;\n",
       "    }\n",
       "\n",
       "    .dataframe tbody tr th {\n",
       "        vertical-align: top;\n",
       "    }\n",
       "\n",
       "    .dataframe thead th {\n",
       "        text-align: right;\n",
       "    }\n",
       "</style>\n",
       "<table border=\"1\" class=\"dataframe\">\n",
       "  <thead>\n",
       "    <tr style=\"text-align: right;\">\n",
       "      <th></th>\n",
       "      <th>Zone</th>\n",
       "      <th>Quantité</th>\n",
       "    </tr>\n",
       "  </thead>\n",
       "  <tbody>\n",
       "    <tr>\n",
       "      <th>0</th>\n",
       "      <td>République arabe syrienne</td>\n",
       "      <td>1858.94</td>\n",
       "    </tr>\n",
       "    <tr>\n",
       "      <th>1</th>\n",
       "      <td>Éthiopie</td>\n",
       "      <td>1381.29</td>\n",
       "    </tr>\n",
       "    <tr>\n",
       "      <th>2</th>\n",
       "      <td>Yémen</td>\n",
       "      <td>1206.48</td>\n",
       "    </tr>\n",
       "    <tr>\n",
       "      <th>3</th>\n",
       "      <td>Soudan du Sud</td>\n",
       "      <td>695.25</td>\n",
       "    </tr>\n",
       "    <tr>\n",
       "      <th>4</th>\n",
       "      <td>Soudan</td>\n",
       "      <td>669.78</td>\n",
       "    </tr>\n",
       "    <tr>\n",
       "      <th>5</th>\n",
       "      <td>Kenya</td>\n",
       "      <td>552.84</td>\n",
       "    </tr>\n",
       "    <tr>\n",
       "      <th>6</th>\n",
       "      <td>Bangladesh</td>\n",
       "      <td>348.19</td>\n",
       "    </tr>\n",
       "    <tr>\n",
       "      <th>7</th>\n",
       "      <td>Somalie</td>\n",
       "      <td>292.68</td>\n",
       "    </tr>\n",
       "    <tr>\n",
       "      <th>8</th>\n",
       "      <td>République démocratique du Congo</td>\n",
       "      <td>288.50</td>\n",
       "    </tr>\n",
       "    <tr>\n",
       "      <th>9</th>\n",
       "      <td>Niger</td>\n",
       "      <td>276.34</td>\n",
       "    </tr>\n",
       "  </tbody>\n",
       "</table>\n",
       "</div>"
      ],
      "text/plain": [
       "                               Zone  Quantité\n",
       "0         République arabe syrienne   1858.94\n",
       "1                          Éthiopie   1381.29\n",
       "2                             Yémen   1206.48\n",
       "3                     Soudan du Sud    695.25\n",
       "4                            Soudan    669.78\n",
       "5                             Kenya    552.84\n",
       "6                        Bangladesh    348.19\n",
       "7                           Somalie    292.68\n",
       "8  République démocratique du Congo    288.50\n",
       "9                             Niger    276.34"
      ]
     },
     "metadata": {},
     "output_type": "display_data"
    }
   ],
   "source": [
    "# Organisation des données et reset de l'index\n",
    "aide_pays_top10 = aide_2013_pays.sort_values(\"Quantité\", ascending=False)\n",
    "display(aide_pays_top10.reset_index(drop=True)[0:10].round(2))"
   ]
  },
  {
   "cell_type": "markdown",
   "id": "de07db98",
   "metadata": {},
   "source": [
    "## Requête 3 : Disponibilité par habitant maximale et minimale<a class=\"anchor\" id=\"question7\"></a>"
   ]
  },
  {
   "cell_type": "code",
   "execution_count": 80,
   "id": "f49f3eb3",
   "metadata": {},
   "outputs": [],
   "source": [
    "# Jointure des données de population par pays et des données de disponibilité\n",
    "dispoParHab = pd.merge(dispo_int_pays, population_2017, how=\"right\", on=\"Zone\")"
   ]
  },
  {
   "cell_type": "code",
   "execution_count": 81,
   "id": "c51044f0",
   "metadata": {},
   "outputs": [],
   "source": [
    "# Filtrer les données\n",
    "dispoParHab = dispoParHab[(dispoParHab[\"dispoMilliersTonnes\"] >0)]\n",
    "dispoParHab = dispoParHab[[\"Zone\", \"dispoMilliersTonnes\", \"popTotale\"]]"
   ]
  },
  {
   "cell_type": "code",
   "execution_count": 82,
   "id": "88ccdfde",
   "metadata": {},
   "outputs": [
    {
     "data": {
      "text/html": [
       "<div>\n",
       "<style scoped>\n",
       "    .dataframe tbody tr th:only-of-type {\n",
       "        vertical-align: middle;\n",
       "    }\n",
       "\n",
       "    .dataframe tbody tr th {\n",
       "        vertical-align: top;\n",
       "    }\n",
       "\n",
       "    .dataframe thead th {\n",
       "        text-align: right;\n",
       "    }\n",
       "</style>\n",
       "<table border=\"1\" class=\"dataframe\">\n",
       "  <thead>\n",
       "    <tr style=\"text-align: right;\">\n",
       "      <th></th>\n",
       "      <th>Zone</th>\n",
       "      <th>dispoMilliersTonnes</th>\n",
       "      <th>popTotale</th>\n",
       "      <th>dispoParHab</th>\n",
       "    </tr>\n",
       "  </thead>\n",
       "  <tbody>\n",
       "    <tr>\n",
       "      <th>0</th>\n",
       "      <td>Afghanistan</td>\n",
       "      <td>13515.0</td>\n",
       "      <td>36.30</td>\n",
       "      <td>372.35</td>\n",
       "    </tr>\n",
       "    <tr>\n",
       "      <th>1</th>\n",
       "      <td>Afrique du Sud</td>\n",
       "      <td>61256.0</td>\n",
       "      <td>57.01</td>\n",
       "      <td>1074.48</td>\n",
       "    </tr>\n",
       "    <tr>\n",
       "      <th>2</th>\n",
       "      <td>Albanie</td>\n",
       "      <td>4758.0</td>\n",
       "      <td>2.88</td>\n",
       "      <td>1649.70</td>\n",
       "    </tr>\n",
       "    <tr>\n",
       "      <th>3</th>\n",
       "      <td>Algérie</td>\n",
       "      <td>42630.0</td>\n",
       "      <td>41.39</td>\n",
       "      <td>1029.98</td>\n",
       "    </tr>\n",
       "    <tr>\n",
       "      <th>4</th>\n",
       "      <td>Allemagne</td>\n",
       "      <td>162275.0</td>\n",
       "      <td>82.66</td>\n",
       "      <td>1963.20</td>\n",
       "    </tr>\n",
       "  </tbody>\n",
       "</table>\n",
       "</div>"
      ],
      "text/plain": [
       "             Zone  dispoMilliersTonnes  popTotale  dispoParHab\n",
       "0     Afghanistan              13515.0      36.30       372.35\n",
       "1  Afrique du Sud              61256.0      57.01      1074.48\n",
       "2         Albanie               4758.0       2.88      1649.70\n",
       "3         Algérie              42630.0      41.39      1029.98\n",
       "4       Allemagne             162275.0      82.66      1963.20"
      ]
     },
     "metadata": {},
     "output_type": "display_data"
    }
   ],
   "source": [
    "# Ajout d'une colonne pour représenter la disponbilité par habitant\n",
    "dispoParHab[\"dispoParHab\"] = dispoParHab[\"dispoMilliersTonnes\"]/dispoParHab[\"popTotale\"]\n",
    "display(dispoParHab.head().round(2))"
   ]
  },
  {
   "cell_type": "markdown",
   "id": "6ac791ce",
   "metadata": {},
   "source": [
    "### Top 10 des pays ayant le plus de disponibilité par habitant en 2017<a class=\"anchor\" id=\"section_7_1\"></a>"
   ]
  },
  {
   "cell_type": "code",
   "execution_count": 83,
   "id": "635df1b1",
   "metadata": {},
   "outputs": [
    {
     "data": {
      "text/html": [
       "<div>\n",
       "<style scoped>\n",
       "    .dataframe tbody tr th:only-of-type {\n",
       "        vertical-align: middle;\n",
       "    }\n",
       "\n",
       "    .dataframe tbody tr th {\n",
       "        vertical-align: top;\n",
       "    }\n",
       "\n",
       "    .dataframe thead th {\n",
       "        text-align: right;\n",
       "    }\n",
       "</style>\n",
       "<table border=\"1\" class=\"dataframe\">\n",
       "  <thead>\n",
       "    <tr style=\"text-align: right;\">\n",
       "      <th></th>\n",
       "      <th>Zone</th>\n",
       "      <th>dispoMilliersTonnes</th>\n",
       "      <th>popTotale</th>\n",
       "      <th>dispoParHab</th>\n",
       "    </tr>\n",
       "  </thead>\n",
       "  <tbody>\n",
       "    <tr>\n",
       "      <th>0</th>\n",
       "      <td>Eswatini</td>\n",
       "      <td>6467.0</td>\n",
       "      <td>1.12</td>\n",
       "      <td>5749.44</td>\n",
       "    </tr>\n",
       "    <tr>\n",
       "      <th>1</th>\n",
       "      <td>Brésil</td>\n",
       "      <td>1033314.0</td>\n",
       "      <td>207.83</td>\n",
       "      <td>4971.83</td>\n",
       "    </tr>\n",
       "    <tr>\n",
       "      <th>2</th>\n",
       "      <td>Guyana</td>\n",
       "      <td>3290.0</td>\n",
       "      <td>0.78</td>\n",
       "      <td>4243.95</td>\n",
       "    </tr>\n",
       "    <tr>\n",
       "      <th>3</th>\n",
       "      <td>Belize</td>\n",
       "      <td>1542.0</td>\n",
       "      <td>0.38</td>\n",
       "      <td>4103.58</td>\n",
       "    </tr>\n",
       "    <tr>\n",
       "      <th>4</th>\n",
       "      <td>Maurice</td>\n",
       "      <td>4767.0</td>\n",
       "      <td>1.26</td>\n",
       "      <td>3769.87</td>\n",
       "    </tr>\n",
       "    <tr>\n",
       "      <th>5</th>\n",
       "      <td>Danemark</td>\n",
       "      <td>19749.0</td>\n",
       "      <td>5.73</td>\n",
       "      <td>3445.23</td>\n",
       "    </tr>\n",
       "    <tr>\n",
       "      <th>6</th>\n",
       "      <td>Bélarus</td>\n",
       "      <td>27522.0</td>\n",
       "      <td>9.45</td>\n",
       "      <td>2912.31</td>\n",
       "    </tr>\n",
       "    <tr>\n",
       "      <th>7</th>\n",
       "      <td>Fidji</td>\n",
       "      <td>2499.0</td>\n",
       "      <td>0.88</td>\n",
       "      <td>2848.00</td>\n",
       "    </tr>\n",
       "    <tr>\n",
       "      <th>8</th>\n",
       "      <td>Australie</td>\n",
       "      <td>66992.0</td>\n",
       "      <td>24.58</td>\n",
       "      <td>2724.96</td>\n",
       "    </tr>\n",
       "    <tr>\n",
       "      <th>9</th>\n",
       "      <td>Lituanie</td>\n",
       "      <td>7467.0</td>\n",
       "      <td>2.85</td>\n",
       "      <td>2624.22</td>\n",
       "    </tr>\n",
       "  </tbody>\n",
       "</table>\n",
       "</div>"
      ],
      "text/plain": [
       "        Zone  dispoMilliersTonnes  popTotale  dispoParHab\n",
       "0   Eswatini               6467.0       1.12      5749.44\n",
       "1     Brésil            1033314.0     207.83      4971.83\n",
       "2     Guyana               3290.0       0.78      4243.95\n",
       "3     Belize               1542.0       0.38      4103.58\n",
       "4    Maurice               4767.0       1.26      3769.87\n",
       "5   Danemark              19749.0       5.73      3445.23\n",
       "6    Bélarus              27522.0       9.45      2912.31\n",
       "7      Fidji               2499.0       0.88      2848.00\n",
       "8  Australie              66992.0      24.58      2724.96\n",
       "9   Lituanie               7467.0       2.85      2624.22"
      ]
     },
     "metadata": {},
     "output_type": "display_data"
    }
   ],
   "source": [
    "# Organisation des données et reset de l'index\n",
    "dispoParHab_top10 = dispoParHab.sort_values(\"dispoParHab\", ascending=False)\n",
    "display(dispoParHab_top10.reset_index(drop=True)[0:10].round(2))"
   ]
  },
  {
   "cell_type": "markdown",
   "id": "74579d64",
   "metadata": {},
   "source": [
    "### Top 10 des pays ayant le moins de disponibilité par habitant en 2017<a class=\"anchor\" id=\"section_7_2\"></a>"
   ]
  },
  {
   "cell_type": "code",
   "execution_count": 84,
   "id": "77108cca",
   "metadata": {},
   "outputs": [
    {
     "data": {
      "text/html": [
       "<div>\n",
       "<style scoped>\n",
       "    .dataframe tbody tr th:only-of-type {\n",
       "        vertical-align: middle;\n",
       "    }\n",
       "\n",
       "    .dataframe tbody tr th {\n",
       "        vertical-align: top;\n",
       "    }\n",
       "\n",
       "    .dataframe thead th {\n",
       "        text-align: right;\n",
       "    }\n",
       "</style>\n",
       "<table border=\"1\" class=\"dataframe\">\n",
       "  <thead>\n",
       "    <tr style=\"text-align: right;\">\n",
       "      <th></th>\n",
       "      <th>Zone</th>\n",
       "      <th>dispoMilliersTonnes</th>\n",
       "      <th>popTotale</th>\n",
       "      <th>dispoParHab</th>\n",
       "    </tr>\n",
       "  </thead>\n",
       "  <tbody>\n",
       "    <tr>\n",
       "      <th>0</th>\n",
       "      <td>Yémen</td>\n",
       "      <td>9782.0</td>\n",
       "      <td>27.83</td>\n",
       "      <td>351.43</td>\n",
       "    </tr>\n",
       "    <tr>\n",
       "      <th>1</th>\n",
       "      <td>Tchad</td>\n",
       "      <td>5304.0</td>\n",
       "      <td>15.02</td>\n",
       "      <td>353.21</td>\n",
       "    </tr>\n",
       "    <tr>\n",
       "      <th>2</th>\n",
       "      <td>Timor-Leste</td>\n",
       "      <td>447.0</td>\n",
       "      <td>1.24</td>\n",
       "      <td>359.54</td>\n",
       "    </tr>\n",
       "    <tr>\n",
       "      <th>3</th>\n",
       "      <td>Afghanistan</td>\n",
       "      <td>13515.0</td>\n",
       "      <td>36.30</td>\n",
       "      <td>372.35</td>\n",
       "    </tr>\n",
       "    <tr>\n",
       "      <th>4</th>\n",
       "      <td>Éthiopie</td>\n",
       "      <td>44014.0</td>\n",
       "      <td>106.40</td>\n",
       "      <td>413.67</td>\n",
       "    </tr>\n",
       "    <tr>\n",
       "      <th>5</th>\n",
       "      <td>Gambie</td>\n",
       "      <td>940.0</td>\n",
       "      <td>2.21</td>\n",
       "      <td>424.59</td>\n",
       "    </tr>\n",
       "    <tr>\n",
       "      <th>6</th>\n",
       "      <td>Libéria</td>\n",
       "      <td>2002.0</td>\n",
       "      <td>4.70</td>\n",
       "      <td>425.76</td>\n",
       "    </tr>\n",
       "    <tr>\n",
       "      <th>7</th>\n",
       "      <td>Guinée-Bissau</td>\n",
       "      <td>786.0</td>\n",
       "      <td>1.83</td>\n",
       "      <td>429.94</td>\n",
       "    </tr>\n",
       "    <tr>\n",
       "      <th>8</th>\n",
       "      <td>Bangladesh</td>\n",
       "      <td>72757.0</td>\n",
       "      <td>159.69</td>\n",
       "      <td>455.63</td>\n",
       "    </tr>\n",
       "    <tr>\n",
       "      <th>9</th>\n",
       "      <td>Lesotho</td>\n",
       "      <td>966.0</td>\n",
       "      <td>2.09</td>\n",
       "      <td>461.86</td>\n",
       "    </tr>\n",
       "  </tbody>\n",
       "</table>\n",
       "</div>"
      ],
      "text/plain": [
       "            Zone  dispoMilliersTonnes  popTotale  dispoParHab\n",
       "0          Yémen               9782.0      27.83       351.43\n",
       "1          Tchad               5304.0      15.02       353.21\n",
       "2    Timor-Leste                447.0       1.24       359.54\n",
       "3    Afghanistan              13515.0      36.30       372.35\n",
       "4       Éthiopie              44014.0     106.40       413.67\n",
       "5         Gambie                940.0       2.21       424.59\n",
       "6        Libéria               2002.0       4.70       425.76\n",
       "7  Guinée-Bissau                786.0       1.83       429.94\n",
       "8     Bangladesh              72757.0     159.69       455.63\n",
       "9        Lesotho                966.0       2.09       461.86"
      ]
     },
     "metadata": {},
     "output_type": "display_data"
    }
   ],
   "source": [
    "dispoParHab_flop10 = dispoParHab.sort_values(\"dispoParHab\", ascending=True)\n",
    "display(dispoParHab_flop10.reset_index(drop=True)[0:10].round(2))"
   ]
  },
  {
   "cell_type": "markdown",
   "id": "e65efc39",
   "metadata": {},
   "source": [
    "# Informations complémentaires"
   ]
  },
  {
   "cell_type": "markdown",
   "id": "0db92a9e",
   "metadata": {},
   "source": [
    "## Utilisation des céréales<a class=\"anchor\" id=\"question8\"></a>"
   ]
  },
  {
   "cell_type": "code",
   "execution_count": 85,
   "id": "5754e25d",
   "metadata": {},
   "outputs": [],
   "source": [
    "# Filtrer les céréales (blé, maïs, seigle, orge, riz, avoine, millet, sorgho)\n",
    "dispo_cereales = dispo_alimentaire[(dispo_alimentaire[\"Produit\"] == \"Céréales, Autres\") | (dispo_alimentaire[\"Produit\"] == \"Blé\") | (dispo_alimentaire[\"Produit\"] == \"Avoine\") | (dispo_alimentaire[\"Produit\"] == \"Orge\") | (dispo_alimentaire[\"Produit\"] == \"Seigle\") | (dispo_alimentaire[\"Produit\"] == \"Maïs\") | (dispo_alimentaire[\"Produit\"] == \"Millet\") | (dispo_alimentaire[\"Produit\"] == \"Riz (Eq Blanchi)\") | (dispo_alimentaire[\"Produit\"] == \"Sorgho\")]"
   ]
  },
  {
   "cell_type": "code",
   "execution_count": 86,
   "id": "d5500848",
   "metadata": {},
   "outputs": [],
   "source": [
    "# Ajout d'une colonne avec la catégorie \"Céréales\"\n",
    "dispo_cereales = dispo_cereales.assign(Catégorie=\"céréales\")"
   ]
  },
  {
   "cell_type": "code",
   "execution_count": 87,
   "id": "e3ebca73",
   "metadata": {},
   "outputs": [
    {
     "data": {
      "text/html": [
       "<div>\n",
       "<style scoped>\n",
       "    .dataframe tbody tr th:only-of-type {\n",
       "        vertical-align: middle;\n",
       "    }\n",
       "\n",
       "    .dataframe tbody tr th {\n",
       "        vertical-align: top;\n",
       "    }\n",
       "\n",
       "    .dataframe thead th {\n",
       "        text-align: right;\n",
       "    }\n",
       "</style>\n",
       "<table border=\"1\" class=\"dataframe\">\n",
       "  <thead>\n",
       "    <tr style=\"text-align: right;\">\n",
       "      <th></th>\n",
       "      <th>Zone</th>\n",
       "      <th>Origine</th>\n",
       "      <th>Catégorie</th>\n",
       "      <th>dispoMilliersTonnes</th>\n",
       "      <th>Nourriture</th>\n",
       "      <th>Aliments pour animaux</th>\n",
       "    </tr>\n",
       "  </thead>\n",
       "  <tbody>\n",
       "    <tr>\n",
       "      <th>7</th>\n",
       "      <td>Afghanistan</td>\n",
       "      <td>vegetale</td>\n",
       "      <td>céréales</td>\n",
       "      <td>5992.0</td>\n",
       "      <td>4895.0</td>\n",
       "      <td>0.0</td>\n",
       "    </tr>\n",
       "    <tr>\n",
       "      <th>12</th>\n",
       "      <td>Afghanistan</td>\n",
       "      <td>vegetale</td>\n",
       "      <td>céréales</td>\n",
       "      <td>0.0</td>\n",
       "      <td>0.0</td>\n",
       "      <td>0.0</td>\n",
       "    </tr>\n",
       "    <tr>\n",
       "      <th>32</th>\n",
       "      <td>Afghanistan</td>\n",
       "      <td>vegetale</td>\n",
       "      <td>céréales</td>\n",
       "      <td>313.0</td>\n",
       "      <td>76.0</td>\n",
       "      <td>200.0</td>\n",
       "    </tr>\n",
       "    <tr>\n",
       "      <th>34</th>\n",
       "      <td>Afghanistan</td>\n",
       "      <td>vegetale</td>\n",
       "      <td>céréales</td>\n",
       "      <td>13.0</td>\n",
       "      <td>12.0</td>\n",
       "      <td>0.0</td>\n",
       "    </tr>\n",
       "    <tr>\n",
       "      <th>40</th>\n",
       "      <td>Afghanistan</td>\n",
       "      <td>vegetale</td>\n",
       "      <td>céréales</td>\n",
       "      <td>524.0</td>\n",
       "      <td>89.0</td>\n",
       "      <td>360.0</td>\n",
       "    </tr>\n",
       "  </tbody>\n",
       "</table>\n",
       "</div>"
      ],
      "text/plain": [
       "           Zone   Origine Catégorie  dispoMilliersTonnes  Nourriture  \\\n",
       "7   Afghanistan  vegetale  céréales               5992.0      4895.0   \n",
       "12  Afghanistan  vegetale  céréales                  0.0         0.0   \n",
       "32  Afghanistan  vegetale  céréales                313.0        76.0   \n",
       "34  Afghanistan  vegetale  céréales                 13.0        12.0   \n",
       "40  Afghanistan  vegetale  céréales                524.0        89.0   \n",
       "\n",
       "    Aliments pour animaux  \n",
       "7                     0.0  \n",
       "12                    0.0  \n",
       "32                  200.0  \n",
       "34                    0.0  \n",
       "40                  360.0  "
      ]
     },
     "metadata": {},
     "output_type": "display_data"
    }
   ],
   "source": [
    "# Filtrer les données\n",
    "dispo_cereales = dispo_cereales[[\"Zone\", \"Origine\", \"Catégorie\", \"dispoMilliersTonnes\", \"Nourriture\", \"Aliments pour animaux\"]]\n",
    "display(dispo_cereales.head())"
   ]
  },
  {
   "cell_type": "markdown",
   "id": "dda23ccd",
   "metadata": {},
   "source": [
    "### Somme totale des céréales<a class=\"anchor\" id=\"section_8_1\"></a>"
   ]
  },
  {
   "cell_type": "code",
   "execution_count": 88,
   "id": "4e0cc1db",
   "metadata": {},
   "outputs": [],
   "source": [
    "# Filtrer les données\n",
    "quantité_cereales = dispo_cereales[(dispo_cereales[\"dispoMilliersTonnes\"] >0)]"
   ]
  },
  {
   "cell_type": "code",
   "execution_count": 89,
   "id": "0dbceca9",
   "metadata": {},
   "outputs": [
    {
     "name": "stdout",
     "output_type": "stream",
     "text": [
      "La quantité de céréales est de 2406999 milliers de tonnes.\n"
     ]
    }
   ],
   "source": [
    "quantité_cereales = dispo_cereales[\"dispoMilliersTonnes\"].sum()\n",
    "\n",
    "print(\"La quantité de céréales est de\", round(quantité_cereales), \"milliers de tonnes.\")"
   ]
  },
  {
   "cell_type": "markdown",
   "id": "fd3ade6c",
   "metadata": {},
   "source": [
    "### Proportion des céréales par rapport à la disponibilité intérieure, tous produits confondus<a class=\"anchor\" id=\"sub_section_8_1_1\"></a>"
   ]
  },
  {
   "cell_type": "code",
   "execution_count": 90,
   "id": "af5e20ae",
   "metadata": {},
   "outputs": [
    {
     "name": "stdout",
     "output_type": "stream",
     "text": [
      "Les céréales représentent 24.43 % de la disponibilité intérieure mondiale.\n"
     ]
    }
   ],
   "source": [
    "ratio_mondial = (quantité_cereales / dispo_int_monde)*100\n",
    "\n",
    "print(\"Les céréales représentent\", round(ratio_mondial, 2), \"% de la disponibilité intérieure mondiale.\")"
   ]
  },
  {
   "cell_type": "markdown",
   "id": "55fac55b",
   "metadata": {},
   "source": [
    "### Proportion de la nourriture par rapport à la disponibilité intérieure mondiale<a class=\"anchor\" id=\"sub_section_8_1_2\"></a>"
   ]
  },
  {
   "cell_type": "code",
   "execution_count": 91,
   "id": "27d8f5e6",
   "metadata": {},
   "outputs": [],
   "source": [
    "# Filtrer les données\n",
    "quantité_cereales_humain = dispo_cereales[(dispo_cereales[\"Nourriture\"] >0)]"
   ]
  },
  {
   "cell_type": "code",
   "execution_count": 92,
   "id": "94f08e36",
   "metadata": {},
   "outputs": [],
   "source": [
    "quantité_cereales_humain = dispo_cereales[\"Nourriture\"].sum()"
   ]
  },
  {
   "cell_type": "code",
   "execution_count": 93,
   "id": "97554563",
   "metadata": {},
   "outputs": [
    {
     "name": "stdout",
     "output_type": "stream",
     "text": [
      "La part de la disponibilité intérieure des céréales attribué à l'alimentation humaine est de 42.75 %\n"
     ]
    }
   ],
   "source": [
    "dispo_total_h = (quantité_cereales_humain / quantité_cereales)*100\n",
    "\n",
    "print(\"La part de la disponibilité intérieure des céréales attribué à l'alimentation humaine est de\", round(dispo_total_h, 2), \"%\")"
   ]
  },
  {
   "cell_type": "markdown",
   "id": "91f239aa",
   "metadata": {},
   "source": [
    "### Proportion des aliments pour animaux par rapport à la disponibilité intérieure mondiale<a class=\"anchor\" id=\"sub_section_8_1_3\"></a>"
   ]
  },
  {
   "cell_type": "code",
   "execution_count": 94,
   "id": "a7416da1",
   "metadata": {},
   "outputs": [],
   "source": [
    "# Filtrer les données\n",
    "quantité_cereales_animal = dispo_cereales[(dispo_cereales[\"Aliments pour animaux\"] >0)]"
   ]
  },
  {
   "cell_type": "code",
   "execution_count": 95,
   "id": "904e4c8f",
   "metadata": {},
   "outputs": [],
   "source": [
    "quantité_cereales_animal = dispo_cereales[\"Aliments pour animaux\"].sum()"
   ]
  },
  {
   "cell_type": "code",
   "execution_count": 96,
   "id": "b556d8e9",
   "metadata": {},
   "outputs": [
    {
     "name": "stdout",
     "output_type": "stream",
     "text": [
      "La part de la disponibilité intérieure des céréales attribué à l'alimentation des animaux est de 36.29 %\n"
     ]
    }
   ],
   "source": [
    "dispo_total_a = (quantité_cereales_animal / quantité_cereales)*100\n",
    "\n",
    "print(\"La part de la disponibilité intérieure des céréales attribué à l'alimentation des animaux est de\", round(dispo_total_a, 2), \"%\")"
   ]
  },
  {
   "cell_type": "markdown",
   "id": "efd3fbdd",
   "metadata": {},
   "source": [
    "### Sommes des céréales par pays<a class=\"anchor\" id=\"section_8_2\"></a>"
   ]
  },
  {
   "cell_type": "code",
   "execution_count": 97,
   "id": "deaeabc1",
   "metadata": {},
   "outputs": [],
   "source": [
    "# Filtrer les données\n",
    "dispo_cereales = dispo_cereales[(dispo_cereales[\"dispoMilliersTonnes\"] >0)]"
   ]
  },
  {
   "cell_type": "code",
   "execution_count": 98,
   "id": "3731fb05",
   "metadata": {},
   "outputs": [
    {
     "data": {
      "text/html": [
       "<div>\n",
       "<style scoped>\n",
       "    .dataframe tbody tr th:only-of-type {\n",
       "        vertical-align: middle;\n",
       "    }\n",
       "\n",
       "    .dataframe tbody tr th {\n",
       "        vertical-align: top;\n",
       "    }\n",
       "\n",
       "    .dataframe thead th {\n",
       "        text-align: right;\n",
       "    }\n",
       "</style>\n",
       "<table border=\"1\" class=\"dataframe\">\n",
       "  <thead>\n",
       "    <tr style=\"text-align: right;\">\n",
       "      <th></th>\n",
       "      <th>Zone</th>\n",
       "      <th>dispoMilliersTonnes</th>\n",
       "    </tr>\n",
       "  </thead>\n",
       "  <tbody>\n",
       "    <tr>\n",
       "      <th>0</th>\n",
       "      <td>Afghanistan</td>\n",
       "      <td>7303.0</td>\n",
       "    </tr>\n",
       "    <tr>\n",
       "      <th>1</th>\n",
       "      <td>Afrique du Sud</td>\n",
       "      <td>15493.0</td>\n",
       "    </tr>\n",
       "    <tr>\n",
       "      <th>2</th>\n",
       "      <td>Albanie</td>\n",
       "      <td>1145.0</td>\n",
       "    </tr>\n",
       "    <tr>\n",
       "      <th>3</th>\n",
       "      <td>Algérie</td>\n",
       "      <td>15013.0</td>\n",
       "    </tr>\n",
       "    <tr>\n",
       "      <th>4</th>\n",
       "      <td>Allemagne</td>\n",
       "      <td>42158.0</td>\n",
       "    </tr>\n",
       "  </tbody>\n",
       "</table>\n",
       "</div>"
      ],
      "text/plain": [
       "             Zone  dispoMilliersTonnes\n",
       "0     Afghanistan               7303.0\n",
       "1  Afrique du Sud              15493.0\n",
       "2         Albanie               1145.0\n",
       "3         Algérie              15013.0\n",
       "4       Allemagne              42158.0"
      ]
     },
     "execution_count": 98,
     "metadata": {},
     "output_type": "execute_result"
    }
   ],
   "source": [
    "# Grouper par pays\n",
    "dispo_int_pays = dispo_cereales.groupby([\"Zone\"])[\"dispoMilliersTonnes\"].sum().reset_index()\n",
    "dispo_int_pays.head()"
   ]
  },
  {
   "cell_type": "markdown",
   "id": "0b2c88fc",
   "metadata": {},
   "source": [
    "### Somme des céréales attribuée à l'alimentation humaine par pays<a class=\"anchor\" id=\"sub_section_8_2_1\"></a>"
   ]
  },
  {
   "cell_type": "code",
   "execution_count": 99,
   "id": "fbdc1a95",
   "metadata": {},
   "outputs": [],
   "source": [
    "# Filtrer les données\n",
    "dispoHum_cereales_pays = dispo_cereales[(dispo_cereales[\"Nourriture\"] >0)]"
   ]
  },
  {
   "cell_type": "code",
   "execution_count": 100,
   "id": "5dbb04bd",
   "metadata": {},
   "outputs": [
    {
     "data": {
      "text/html": [
       "<div>\n",
       "<style scoped>\n",
       "    .dataframe tbody tr th:only-of-type {\n",
       "        vertical-align: middle;\n",
       "    }\n",
       "\n",
       "    .dataframe tbody tr th {\n",
       "        vertical-align: top;\n",
       "    }\n",
       "\n",
       "    .dataframe thead th {\n",
       "        text-align: right;\n",
       "    }\n",
       "</style>\n",
       "<table border=\"1\" class=\"dataframe\">\n",
       "  <thead>\n",
       "    <tr style=\"text-align: right;\">\n",
       "      <th></th>\n",
       "      <th>Zone</th>\n",
       "      <th>Nourriture</th>\n",
       "    </tr>\n",
       "  </thead>\n",
       "  <tbody>\n",
       "    <tr>\n",
       "      <th>0</th>\n",
       "      <td>Afghanistan</td>\n",
       "      <td>5494.0</td>\n",
       "    </tr>\n",
       "    <tr>\n",
       "      <th>1</th>\n",
       "      <td>Afrique du Sud</td>\n",
       "      <td>9503.0</td>\n",
       "    </tr>\n",
       "    <tr>\n",
       "      <th>2</th>\n",
       "      <td>Albanie</td>\n",
       "      <td>474.0</td>\n",
       "    </tr>\n",
       "    <tr>\n",
       "      <th>3</th>\n",
       "      <td>Algérie</td>\n",
       "      <td>8535.0</td>\n",
       "    </tr>\n",
       "    <tr>\n",
       "      <th>4</th>\n",
       "      <td>Allemagne</td>\n",
       "      <td>9191.0</td>\n",
       "    </tr>\n",
       "  </tbody>\n",
       "</table>\n",
       "</div>"
      ],
      "text/plain": [
       "             Zone  Nourriture\n",
       "0     Afghanistan      5494.0\n",
       "1  Afrique du Sud      9503.0\n",
       "2         Albanie       474.0\n",
       "3         Algérie      8535.0\n",
       "4       Allemagne      9191.0"
      ]
     },
     "execution_count": 100,
     "metadata": {},
     "output_type": "execute_result"
    }
   ],
   "source": [
    "# Grouper par pays\n",
    "df_part_humain = dispoHum_cereales_pays.groupby([\"Zone\"])[\"Nourriture\"].sum().reset_index()\n",
    "df_part_humain.head()"
   ]
  },
  {
   "cell_type": "markdown",
   "id": "8b17327c",
   "metadata": {},
   "source": [
    "### Somme des céréales attribuée à l'alimentation animale par pays<a class=\"anchor\" id=\"sub_section_8_2_2\"></a>"
   ]
  },
  {
   "cell_type": "code",
   "execution_count": 101,
   "id": "7848cfc6",
   "metadata": {},
   "outputs": [],
   "source": [
    "# Filtrer les données\n",
    "dispoAnim_cereales_pays = dispo_cereales[(dispo_cereales[\"Aliments pour animaux\"] >0)]"
   ]
  },
  {
   "cell_type": "code",
   "execution_count": 102,
   "id": "d8f3a1f1",
   "metadata": {},
   "outputs": [
    {
     "data": {
      "text/html": [
       "<div>\n",
       "<style scoped>\n",
       "    .dataframe tbody tr th:only-of-type {\n",
       "        vertical-align: middle;\n",
       "    }\n",
       "\n",
       "    .dataframe tbody tr th {\n",
       "        vertical-align: top;\n",
       "    }\n",
       "\n",
       "    .dataframe thead th {\n",
       "        text-align: right;\n",
       "    }\n",
       "</style>\n",
       "<table border=\"1\" class=\"dataframe\">\n",
       "  <thead>\n",
       "    <tr style=\"text-align: right;\">\n",
       "      <th></th>\n",
       "      <th>Zone</th>\n",
       "      <th>Aliments pour animaux</th>\n",
       "    </tr>\n",
       "  </thead>\n",
       "  <tbody>\n",
       "    <tr>\n",
       "      <th>0</th>\n",
       "      <td>Afghanistan</td>\n",
       "      <td>560.0</td>\n",
       "    </tr>\n",
       "    <tr>\n",
       "      <th>1</th>\n",
       "      <td>Afrique du Sud</td>\n",
       "      <td>4824.0</td>\n",
       "    </tr>\n",
       "    <tr>\n",
       "      <th>2</th>\n",
       "      <td>Albanie</td>\n",
       "      <td>411.0</td>\n",
       "    </tr>\n",
       "    <tr>\n",
       "      <th>3</th>\n",
       "      <td>Algérie</td>\n",
       "      <td>4337.0</td>\n",
       "    </tr>\n",
       "    <tr>\n",
       "      <th>4</th>\n",
       "      <td>Allemagne</td>\n",
       "      <td>26615.0</td>\n",
       "    </tr>\n",
       "  </tbody>\n",
       "</table>\n",
       "</div>"
      ],
      "text/plain": [
       "             Zone  Aliments pour animaux\n",
       "0     Afghanistan                  560.0\n",
       "1  Afrique du Sud                 4824.0\n",
       "2         Albanie                  411.0\n",
       "3         Algérie                 4337.0\n",
       "4       Allemagne                26615.0"
      ]
     },
     "execution_count": 102,
     "metadata": {},
     "output_type": "execute_result"
    }
   ],
   "source": [
    "# Grouper par pays\n",
    "df_part_animaux = dispoAnim_cereales_pays.groupby([\"Zone\"])[\"Aliments pour animaux\"].sum().reset_index()\n",
    "df_part_animaux.head()"
   ]
  },
  {
   "cell_type": "code",
   "execution_count": 103,
   "id": "d11cf44c",
   "metadata": {},
   "outputs": [
    {
     "data": {
      "text/html": [
       "<div>\n",
       "<style scoped>\n",
       "    .dataframe tbody tr th:only-of-type {\n",
       "        vertical-align: middle;\n",
       "    }\n",
       "\n",
       "    .dataframe tbody tr th {\n",
       "        vertical-align: top;\n",
       "    }\n",
       "\n",
       "    .dataframe thead th {\n",
       "        text-align: right;\n",
       "    }\n",
       "</style>\n",
       "<table border=\"1\" class=\"dataframe\">\n",
       "  <thead>\n",
       "    <tr style=\"text-align: right;\">\n",
       "      <th></th>\n",
       "      <th>Zone</th>\n",
       "      <th>dispoMilliersTonnes</th>\n",
       "      <th>Aliments pour animaux</th>\n",
       "      <th>Nourriture</th>\n",
       "    </tr>\n",
       "  </thead>\n",
       "  <tbody>\n",
       "    <tr>\n",
       "      <th>0</th>\n",
       "      <td>Afghanistan</td>\n",
       "      <td>7303.0</td>\n",
       "      <td>560.0</td>\n",
       "      <td>5494.0</td>\n",
       "    </tr>\n",
       "    <tr>\n",
       "      <th>1</th>\n",
       "      <td>Afrique du Sud</td>\n",
       "      <td>15493.0</td>\n",
       "      <td>4824.0</td>\n",
       "      <td>9503.0</td>\n",
       "    </tr>\n",
       "    <tr>\n",
       "      <th>2</th>\n",
       "      <td>Albanie</td>\n",
       "      <td>1145.0</td>\n",
       "      <td>411.0</td>\n",
       "      <td>474.0</td>\n",
       "    </tr>\n",
       "    <tr>\n",
       "      <th>3</th>\n",
       "      <td>Algérie</td>\n",
       "      <td>15013.0</td>\n",
       "      <td>4337.0</td>\n",
       "      <td>8535.0</td>\n",
       "    </tr>\n",
       "    <tr>\n",
       "      <th>4</th>\n",
       "      <td>Allemagne</td>\n",
       "      <td>42158.0</td>\n",
       "      <td>26615.0</td>\n",
       "      <td>9191.0</td>\n",
       "    </tr>\n",
       "  </tbody>\n",
       "</table>\n",
       "</div>"
      ],
      "text/plain": [
       "             Zone  dispoMilliersTonnes  Aliments pour animaux  Nourriture\n",
       "0     Afghanistan               7303.0                  560.0      5494.0\n",
       "1  Afrique du Sud              15493.0                 4824.0      9503.0\n",
       "2         Albanie               1145.0                  411.0       474.0\n",
       "3         Algérie              15013.0                 4337.0      8535.0\n",
       "4       Allemagne              42158.0                26615.0      9191.0"
      ]
     },
     "metadata": {},
     "output_type": "display_data"
    }
   ],
   "source": [
    "# Jointure des données de disponibilité alimentaire, d'aliments pour animaux et de nourriture\n",
    "dispo_cerealesAll = pd.merge(pd.merge(dispo_int_pays, df_part_animaux), df_part_humain, how=\"left\", on=\"Zone\")\n",
    "display(dispo_cerealesAll.head())"
   ]
  },
  {
   "cell_type": "code",
   "execution_count": 104,
   "id": "7f6033d3",
   "metadata": {},
   "outputs": [
    {
     "data": {
      "text/html": [
       "<div>\n",
       "<style scoped>\n",
       "    .dataframe tbody tr th:only-of-type {\n",
       "        vertical-align: middle;\n",
       "    }\n",
       "\n",
       "    .dataframe tbody tr th {\n",
       "        vertical-align: top;\n",
       "    }\n",
       "\n",
       "    .dataframe thead th {\n",
       "        text-align: right;\n",
       "    }\n",
       "</style>\n",
       "<table border=\"1\" class=\"dataframe\">\n",
       "  <thead>\n",
       "    <tr style=\"text-align: right;\">\n",
       "      <th></th>\n",
       "      <th>Zone</th>\n",
       "      <th>dispoMilliersTonnes</th>\n",
       "      <th>Aliments pour animaux</th>\n",
       "      <th>Nourriture</th>\n",
       "    </tr>\n",
       "  </thead>\n",
       "  <tbody>\n",
       "    <tr>\n",
       "      <th>0</th>\n",
       "      <td>Chine, continentale</td>\n",
       "      <td>483482.0</td>\n",
       "      <td>193042.0</td>\n",
       "      <td>209038.0</td>\n",
       "    </tr>\n",
       "    <tr>\n",
       "      <th>1</th>\n",
       "      <td>États-Unis d'Amérique</td>\n",
       "      <td>343006.0</td>\n",
       "      <td>140096.0</td>\n",
       "      <td>33810.0</td>\n",
       "    </tr>\n",
       "    <tr>\n",
       "      <th>2</th>\n",
       "      <td>Inde</td>\n",
       "      <td>216579.0</td>\n",
       "      <td>11419.0</td>\n",
       "      <td>185886.0</td>\n",
       "    </tr>\n",
       "    <tr>\n",
       "      <th>3</th>\n",
       "      <td>Brésil</td>\n",
       "      <td>79455.0</td>\n",
       "      <td>43264.0</td>\n",
       "      <td>23290.0</td>\n",
       "    </tr>\n",
       "    <tr>\n",
       "      <th>4</th>\n",
       "      <td>Indonésie</td>\n",
       "      <td>74532.0</td>\n",
       "      <td>8045.0</td>\n",
       "      <td>48845.0</td>\n",
       "    </tr>\n",
       "  </tbody>\n",
       "</table>\n",
       "</div>"
      ],
      "text/plain": [
       "                    Zone  dispoMilliersTonnes  Aliments pour animaux  \\\n",
       "0    Chine, continentale             483482.0               193042.0   \n",
       "1  États-Unis d'Amérique             343006.0               140096.0   \n",
       "2                   Inde             216579.0                11419.0   \n",
       "3                 Brésil              79455.0                43264.0   \n",
       "4              Indonésie              74532.0                 8045.0   \n",
       "\n",
       "   Nourriture  \n",
       "0    209038.0  \n",
       "1     33810.0  \n",
       "2    185886.0  \n",
       "3     23290.0  \n",
       "4     48845.0  "
      ]
     },
     "metadata": {},
     "output_type": "display_data"
    }
   ],
   "source": [
    "# Organisation des données et reset de l'index\n",
    "dispo_cerealesAll = dispo_cerealesAll.sort_values(\"dispoMilliersTonnes\", ascending=False)\n",
    "display(dispo_cerealesAll.reset_index(drop=True).head())"
   ]
  },
  {
   "cell_type": "markdown",
   "id": "35375b6a",
   "metadata": {},
   "source": [
    "### Proportion de la disponibilité intérieure des céréales attribuée à l'alimentation animale par pays<a class=\"anchor\" id=\"section_8_3\"></a>"
   ]
  },
  {
   "cell_type": "code",
   "execution_count": 105,
   "id": "11a8eb54",
   "metadata": {},
   "outputs": [
    {
     "data": {
      "text/html": [
       "<div>\n",
       "<style scoped>\n",
       "    .dataframe tbody tr th:only-of-type {\n",
       "        vertical-align: middle;\n",
       "    }\n",
       "\n",
       "    .dataframe tbody tr th {\n",
       "        vertical-align: top;\n",
       "    }\n",
       "\n",
       "    .dataframe thead th {\n",
       "        text-align: right;\n",
       "    }\n",
       "</style>\n",
       "<table border=\"1\" class=\"dataframe\">\n",
       "  <thead>\n",
       "    <tr style=\"text-align: right;\">\n",
       "      <th></th>\n",
       "      <th>Zone</th>\n",
       "      <th>dispoMilliersTonnes</th>\n",
       "      <th>Aliments pour animaux</th>\n",
       "      <th>Nourriture</th>\n",
       "      <th>ratioAliAnimal (%)</th>\n",
       "    </tr>\n",
       "  </thead>\n",
       "  <tbody>\n",
       "    <tr>\n",
       "      <th>32</th>\n",
       "      <td>Chine, continentale</td>\n",
       "      <td>483482.0</td>\n",
       "      <td>193042.0</td>\n",
       "      <td>209038.0</td>\n",
       "      <td>39.93</td>\n",
       "    </tr>\n",
       "    <tr>\n",
       "      <th>158</th>\n",
       "      <td>États-Unis d'Amérique</td>\n",
       "      <td>343006.0</td>\n",
       "      <td>140096.0</td>\n",
       "      <td>33810.0</td>\n",
       "      <td>40.84</td>\n",
       "    </tr>\n",
       "    <tr>\n",
       "      <th>62</th>\n",
       "      <td>Inde</td>\n",
       "      <td>216579.0</td>\n",
       "      <td>11419.0</td>\n",
       "      <td>185886.0</td>\n",
       "      <td>5.27</td>\n",
       "    </tr>\n",
       "    <tr>\n",
       "      <th>20</th>\n",
       "      <td>Brésil</td>\n",
       "      <td>79455.0</td>\n",
       "      <td>43264.0</td>\n",
       "      <td>23290.0</td>\n",
       "      <td>54.45</td>\n",
       "    </tr>\n",
       "    <tr>\n",
       "      <th>63</th>\n",
       "      <td>Indonésie</td>\n",
       "      <td>74532.0</td>\n",
       "      <td>8045.0</td>\n",
       "      <td>48845.0</td>\n",
       "      <td>10.79</td>\n",
       "    </tr>\n",
       "  </tbody>\n",
       "</table>\n",
       "</div>"
      ],
      "text/plain": [
       "                      Zone  dispoMilliersTonnes  Aliments pour animaux  \\\n",
       "32     Chine, continentale             483482.0               193042.0   \n",
       "158  États-Unis d'Amérique             343006.0               140096.0   \n",
       "62                    Inde             216579.0                11419.0   \n",
       "20                  Brésil              79455.0                43264.0   \n",
       "63               Indonésie              74532.0                 8045.0   \n",
       "\n",
       "     Nourriture  ratioAliAnimal (%)  \n",
       "32     209038.0               39.93  \n",
       "158     33810.0               40.84  \n",
       "62     185886.0                5.27  \n",
       "20      23290.0               54.45  \n",
       "63      48845.0               10.79  "
      ]
     },
     "execution_count": 105,
     "metadata": {},
     "output_type": "execute_result"
    }
   ],
   "source": [
    "dispo_cerealesAll[\"ratioAliAnimal (%)\"] = (dispo_cerealesAll[\"Aliments pour animaux\"]/dispo_cerealesAll[\"dispoMilliersTonnes\"])*100\n",
    "dispo_cerealesAll.head().round(2)"
   ]
  },
  {
   "cell_type": "markdown",
   "id": "b59afecd",
   "metadata": {},
   "source": [
    "### Proportion de la disponibilité intérieure des céréales attribuée à l'alimentation humaine par pays<a class=\"anchor\" id=\"section_8_4\"></a>"
   ]
  },
  {
   "cell_type": "code",
   "execution_count": 106,
   "id": "d318a635",
   "metadata": {},
   "outputs": [
    {
     "data": {
      "text/html": [
       "<div>\n",
       "<style scoped>\n",
       "    .dataframe tbody tr th:only-of-type {\n",
       "        vertical-align: middle;\n",
       "    }\n",
       "\n",
       "    .dataframe tbody tr th {\n",
       "        vertical-align: top;\n",
       "    }\n",
       "\n",
       "    .dataframe thead th {\n",
       "        text-align: right;\n",
       "    }\n",
       "</style>\n",
       "<table border=\"1\" class=\"dataframe\">\n",
       "  <thead>\n",
       "    <tr style=\"text-align: right;\">\n",
       "      <th></th>\n",
       "      <th>Zone</th>\n",
       "      <th>dispoMilliersTonnes</th>\n",
       "      <th>Aliments pour animaux</th>\n",
       "      <th>Nourriture</th>\n",
       "      <th>ratioAliAnimal (%)</th>\n",
       "      <th>ratioAliHumain (%)</th>\n",
       "    </tr>\n",
       "  </thead>\n",
       "  <tbody>\n",
       "    <tr>\n",
       "      <th>32</th>\n",
       "      <td>Chine, continentale</td>\n",
       "      <td>483482.0</td>\n",
       "      <td>193042.0</td>\n",
       "      <td>209038.0</td>\n",
       "      <td>39.93</td>\n",
       "      <td>43.24</td>\n",
       "    </tr>\n",
       "    <tr>\n",
       "      <th>158</th>\n",
       "      <td>États-Unis d'Amérique</td>\n",
       "      <td>343006.0</td>\n",
       "      <td>140096.0</td>\n",
       "      <td>33810.0</td>\n",
       "      <td>40.84</td>\n",
       "      <td>9.86</td>\n",
       "    </tr>\n",
       "    <tr>\n",
       "      <th>62</th>\n",
       "      <td>Inde</td>\n",
       "      <td>216579.0</td>\n",
       "      <td>11419.0</td>\n",
       "      <td>185886.0</td>\n",
       "      <td>5.27</td>\n",
       "      <td>85.83</td>\n",
       "    </tr>\n",
       "    <tr>\n",
       "      <th>20</th>\n",
       "      <td>Brésil</td>\n",
       "      <td>79455.0</td>\n",
       "      <td>43264.0</td>\n",
       "      <td>23290.0</td>\n",
       "      <td>54.45</td>\n",
       "      <td>29.31</td>\n",
       "    </tr>\n",
       "    <tr>\n",
       "      <th>63</th>\n",
       "      <td>Indonésie</td>\n",
       "      <td>74532.0</td>\n",
       "      <td>8045.0</td>\n",
       "      <td>48845.0</td>\n",
       "      <td>10.79</td>\n",
       "      <td>65.54</td>\n",
       "    </tr>\n",
       "  </tbody>\n",
       "</table>\n",
       "</div>"
      ],
      "text/plain": [
       "                      Zone  dispoMilliersTonnes  Aliments pour animaux  \\\n",
       "32     Chine, continentale             483482.0               193042.0   \n",
       "158  États-Unis d'Amérique             343006.0               140096.0   \n",
       "62                    Inde             216579.0                11419.0   \n",
       "20                  Brésil              79455.0                43264.0   \n",
       "63               Indonésie              74532.0                 8045.0   \n",
       "\n",
       "     Nourriture  ratioAliAnimal (%)  ratioAliHumain (%)  \n",
       "32     209038.0               39.93               43.24  \n",
       "158     33810.0               40.84                9.86  \n",
       "62     185886.0                5.27               85.83  \n",
       "20      23290.0               54.45               29.31  \n",
       "63      48845.0               10.79               65.54  "
      ]
     },
     "execution_count": 106,
     "metadata": {},
     "output_type": "execute_result"
    }
   ],
   "source": [
    "dispo_cerealesAll[\"ratioAliHumain (%)\"] = (dispo_cerealesAll[\"Nourriture\"]/dispo_cerealesAll[\"dispoMilliersTonnes\"])*100\n",
    "dispo_cerealesAll.head().round(2)"
   ]
  },
  {
   "cell_type": "markdown",
   "id": "9dbea7a9",
   "metadata": {},
   "source": [
    "### Pays où la part des céréales attribué à l'alimentation des animaux est la plus élevé<a class=\"anchor\" id=\"section_8_5\"></a>"
   ]
  },
  {
   "cell_type": "code",
   "execution_count": 107,
   "id": "18cbf250",
   "metadata": {},
   "outputs": [
    {
     "data": {
      "text/html": [
       "<div>\n",
       "<style scoped>\n",
       "    .dataframe tbody tr th:only-of-type {\n",
       "        vertical-align: middle;\n",
       "    }\n",
       "\n",
       "    .dataframe tbody tr th {\n",
       "        vertical-align: top;\n",
       "    }\n",
       "\n",
       "    .dataframe thead th {\n",
       "        text-align: right;\n",
       "    }\n",
       "</style>\n",
       "<table border=\"1\" class=\"dataframe\">\n",
       "  <thead>\n",
       "    <tr style=\"text-align: right;\">\n",
       "      <th></th>\n",
       "      <th>Zone</th>\n",
       "      <th>dispoMilliersTonnes</th>\n",
       "      <th>Aliments pour animaux</th>\n",
       "      <th>Nourriture</th>\n",
       "      <th>ratioAliAnimal (%)</th>\n",
       "      <th>ratioAliHumain (%)</th>\n",
       "    </tr>\n",
       "  </thead>\n",
       "  <tbody>\n",
       "    <tr>\n",
       "      <th>0</th>\n",
       "      <td>Danemark</td>\n",
       "      <td>8073.0</td>\n",
       "      <td>6649.0</td>\n",
       "      <td>737.0</td>\n",
       "      <td>82.36</td>\n",
       "      <td>9.13</td>\n",
       "    </tr>\n",
       "    <tr>\n",
       "      <th>1</th>\n",
       "      <td>Irlande</td>\n",
       "      <td>3742.0</td>\n",
       "      <td>2861.0</td>\n",
       "      <td>584.0</td>\n",
       "      <td>76.46</td>\n",
       "      <td>15.61</td>\n",
       "    </tr>\n",
       "    <tr>\n",
       "      <th>2</th>\n",
       "      <td>Espagne</td>\n",
       "      <td>33495.0</td>\n",
       "      <td>24926.0</td>\n",
       "      <td>4971.0</td>\n",
       "      <td>74.42</td>\n",
       "      <td>14.84</td>\n",
       "    </tr>\n",
       "    <tr>\n",
       "      <th>3</th>\n",
       "      <td>Canada</td>\n",
       "      <td>32863.0</td>\n",
       "      <td>23887.0</td>\n",
       "      <td>4183.0</td>\n",
       "      <td>72.69</td>\n",
       "      <td>12.73</td>\n",
       "    </tr>\n",
       "    <tr>\n",
       "      <th>4</th>\n",
       "      <td>Croatie</td>\n",
       "      <td>2816.0</td>\n",
       "      <td>1990.0</td>\n",
       "      <td>520.0</td>\n",
       "      <td>70.67</td>\n",
       "      <td>18.47</td>\n",
       "    </tr>\n",
       "  </tbody>\n",
       "</table>\n",
       "</div>"
      ],
      "text/plain": [
       "       Zone  dispoMilliersTonnes  Aliments pour animaux  Nourriture  \\\n",
       "0  Danemark               8073.0                 6649.0       737.0   \n",
       "1   Irlande               3742.0                 2861.0       584.0   \n",
       "2   Espagne              33495.0                24926.0      4971.0   \n",
       "3    Canada              32863.0                23887.0      4183.0   \n",
       "4   Croatie               2816.0                 1990.0       520.0   \n",
       "\n",
       "   ratioAliAnimal (%)  ratioAliHumain (%)  \n",
       "0               82.36                9.13  \n",
       "1               76.46               15.61  \n",
       "2               74.42               14.84  \n",
       "3               72.69               12.73  \n",
       "4               70.67               18.47  "
      ]
     },
     "metadata": {},
     "output_type": "display_data"
    }
   ],
   "source": [
    "# Organisation des données et reset de l'index\n",
    "top_cerealesAnimal = dispo_cerealesAll.sort_values(\"ratioAliAnimal (%)\", ascending=False)\n",
    "display(top_cerealesAnimal.reset_index(drop=True).head().round(2))"
   ]
  },
  {
   "cell_type": "markdown",
   "id": "75b73c7e",
   "metadata": {},
   "source": [
    "### Pays où la part des céréales attribué à l'alimentation humaine est la plus élevé<a class=\"anchor\" id=\"section_8_6\"></a>"
   ]
  },
  {
   "cell_type": "code",
   "execution_count": 108,
   "id": "715bbd27",
   "metadata": {},
   "outputs": [
    {
     "data": {
      "text/html": [
       "<div>\n",
       "<style scoped>\n",
       "    .dataframe tbody tr th:only-of-type {\n",
       "        vertical-align: middle;\n",
       "    }\n",
       "\n",
       "    .dataframe tbody tr th {\n",
       "        vertical-align: top;\n",
       "    }\n",
       "\n",
       "    .dataframe thead th {\n",
       "        text-align: right;\n",
       "    }\n",
       "</style>\n",
       "<table border=\"1\" class=\"dataframe\">\n",
       "  <thead>\n",
       "    <tr style=\"text-align: right;\">\n",
       "      <th></th>\n",
       "      <th>Zone</th>\n",
       "      <th>dispoMilliersTonnes</th>\n",
       "      <th>Aliments pour animaux</th>\n",
       "      <th>Nourriture</th>\n",
       "      <th>ratioAliAnimal (%)</th>\n",
       "      <th>ratioAliHumain (%)</th>\n",
       "    </tr>\n",
       "  </thead>\n",
       "  <tbody>\n",
       "    <tr>\n",
       "      <th>0</th>\n",
       "      <td>Chine - RAS de Hong-Kong</td>\n",
       "      <td>802.0</td>\n",
       "      <td>2.0</td>\n",
       "      <td>763.0</td>\n",
       "      <td>0.25</td>\n",
       "      <td>95.14</td>\n",
       "    </tr>\n",
       "    <tr>\n",
       "      <th>1</th>\n",
       "      <td>Timor-Leste</td>\n",
       "      <td>197.0</td>\n",
       "      <td>8.0</td>\n",
       "      <td>184.0</td>\n",
       "      <td>4.06</td>\n",
       "      <td>93.40</td>\n",
       "    </tr>\n",
       "    <tr>\n",
       "      <th>2</th>\n",
       "      <td>Mauritanie</td>\n",
       "      <td>724.0</td>\n",
       "      <td>12.0</td>\n",
       "      <td>668.0</td>\n",
       "      <td>1.66</td>\n",
       "      <td>92.27</td>\n",
       "    </tr>\n",
       "    <tr>\n",
       "      <th>3</th>\n",
       "      <td>Lesotho</td>\n",
       "      <td>514.0</td>\n",
       "      <td>1.0</td>\n",
       "      <td>469.0</td>\n",
       "      <td>0.19</td>\n",
       "      <td>91.25</td>\n",
       "    </tr>\n",
       "    <tr>\n",
       "      <th>4</th>\n",
       "      <td>Yémen</td>\n",
       "      <td>4354.0</td>\n",
       "      <td>210.0</td>\n",
       "      <td>3950.0</td>\n",
       "      <td>4.82</td>\n",
       "      <td>90.72</td>\n",
       "    </tr>\n",
       "  </tbody>\n",
       "</table>\n",
       "</div>"
      ],
      "text/plain": [
       "                       Zone  dispoMilliersTonnes  Aliments pour animaux  \\\n",
       "0  Chine - RAS de Hong-Kong                802.0                    2.0   \n",
       "1               Timor-Leste                197.0                    8.0   \n",
       "2                Mauritanie                724.0                   12.0   \n",
       "3                   Lesotho                514.0                    1.0   \n",
       "4                     Yémen               4354.0                  210.0   \n",
       "\n",
       "   Nourriture  ratioAliAnimal (%)  ratioAliHumain (%)  \n",
       "0       763.0                0.25               95.14  \n",
       "1       184.0                4.06               93.40  \n",
       "2       668.0                1.66               92.27  \n",
       "3       469.0                0.19               91.25  \n",
       "4      3950.0                4.82               90.72  "
      ]
     },
     "metadata": {},
     "output_type": "display_data"
    }
   ],
   "source": [
    "# Organisation des données et reset de l'index\n",
    "top_cerealesHomme = dispo_cerealesAll.sort_values(\"ratioAliHumain (%)\", ascending=False)\n",
    "display(top_cerealesHomme.reset_index(drop=True).head().round(2))"
   ]
  }
 ],
 "metadata": {
  "kernelspec": {
   "display_name": "Python 3 (ipykernel)",
   "language": "python",
   "name": "python3"
  },
  "language_info": {
   "codemirror_mode": {
    "name": "ipython",
    "version": 3
   },
   "file_extension": ".py",
   "mimetype": "text/x-python",
   "name": "python",
   "nbconvert_exporter": "python",
   "pygments_lexer": "ipython3",
   "version": "3.9.13"
  }
 },
 "nbformat": 4,
 "nbformat_minor": 5
}
