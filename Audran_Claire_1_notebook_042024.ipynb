{
 "cells": [
  {
   "cell_type": "markdown",
   "id": "3dee2b7e",
   "metadata": {},
   "source": [
    "## 1. Preliminary"
   ]
  },
  {
   "cell_type": "markdown",
   "id": "8ab012ff",
   "metadata": {},
   "source": [
    "### 1.1 Libraries"
   ]
  },
  {
   "cell_type": "code",
   "execution_count": 1,
   "id": "c99c8247",
   "metadata": {},
   "outputs": [],
   "source": [
    "import pandas as pd\n",
    "import numpy as np\n",
    "\n",
    "# Options pandas\n",
    "pd.options.mode.chained_assignment = None"
   ]
  },
  {
   "cell_type": "markdown",
   "id": "934c1bc8",
   "metadata": {},
   "source": [
    "### 1.2 Data"
   ]
  },
  {
   "cell_type": "code",
   "execution_count": 2,
   "id": "485e1526",
   "metadata": {},
   "outputs": [],
   "source": [
    "# Constants for average energy needs\n",
    "DAILY_KCAL_NEED_FEMALE = 2100\n",
    "DAILY_KCAL_NEED_MALE = 2550\n",
    "DAILY_KCAL_NEED_AVERAGE = (DAILY_KCAL_NEED_FEMALE + DAILY_KCAL_NEED_MALE) / 2\n",
    "YEARLY_KCAL_NEED = DAILY_KCAL_NEED_AVERAGE * 365"
   ]
  },
  {
   "cell_type": "markdown",
   "id": "ecf47259",
   "metadata": {},
   "source": [
    "## 2. Data preparation"
   ]
  },
  {
   "cell_type": "code",
   "execution_count": 3,
   "id": "3caccc52",
   "metadata": {},
   "outputs": [],
   "source": [
    "# Function to import data with optional filters\n",
    "def import_data(file_path, year_column, value_column, year_filter=None, value_filter=None):\n",
    "    data = pd.read_csv(file_path)\n",
    "    if year_filter is not None:\n",
    "        data = data[data[year_column] == year_filter]\n",
    "    if value_filter is not None:\n",
    "        data = data[data[value_column] > value_filter]\n",
    "    return data"
   ]
  },
  {
   "cell_type": "code",
   "execution_count": 4,
   "id": "337ec050",
   "metadata": {},
   "outputs": [],
   "source": [
    "# Data Importation\n",
    "def load_data():\n",
    "    population_2017 = import_data(\"population.csv\", \"Année\", \"Valeur\", year_filter=2017, value_filter=0.0)\n",
    "    malnourished_2017 = import_data(\"sous_nutrition.csv\", \"Année\", \"Valeur\", year_filter=\"2016-2018\")\n",
    "    food_availability = pd.read_csv(\"dispo_alimentaire.csv\")\n",
    "    donations_2013 = import_data(\"aide_alimentaire.csv\", \"Année\", \"Valeur\", year_filter=2013)\n",
    "    return population_2017, malnourished_2017, food_availability, donations_2013"
   ]
  },
  {
   "cell_type": "code",
   "execution_count": 5,
   "id": "c998615d",
   "metadata": {},
   "outputs": [],
   "source": [
    "# Handling missing data\n",
    "def handle_missing_values(data):\n",
    "    if \"Valeur\" in data.columns:\n",
    "        # If the “Value” column contains strings, replace them with 0\n",
    "        if data[\"Valeur\"].dtype == 'object':\n",
    "            data.loc[data[\"Valeur\"] == \"<0.1\", \"Valeur\"] = 0\n",
    "            # Convert column to float type\n",
    "            data[\"Valeur\"] = data[\"Valeur\"].astype(float)\n",
    "        # Replace missing values with 0\n",
    "        data[\"Valeur\"].fillna(0, inplace=True)\n",
    "    return data"
   ]
  },
  {
   "cell_type": "code",
   "execution_count": 6,
   "id": "f3b31342",
   "metadata": {},
   "outputs": [],
   "source": [
    "# Data type conversion\n",
    "def convert_data_types(data):\n",
    "    if \"Année\" in data.columns:\n",
    "        data[\"Année\"] = data[\"Année\"].astype(str)\n",
    "    if \"Valeur\" in data.columns:\n",
    "        data[\"Valeur\"] = pd.to_numeric(data[\"Valeur\"], errors='coerce')\n",
    "    return data"
   ]
  },
  {
   "cell_type": "code",
   "execution_count": 7,
   "id": "9134a85a",
   "metadata": {},
   "outputs": [],
   "source": [
    "# Data preparation\n",
    "def prepare_data():\n",
    "    population_2017, malnourished_2017, food_availability, donations_2013 = load_data()\n",
    "    population_2017 = handle_missing_values(population_2017)\n",
    "    malnourished_2017 = handle_missing_values(malnourished_2017)\n",
    "    food_availability = handle_missing_values(food_availability)\n",
    "    donations_2013 = handle_missing_values(donations_2013)\n",
    "    population_2017 = convert_data_types(population_2017)\n",
    "    malnourished_2017 = convert_data_types(malnourished_2017)\n",
    "    food_availability = convert_data_types(food_availability)\n",
    "    donations_2013 = convert_data_types(donations_2013)\n",
    "    return population_2017, malnourished_2017, food_availability, donations_2013"
   ]
  },
  {
   "cell_type": "code",
   "execution_count": 8,
   "id": "e25c7ed4",
   "metadata": {},
   "outputs": [],
   "source": [
    "# Loading prepared data\n",
    "population_2017, malnourished_2017, food_availability, donations_2013 = prepare_data()"
   ]
  },
  {
   "cell_type": "markdown",
   "id": "87383fc2",
   "metadata": {},
   "source": [
    "### 2.1 Unit Conversions"
   ]
  },
  {
   "cell_type": "code",
   "execution_count": 9,
   "id": "0c14ced2",
   "metadata": {},
   "outputs": [],
   "source": [
    "population_2017[\"Valeur\"] = population_2017[\"Valeur\"] / 1000\n",
    "food_availability[\"Disponibilité alimentaire (Kcal/personne/jour)\"] *= 365\n",
    "donations_2013[\"Valeur\"] = donations_2013[\"Valeur\"] / 1000"
   ]
  },
  {
   "cell_type": "markdown",
   "id": "505feeaf",
   "metadata": {},
   "source": [
    "### 2.2 Column names"
   ]
  },
  {
   "cell_type": "code",
   "execution_count": 10,
   "id": "b112b9e7",
   "metadata": {},
   "outputs": [],
   "source": [
    "population_2017.rename(columns={\"Valeur\": \"Population_totale\"}, inplace=True)\n",
    "malnourished_2017.rename(columns={\"Valeur\": \"Population_sous_alimentée\", \"Année\": \"Intervalle\"}, inplace=True)\n",
    "donations_2013.rename(columns={\"Pays bénéficiaire\": \"Zone\", \"Valeur\": \"Quantité\"}, inplace=True)\n",
    "food_availability.rename(columns={\"Disponibilité alimentaire (Kcal/personne/jour)\": \"Kcal_personne_an\", \"Disponibilité intérieure\": \"Disponibilité_intérieure_milliers_tonnes\"}, inplace=True)"
   ]
  },
  {
   "cell_type": "markdown",
   "id": "0b6a200a",
   "metadata": {},
   "source": [
    "# Part I - Global Malnutrition"
   ]
  },
  {
   "cell_type": "markdown",
   "id": "d31e5050",
   "metadata": {},
   "source": [
    "### Section 1: Proportion of Malnourished people in 2017<a class=\"anchor\" id=\"question1\"></a>"
   ]
  },
  {
   "cell_type": "code",
   "execution_count": 11,
   "id": "3ab0e9c0",
   "metadata": {},
   "outputs": [],
   "source": [
    "# Merge of Global Population and Malnourished Population\n",
    "malnourished_merged = pd.merge(population_2017, malnourished_2017, how=\"left\", on=\"Zone\")\n",
    "malnourished_merged = malnourished_merged[[\"Zone\", \"Population_totale\", \"Population_sous_alimentée\"]]"
   ]
  },
  {
   "cell_type": "markdown",
   "id": "fd277ef0",
   "metadata": {},
   "source": [
    "### 1.1 Population in 2017<a class=\"anchor\" id=\"section_1_1\"></a>"
   ]
  },
  {
   "cell_type": "code",
   "execution_count": 12,
   "id": "94adc4fd",
   "metadata": {},
   "outputs": [
    {
     "name": "stdout",
     "output_type": "stream",
     "text": [
      "In 2017, the global population was 7.55 billion.\n"
     ]
    }
   ],
   "source": [
    "global_population = malnourished_merged[\"Population_totale\"].sum() / 1000\n",
    "print(\"In 2017, the global population was\", round(global_population, 2), \"billion.\")"
   ]
  },
  {
   "cell_type": "markdown",
   "id": "b11af1bb",
   "metadata": {},
   "source": [
    "### 1.2 Malnourished Population in 2017<a class=\"anchor\" id=\"section_1_2\"></a>"
   ]
  },
  {
   "cell_type": "code",
   "execution_count": 13,
   "id": "e1f007f8",
   "metadata": {},
   "outputs": [
    {
     "name": "stdout",
     "output_type": "stream",
     "text": [
      "In 2017, the global malnourished population was 0.54 billion.\n"
     ]
    }
   ],
   "source": [
    "global_undernourished_population = malnourished_merged[\"Population_sous_alimentée\"].sum() / 1000\n",
    "print(\"In 2017, the global malnourished population was\", round(global_undernourished_population, 2), \"billion.\")"
   ]
  },
  {
   "cell_type": "markdown",
   "id": "f8c47e48",
   "metadata": {},
   "source": [
    "### 1.3 Proportion of the Population Malnourished in 2017<a class=\"anchor\" id=\"section_1_3\"></a>"
   ]
  },
  {
   "cell_type": "code",
   "execution_count": 14,
   "id": "1e5f92a5",
   "metadata": {},
   "outputs": [
    {
     "name": "stdout",
     "output_type": "stream",
     "text": [
      "In 2017, the proportion of people in a state of malnutrition is 7.1 %\n"
     ]
    }
   ],
   "source": [
    "proportion_undernourished = (global_undernourished_population / global_population) * 100\n",
    "print(\"In 2017, the proportion of people in a state of malnutrition is\", round(proportion_undernourished, 2), \"%\")"
   ]
  },
  {
   "cell_type": "markdown",
   "id": "d3b9e89a",
   "metadata": {},
   "source": [
    "### Section 2. Theoretical Number of People Who Could be Fed in 2017<a class=\"anchor\" id=\"question2\"></a>"
   ]
  },
  {
   "cell_type": "markdown",
   "id": "5c899e8e",
   "metadata": {},
   "source": [
    "### 2.1 Kcal/person/day by Country<a class=\"anchor\" id=\"section_2_1\"></a>"
   ]
  },
  {
   "cell_type": "code",
   "execution_count": 15,
   "id": "53bc489f",
   "metadata": {},
   "outputs": [],
   "source": [
    "food_availability_country = food_availability.groupby([\"Zone\"])[\"Kcal_personne_an\"].sum().reset_index()"
   ]
  },
  {
   "cell_type": "code",
   "execution_count": 16,
   "id": "497cf8ee",
   "metadata": {},
   "outputs": [],
   "source": [
    "# Merge of population by country with food availability by country\n",
    "food_merged = pd.merge(food_availability_country, population_2017, how=\"left\", on=\"Zone\")\n",
    "food_merged = food_merged[[\"Zone\", \"Kcal_personne_an\", \"Population_totale\"]]"
   ]
  },
  {
   "cell_type": "code",
   "execution_count": 17,
   "id": "04641f63",
   "metadata": {},
   "outputs": [
    {
     "data": {
      "text/html": [
       "<div>\n",
       "<style scoped>\n",
       "    .dataframe tbody tr th:only-of-type {\n",
       "        vertical-align: middle;\n",
       "    }\n",
       "\n",
       "    .dataframe tbody tr th {\n",
       "        vertical-align: top;\n",
       "    }\n",
       "\n",
       "    .dataframe thead th {\n",
       "        text-align: right;\n",
       "    }\n",
       "</style>\n",
       "<table border=\"1\" class=\"dataframe\">\n",
       "  <thead>\n",
       "    <tr style=\"text-align: right;\">\n",
       "      <th></th>\n",
       "      <th>Zone</th>\n",
       "      <th>Kcal_personne_an</th>\n",
       "      <th>Population_totale</th>\n",
       "    </tr>\n",
       "  </thead>\n",
       "  <tbody>\n",
       "    <tr>\n",
       "      <th>0</th>\n",
       "      <td>Afghanistan</td>\n",
       "      <td>761755.0</td>\n",
       "      <td>36.30</td>\n",
       "    </tr>\n",
       "    <tr>\n",
       "      <th>1</th>\n",
       "      <td>Afrique du Sud</td>\n",
       "      <td>1102300.0</td>\n",
       "      <td>57.01</td>\n",
       "    </tr>\n",
       "    <tr>\n",
       "      <th>2</th>\n",
       "      <td>Albanie</td>\n",
       "      <td>1163620.0</td>\n",
       "      <td>2.88</td>\n",
       "    </tr>\n",
       "    <tr>\n",
       "      <th>3</th>\n",
       "      <td>Algérie</td>\n",
       "      <td>1201945.0</td>\n",
       "      <td>41.39</td>\n",
       "    </tr>\n",
       "    <tr>\n",
       "      <th>4</th>\n",
       "      <td>Allemagne</td>\n",
       "      <td>1278595.0</td>\n",
       "      <td>82.66</td>\n",
       "    </tr>\n",
       "  </tbody>\n",
       "</table>\n",
       "</div>"
      ],
      "text/plain": [
       "             Zone  Kcal_personne_an  Population_totale\n",
       "0     Afghanistan          761755.0              36.30\n",
       "1  Afrique du Sud         1102300.0              57.01\n",
       "2         Albanie         1163620.0               2.88\n",
       "3         Algérie         1201945.0              41.39\n",
       "4       Allemagne         1278595.0              82.66"
      ]
     },
     "metadata": {},
     "output_type": "display_data"
    }
   ],
   "source": [
    "# Displaying merged data\n",
    "display(food_merged.reset_index(drop=True).head().round(2))"
   ]
  },
  {
   "cell_type": "markdown",
   "id": "0b8ad21d",
   "metadata": {},
   "source": [
    "### 2.2 Proportion of Population that could be fed, by Country<a class=\"anchor\" id=\"section_2_2\"></a>"
   ]
  },
  {
   "cell_type": "code",
   "execution_count": 18,
   "id": "b2b16a8f",
   "metadata": {},
   "outputs": [],
   "source": [
    "food_merged[\"Proportion Fed\"] = food_merged[\"Kcal_personne_an\"] / DAILY_KCAL_NEED_AVERAGE"
   ]
  },
  {
   "cell_type": "code",
   "execution_count": 19,
   "id": "38d38439",
   "metadata": {},
   "outputs": [
    {
     "data": {
      "text/html": [
       "<div>\n",
       "<style scoped>\n",
       "    .dataframe tbody tr th:only-of-type {\n",
       "        vertical-align: middle;\n",
       "    }\n",
       "\n",
       "    .dataframe tbody tr th {\n",
       "        vertical-align: top;\n",
       "    }\n",
       "\n",
       "    .dataframe thead th {\n",
       "        text-align: right;\n",
       "    }\n",
       "</style>\n",
       "<table border=\"1\" class=\"dataframe\">\n",
       "  <thead>\n",
       "    <tr style=\"text-align: right;\">\n",
       "      <th></th>\n",
       "      <th>Zone</th>\n",
       "      <th>Kcal_personne_an</th>\n",
       "      <th>Population_totale</th>\n",
       "      <th>Proportion Fed</th>\n",
       "    </tr>\n",
       "  </thead>\n",
       "  <tbody>\n",
       "    <tr>\n",
       "      <th>0</th>\n",
       "      <td>Afghanistan</td>\n",
       "      <td>761755.0</td>\n",
       "      <td>36.30</td>\n",
       "      <td>327.64</td>\n",
       "    </tr>\n",
       "    <tr>\n",
       "      <th>1</th>\n",
       "      <td>Afrique du Sud</td>\n",
       "      <td>1102300.0</td>\n",
       "      <td>57.01</td>\n",
       "      <td>474.11</td>\n",
       "    </tr>\n",
       "    <tr>\n",
       "      <th>2</th>\n",
       "      <td>Albanie</td>\n",
       "      <td>1163620.0</td>\n",
       "      <td>2.88</td>\n",
       "      <td>500.48</td>\n",
       "    </tr>\n",
       "    <tr>\n",
       "      <th>3</th>\n",
       "      <td>Algérie</td>\n",
       "      <td>1201945.0</td>\n",
       "      <td>41.39</td>\n",
       "      <td>516.97</td>\n",
       "    </tr>\n",
       "    <tr>\n",
       "      <th>4</th>\n",
       "      <td>Allemagne</td>\n",
       "      <td>1278595.0</td>\n",
       "      <td>82.66</td>\n",
       "      <td>549.93</td>\n",
       "    </tr>\n",
       "  </tbody>\n",
       "</table>\n",
       "</div>"
      ],
      "text/plain": [
       "             Zone  Kcal_personne_an  Population_totale  Proportion Fed\n",
       "0     Afghanistan          761755.0              36.30          327.64\n",
       "1  Afrique du Sud         1102300.0              57.01          474.11\n",
       "2         Albanie         1163620.0               2.88          500.48\n",
       "3         Algérie         1201945.0              41.39          516.97\n",
       "4       Allemagne         1278595.0              82.66          549.93"
      ]
     },
     "execution_count": 19,
     "metadata": {},
     "output_type": "execute_result"
    }
   ],
   "source": [
    "# Displaying proportion of population that could be fed\n",
    "food_merged.head().round(2)"
   ]
  },
  {
   "cell_type": "markdown",
   "id": "cc0391e9",
   "metadata": {},
   "source": [
    "### 2.3 Theoretical Number of People who could be Fed, by Country<a class=\"anchor\" id=\"section_2_3\"></a>"
   ]
  },
  {
   "cell_type": "code",
   "execution_count": 20,
   "id": "ab6e27e3",
   "metadata": {},
   "outputs": [],
   "source": [
    "food_merged[\"Theoretical Fed\"] = food_merged[\"Population_totale\"] * food_merged[\"Proportion Fed\"]"
   ]
  },
  {
   "cell_type": "code",
   "execution_count": 21,
   "id": "13f7f6b5",
   "metadata": {},
   "outputs": [
    {
     "data": {
      "text/html": [
       "<div>\n",
       "<style scoped>\n",
       "    .dataframe tbody tr th:only-of-type {\n",
       "        vertical-align: middle;\n",
       "    }\n",
       "\n",
       "    .dataframe tbody tr th {\n",
       "        vertical-align: top;\n",
       "    }\n",
       "\n",
       "    .dataframe thead th {\n",
       "        text-align: right;\n",
       "    }\n",
       "</style>\n",
       "<table border=\"1\" class=\"dataframe\">\n",
       "  <thead>\n",
       "    <tr style=\"text-align: right;\">\n",
       "      <th></th>\n",
       "      <th>Zone</th>\n",
       "      <th>Kcal_personne_an</th>\n",
       "      <th>Population_totale</th>\n",
       "      <th>Proportion Fed</th>\n",
       "      <th>Theoretical Fed</th>\n",
       "    </tr>\n",
       "  </thead>\n",
       "  <tbody>\n",
       "    <tr>\n",
       "      <th>0</th>\n",
       "      <td>Afghanistan</td>\n",
       "      <td>761755.0</td>\n",
       "      <td>36.30</td>\n",
       "      <td>327.64</td>\n",
       "      <td>11891.93</td>\n",
       "    </tr>\n",
       "    <tr>\n",
       "      <th>1</th>\n",
       "      <td>Afrique du Sud</td>\n",
       "      <td>1102300.0</td>\n",
       "      <td>57.01</td>\n",
       "      <td>474.11</td>\n",
       "      <td>27028.75</td>\n",
       "    </tr>\n",
       "    <tr>\n",
       "      <th>2</th>\n",
       "      <td>Albanie</td>\n",
       "      <td>1163620.0</td>\n",
       "      <td>2.88</td>\n",
       "      <td>500.48</td>\n",
       "      <td>1443.47</td>\n",
       "    </tr>\n",
       "    <tr>\n",
       "      <th>3</th>\n",
       "      <td>Algérie</td>\n",
       "      <td>1201945.0</td>\n",
       "      <td>41.39</td>\n",
       "      <td>516.97</td>\n",
       "      <td>21396.79</td>\n",
       "    </tr>\n",
       "    <tr>\n",
       "      <th>4</th>\n",
       "      <td>Allemagne</td>\n",
       "      <td>1278595.0</td>\n",
       "      <td>82.66</td>\n",
       "      <td>549.93</td>\n",
       "      <td>45456.61</td>\n",
       "    </tr>\n",
       "  </tbody>\n",
       "</table>\n",
       "</div>"
      ],
      "text/plain": [
       "             Zone  Kcal_personne_an  Population_totale  Proportion Fed  \\\n",
       "0     Afghanistan          761755.0              36.30          327.64   \n",
       "1  Afrique du Sud         1102300.0              57.01          474.11   \n",
       "2         Albanie         1163620.0               2.88          500.48   \n",
       "3         Algérie         1201945.0              41.39          516.97   \n",
       "4       Allemagne         1278595.0              82.66          549.93   \n",
       "\n",
       "   Theoretical Fed  \n",
       "0         11891.93  \n",
       "1         27028.75  \n",
       "2          1443.47  \n",
       "3         21396.79  \n",
       "4         45456.61  "
      ]
     },
     "execution_count": 21,
     "metadata": {},
     "output_type": "execute_result"
    }
   ],
   "source": [
    "# Displaying theoretical number of people who could be fed\n",
    "food_merged.head().round(2)"
   ]
  },
  {
   "cell_type": "code",
   "execution_count": 22,
   "id": "89fe12ae",
   "metadata": {},
   "outputs": [
    {
     "data": {
      "text/html": [
       "<div>\n",
       "<style scoped>\n",
       "    .dataframe tbody tr th:only-of-type {\n",
       "        vertical-align: middle;\n",
       "    }\n",
       "\n",
       "    .dataframe tbody tr th {\n",
       "        vertical-align: top;\n",
       "    }\n",
       "\n",
       "    .dataframe thead th {\n",
       "        text-align: right;\n",
       "    }\n",
       "</style>\n",
       "<table border=\"1\" class=\"dataframe\">\n",
       "  <thead>\n",
       "    <tr style=\"text-align: right;\">\n",
       "      <th></th>\n",
       "      <th>Zone</th>\n",
       "      <th>Kcal_personne_an</th>\n",
       "      <th>Population_totale</th>\n",
       "      <th>Proportion Fed</th>\n",
       "      <th>Theoretical Fed</th>\n",
       "    </tr>\n",
       "  </thead>\n",
       "  <tbody>\n",
       "    <tr>\n",
       "      <th>0</th>\n",
       "      <td>Chine, continentale</td>\n",
       "      <td>1135880.0</td>\n",
       "      <td>1421.02</td>\n",
       "      <td>488.55</td>\n",
       "      <td>694240.96</td>\n",
       "    </tr>\n",
       "    <tr>\n",
       "      <th>1</th>\n",
       "      <td>Inde</td>\n",
       "      <td>895710.0</td>\n",
       "      <td>1338.68</td>\n",
       "      <td>385.25</td>\n",
       "      <td>515727.39</td>\n",
       "    </tr>\n",
       "    <tr>\n",
       "      <th>2</th>\n",
       "      <td>États-Unis d'Amérique</td>\n",
       "      <td>1343930.0</td>\n",
       "      <td>325.08</td>\n",
       "      <td>578.03</td>\n",
       "      <td>187910.17</td>\n",
       "    </tr>\n",
       "    <tr>\n",
       "      <th>3</th>\n",
       "      <td>Indonésie</td>\n",
       "      <td>1013240.0</td>\n",
       "      <td>264.65</td>\n",
       "      <td>435.80</td>\n",
       "      <td>115335.46</td>\n",
       "    </tr>\n",
       "    <tr>\n",
       "      <th>4</th>\n",
       "      <td>Brésil</td>\n",
       "      <td>1190630.0</td>\n",
       "      <td>207.83</td>\n",
       "      <td>512.10</td>\n",
       "      <td>106431.48</td>\n",
       "    </tr>\n",
       "  </tbody>\n",
       "</table>\n",
       "</div>"
      ],
      "text/plain": [
       "                    Zone  Kcal_personne_an  Population_totale  Proportion Fed  \\\n",
       "0    Chine, continentale         1135880.0            1421.02          488.55   \n",
       "1                   Inde          895710.0            1338.68          385.25   \n",
       "2  États-Unis d'Amérique         1343930.0             325.08          578.03   \n",
       "3              Indonésie         1013240.0             264.65          435.80   \n",
       "4                 Brésil         1190630.0             207.83          512.10   \n",
       "\n",
       "   Theoretical Fed  \n",
       "0        694240.96  \n",
       "1        515727.39  \n",
       "2        187910.17  \n",
       "3        115335.46  \n",
       "4        106431.48  "
      ]
     },
     "metadata": {},
     "output_type": "display_data"
    }
   ],
   "source": [
    "# Countries with the most food availability per kcal needed\n",
    "food_merged = food_merged.sort_values(\"Theoretical Fed\", ascending=False)\n",
    "display(food_merged.reset_index(drop=True).head().round(2))"
   ]
  },
  {
   "cell_type": "markdown",
   "id": "c7dab007",
   "metadata": {},
   "source": [
    "### 2.4 Total Theoretical Number of People who could be Fed<a class=\"anchor\" id=\"section_2_4\"></a>"
   ]
  },
  {
   "cell_type": "code",
   "execution_count": 23,
   "id": "794729a0",
   "metadata": {},
   "outputs": [
    {
     "name": "stdout",
     "output_type": "stream",
     "text": [
      "For 2017, the theoretical number of people who could be fed is 3284.056 billion.\n"
     ]
    }
   ],
   "source": [
    "total_available_people = food_merged[\"Theoretical Fed\"].sum() / 1000\n",
    "print(\"For 2017, the theoretical number of people who could be fed is\", round(total_available_people, 3), \"billion.\")"
   ]
  },
  {
   "cell_type": "markdown",
   "id": "c7436b1c",
   "metadata": {},
   "source": [
    "### Section 3: Theoretical Number of People who could be Fed with a Plant-based Diet<a class=\"anchor\" id=\"question3\"></a>"
   ]
  },
  {
   "cell_type": "markdown",
   "id": "d20bba67",
   "metadata": {},
   "source": [
    "### 3.1 Kcals/person/year for Plant-based Products, by Country<a class=\"anchor\" id=\"section_3_1\"></a>"
   ]
  },
  {
   "cell_type": "code",
   "execution_count": 24,
   "id": "6530eb33",
   "metadata": {},
   "outputs": [
    {
     "data": {
      "text/html": [
       "<div>\n",
       "<style scoped>\n",
       "    .dataframe tbody tr th:only-of-type {\n",
       "        vertical-align: middle;\n",
       "    }\n",
       "\n",
       "    .dataframe tbody tr th {\n",
       "        vertical-align: top;\n",
       "    }\n",
       "\n",
       "    .dataframe thead th {\n",
       "        text-align: right;\n",
       "    }\n",
       "</style>\n",
       "<table border=\"1\" class=\"dataframe\">\n",
       "  <thead>\n",
       "    <tr style=\"text-align: right;\">\n",
       "      <th></th>\n",
       "      <th>Zone</th>\n",
       "      <th>Kcal_personne_an</th>\n",
       "    </tr>\n",
       "  </thead>\n",
       "  <tbody>\n",
       "    <tr>\n",
       "      <th>0</th>\n",
       "      <td>Afghanistan</td>\n",
       "      <td>682915.0</td>\n",
       "    </tr>\n",
       "    <tr>\n",
       "      <th>1</th>\n",
       "      <td>Afrique du Sud</td>\n",
       "      <td>924545.0</td>\n",
       "    </tr>\n",
       "    <tr>\n",
       "      <th>2</th>\n",
       "      <td>Albanie</td>\n",
       "      <td>804095.0</td>\n",
       "    </tr>\n",
       "    <tr>\n",
       "      <th>3</th>\n",
       "      <td>Algérie</td>\n",
       "      <td>1063975.0</td>\n",
       "    </tr>\n",
       "    <tr>\n",
       "      <th>4</th>\n",
       "      <td>Allemagne</td>\n",
       "      <td>898265.0</td>\n",
       "    </tr>\n",
       "  </tbody>\n",
       "</table>\n",
       "</div>"
      ],
      "text/plain": [
       "             Zone  Kcal_personne_an\n",
       "0     Afghanistan          682915.0\n",
       "1  Afrique du Sud          924545.0\n",
       "2         Albanie          804095.0\n",
       "3         Algérie         1063975.0\n",
       "4       Allemagne          898265.0"
      ]
     },
     "execution_count": 24,
     "metadata": {},
     "output_type": "execute_result"
    }
   ],
   "source": [
    "plant_based_availability = food_availability[(food_availability[\"Origine\"] == \"vegetale\")]\n",
    "plant_merged = pd.merge(plant_based_availability, population_2017, how=\"left\", on=\"Zone\")\n",
    "plant_merged_country = plant_merged.groupby([\"Zone\"])[\"Kcal_personne_an\"].sum().reset_index()\n",
    "plant_merged_country.head()"
   ]
  },
  {
   "cell_type": "code",
   "execution_count": 25,
   "id": "51516f89",
   "metadata": {},
   "outputs": [
    {
     "data": {
      "text/html": [
       "<div>\n",
       "<style scoped>\n",
       "    .dataframe tbody tr th:only-of-type {\n",
       "        vertical-align: middle;\n",
       "    }\n",
       "\n",
       "    .dataframe tbody tr th {\n",
       "        vertical-align: top;\n",
       "    }\n",
       "\n",
       "    .dataframe thead th {\n",
       "        text-align: right;\n",
       "    }\n",
       "</style>\n",
       "<table border=\"1\" class=\"dataframe\">\n",
       "  <thead>\n",
       "    <tr style=\"text-align: right;\">\n",
       "      <th></th>\n",
       "      <th>Zone</th>\n",
       "      <th>Kcal_personne_an</th>\n",
       "      <th>Population_totale</th>\n",
       "    </tr>\n",
       "  </thead>\n",
       "  <tbody>\n",
       "    <tr>\n",
       "      <th>0</th>\n",
       "      <td>Afghanistan</td>\n",
       "      <td>682915.0</td>\n",
       "      <td>36.30</td>\n",
       "    </tr>\n",
       "    <tr>\n",
       "      <th>1</th>\n",
       "      <td>Afrique du Sud</td>\n",
       "      <td>924545.0</td>\n",
       "      <td>57.01</td>\n",
       "    </tr>\n",
       "    <tr>\n",
       "      <th>2</th>\n",
       "      <td>Albanie</td>\n",
       "      <td>804095.0</td>\n",
       "      <td>2.88</td>\n",
       "    </tr>\n",
       "    <tr>\n",
       "      <th>3</th>\n",
       "      <td>Algérie</td>\n",
       "      <td>1063975.0</td>\n",
       "      <td>41.39</td>\n",
       "    </tr>\n",
       "    <tr>\n",
       "      <th>4</th>\n",
       "      <td>Allemagne</td>\n",
       "      <td>898265.0</td>\n",
       "      <td>82.66</td>\n",
       "    </tr>\n",
       "  </tbody>\n",
       "</table>\n",
       "</div>"
      ],
      "text/plain": [
       "             Zone  Kcal_personne_an  Population_totale\n",
       "0     Afghanistan          682915.0              36.30\n",
       "1  Afrique du Sud          924545.0              57.01\n",
       "2         Albanie          804095.0               2.88\n",
       "3         Algérie         1063975.0              41.39\n",
       "4       Allemagne          898265.0              82.66"
      ]
     },
     "execution_count": 25,
     "metadata": {},
     "output_type": "execute_result"
    }
   ],
   "source": [
    "# Merge population and food availability by country\n",
    "plant_food_merged = pd.merge(plant_merged_country, population_2017, how=\"left\", on=\"Zone\")\n",
    "plant_food_merged = plant_food_merged[[\"Zone\", \"Kcal_personne_an\", \"Population_totale\"]]\n",
    "plant_food_merged.reset_index(drop=True).head().round(2)"
   ]
  },
  {
   "cell_type": "markdown",
   "id": "b7ec450c",
   "metadata": {},
   "source": [
    "### 3.2 Proportion of Population that could be Fed with Plant-based Products, by Country<a class=\"anchor\" id=\"section_3_2\"></a>"
   ]
  },
  {
   "cell_type": "code",
   "execution_count": 26,
   "id": "8434c159",
   "metadata": {},
   "outputs": [
    {
     "data": {
      "text/html": [
       "<div>\n",
       "<style scoped>\n",
       "    .dataframe tbody tr th:only-of-type {\n",
       "        vertical-align: middle;\n",
       "    }\n",
       "\n",
       "    .dataframe tbody tr th {\n",
       "        vertical-align: top;\n",
       "    }\n",
       "\n",
       "    .dataframe thead th {\n",
       "        text-align: right;\n",
       "    }\n",
       "</style>\n",
       "<table border=\"1\" class=\"dataframe\">\n",
       "  <thead>\n",
       "    <tr style=\"text-align: right;\">\n",
       "      <th></th>\n",
       "      <th>Zone</th>\n",
       "      <th>Kcal_personne_an</th>\n",
       "      <th>Population_totale</th>\n",
       "      <th>Proportion Fed</th>\n",
       "    </tr>\n",
       "  </thead>\n",
       "  <tbody>\n",
       "    <tr>\n",
       "      <th>0</th>\n",
       "      <td>Afghanistan</td>\n",
       "      <td>682915.0</td>\n",
       "      <td>36.30</td>\n",
       "      <td>293.73</td>\n",
       "    </tr>\n",
       "    <tr>\n",
       "      <th>1</th>\n",
       "      <td>Afrique du Sud</td>\n",
       "      <td>924545.0</td>\n",
       "      <td>57.01</td>\n",
       "      <td>397.65</td>\n",
       "    </tr>\n",
       "    <tr>\n",
       "      <th>2</th>\n",
       "      <td>Albanie</td>\n",
       "      <td>804095.0</td>\n",
       "      <td>2.88</td>\n",
       "      <td>345.85</td>\n",
       "    </tr>\n",
       "    <tr>\n",
       "      <th>3</th>\n",
       "      <td>Algérie</td>\n",
       "      <td>1063975.0</td>\n",
       "      <td>41.39</td>\n",
       "      <td>457.62</td>\n",
       "    </tr>\n",
       "    <tr>\n",
       "      <th>4</th>\n",
       "      <td>Allemagne</td>\n",
       "      <td>898265.0</td>\n",
       "      <td>82.66</td>\n",
       "      <td>386.35</td>\n",
       "    </tr>\n",
       "  </tbody>\n",
       "</table>\n",
       "</div>"
      ],
      "text/plain": [
       "             Zone  Kcal_personne_an  Population_totale  Proportion Fed\n",
       "0     Afghanistan          682915.0              36.30          293.73\n",
       "1  Afrique du Sud          924545.0              57.01          397.65\n",
       "2         Albanie          804095.0               2.88          345.85\n",
       "3         Algérie         1063975.0              41.39          457.62\n",
       "4       Allemagne          898265.0              82.66          386.35"
      ]
     },
     "execution_count": 26,
     "metadata": {},
     "output_type": "execute_result"
    }
   ],
   "source": [
    "plant_food_merged[\"Proportion Fed\"] = plant_food_merged[\"Kcal_personne_an\"] / DAILY_KCAL_NEED_AVERAGE\n",
    "plant_food_merged.head().round(2)"
   ]
  },
  {
   "cell_type": "markdown",
   "id": "bba79610",
   "metadata": {},
   "source": [
    "### 3.3 Theoretical Number of People who could be Fed with Plant-based Products, by Country<a class=\"anchor\" id=\"section_3_3\"></a>"
   ]
  },
  {
   "cell_type": "code",
   "execution_count": 27,
   "id": "7909658a",
   "metadata": {},
   "outputs": [
    {
     "data": {
      "text/html": [
       "<div>\n",
       "<style scoped>\n",
       "    .dataframe tbody tr th:only-of-type {\n",
       "        vertical-align: middle;\n",
       "    }\n",
       "\n",
       "    .dataframe tbody tr th {\n",
       "        vertical-align: top;\n",
       "    }\n",
       "\n",
       "    .dataframe thead th {\n",
       "        text-align: right;\n",
       "    }\n",
       "</style>\n",
       "<table border=\"1\" class=\"dataframe\">\n",
       "  <thead>\n",
       "    <tr style=\"text-align: right;\">\n",
       "      <th></th>\n",
       "      <th>Zone</th>\n",
       "      <th>Kcal_personne_an</th>\n",
       "      <th>Population_totale</th>\n",
       "      <th>Proportion Fed</th>\n",
       "      <th>Theoretical Fed</th>\n",
       "    </tr>\n",
       "  </thead>\n",
       "  <tbody>\n",
       "    <tr>\n",
       "      <th>0</th>\n",
       "      <td>Afghanistan</td>\n",
       "      <td>682915.0</td>\n",
       "      <td>36.30</td>\n",
       "      <td>293.73</td>\n",
       "      <td>10661.14</td>\n",
       "    </tr>\n",
       "    <tr>\n",
       "      <th>1</th>\n",
       "      <td>Afrique du Sud</td>\n",
       "      <td>924545.0</td>\n",
       "      <td>57.01</td>\n",
       "      <td>397.65</td>\n",
       "      <td>22670.14</td>\n",
       "    </tr>\n",
       "    <tr>\n",
       "      <th>2</th>\n",
       "      <td>Albanie</td>\n",
       "      <td>804095.0</td>\n",
       "      <td>2.88</td>\n",
       "      <td>345.85</td>\n",
       "      <td>997.48</td>\n",
       "    </tr>\n",
       "    <tr>\n",
       "      <th>3</th>\n",
       "      <td>Algérie</td>\n",
       "      <td>1063975.0</td>\n",
       "      <td>41.39</td>\n",
       "      <td>457.62</td>\n",
       "      <td>18940.67</td>\n",
       "    </tr>\n",
       "    <tr>\n",
       "      <th>4</th>\n",
       "      <td>Allemagne</td>\n",
       "      <td>898265.0</td>\n",
       "      <td>82.66</td>\n",
       "      <td>386.35</td>\n",
       "      <td>31935.12</td>\n",
       "    </tr>\n",
       "  </tbody>\n",
       "</table>\n",
       "</div>"
      ],
      "text/plain": [
       "             Zone  Kcal_personne_an  Population_totale  Proportion Fed  \\\n",
       "0     Afghanistan          682915.0              36.30          293.73   \n",
       "1  Afrique du Sud          924545.0              57.01          397.65   \n",
       "2         Albanie          804095.0               2.88          345.85   \n",
       "3         Algérie         1063975.0              41.39          457.62   \n",
       "4       Allemagne          898265.0              82.66          386.35   \n",
       "\n",
       "   Theoretical Fed  \n",
       "0         10661.14  \n",
       "1         22670.14  \n",
       "2           997.48  \n",
       "3         18940.67  \n",
       "4         31935.12  "
      ]
     },
     "execution_count": 27,
     "metadata": {},
     "output_type": "execute_result"
    }
   ],
   "source": [
    "plant_food_merged[\"Theoretical Fed\"] = plant_food_merged[\"Population_totale\"] * plant_food_merged[\"Proportion Fed\"]\n",
    "plant_food_merged.head().round(2)"
   ]
  },
  {
   "cell_type": "code",
   "execution_count": 28,
   "id": "2329e47c",
   "metadata": {},
   "outputs": [
    {
     "data": {
      "text/html": [
       "<div>\n",
       "<style scoped>\n",
       "    .dataframe tbody tr th:only-of-type {\n",
       "        vertical-align: middle;\n",
       "    }\n",
       "\n",
       "    .dataframe tbody tr th {\n",
       "        vertical-align: top;\n",
       "    }\n",
       "\n",
       "    .dataframe thead th {\n",
       "        text-align: right;\n",
       "    }\n",
       "</style>\n",
       "<table border=\"1\" class=\"dataframe\">\n",
       "  <thead>\n",
       "    <tr style=\"text-align: right;\">\n",
       "      <th></th>\n",
       "      <th>Zone</th>\n",
       "      <th>Kcal_personne_an</th>\n",
       "      <th>Population_totale</th>\n",
       "      <th>Proportion Fed</th>\n",
       "      <th>Theoretical Fed</th>\n",
       "    </tr>\n",
       "  </thead>\n",
       "  <tbody>\n",
       "    <tr>\n",
       "      <th>0</th>\n",
       "      <td>Chine, continentale</td>\n",
       "      <td>871985.0</td>\n",
       "      <td>1421.02</td>\n",
       "      <td>375.05</td>\n",
       "      <td>532950.40</td>\n",
       "    </tr>\n",
       "    <tr>\n",
       "      <th>1</th>\n",
       "      <td>Inde</td>\n",
       "      <td>809935.0</td>\n",
       "      <td>1338.68</td>\n",
       "      <td>348.36</td>\n",
       "      <td>466340.29</td>\n",
       "    </tr>\n",
       "    <tr>\n",
       "      <th>2</th>\n",
       "      <td>États-Unis d'Amérique</td>\n",
       "      <td>984770.0</td>\n",
       "      <td>325.08</td>\n",
       "      <td>423.56</td>\n",
       "      <td>137691.92</td>\n",
       "    </tr>\n",
       "  </tbody>\n",
       "</table>\n",
       "</div>"
      ],
      "text/plain": [
       "                    Zone  Kcal_personne_an  Population_totale  Proportion Fed  \\\n",
       "0    Chine, continentale          871985.0            1421.02          375.05   \n",
       "1                   Inde          809935.0            1338.68          348.36   \n",
       "2  États-Unis d'Amérique          984770.0             325.08          423.56   \n",
       "\n",
       "   Theoretical Fed  \n",
       "0        532950.40  \n",
       "1        466340.29  \n",
       "2        137691.92  "
      ]
     },
     "metadata": {},
     "output_type": "display_data"
    }
   ],
   "source": [
    "# Countries with the most food availability (plant-based products) per kcal needed\n",
    "plant_food_merged = plant_food_merged.sort_values(\"Theoretical Fed\", ascending=False)\n",
    "display(plant_food_merged.reset_index(drop=True).head(3).round(2))"
   ]
  },
  {
   "cell_type": "markdown",
   "id": "aa194e60",
   "metadata": {},
   "source": [
    "### 3.4 Total Theoretical Number of People who could be Fed with Plant-based Products<a class=\"anchor\" id=\"section_3_4\"></a>"
   ]
  },
  {
   "cell_type": "code",
   "execution_count": 29,
   "id": "6b5749e0",
   "metadata": {},
   "outputs": [
    {
     "name": "stdout",
     "output_type": "stream",
     "text": [
      "For the year 2017, the theoretical number of people who could be fed with plant-based products is 62.6 billion.\n"
     ]
    }
   ],
   "source": [
    "total_plant_available_people = plant_food_merged[\"Proportion Fed\"].sum() / 1000\n",
    "print(\"For the year 2017, the theoretical number of people who could be fed with plant-based products is\", round(total_plant_available_people, 2), \"billion.\")"
   ]
  },
  {
   "cell_type": "markdown",
   "id": "ca017c85",
   "metadata": {},
   "source": [
    "## Section 4: Use of Domestic Availability<a class=\"anchor\" id=\"question4\"></a>"
   ]
  },
  {
   "cell_type": "markdown",
   "id": "ec515e12",
   "metadata": {},
   "source": [
    "### 4.1 Global Domestic Availability<a class=\"anchor\" id=\"section_4_1\"></a>"
   ]
  },
  {
   "cell_type": "code",
   "execution_count": 30,
   "id": "652968fa",
   "metadata": {},
   "outputs": [
    {
     "name": "stdout",
     "output_type": "stream",
     "text": [
      "Global domestic availability is 9854329 thousand tonnes.\n"
     ]
    }
   ],
   "source": [
    "global_domestic_availability = food_availability[(food_availability[\"Disponibilité_intérieure_milliers_tonnes\"] > 0)]\n",
    "global_domestic_availability = global_domestic_availability[\"Disponibilité_intérieure_milliers_tonnes\"].sum()\n",
    "print(\"Global domestic availability is\", round(global_domestic_availability), \"thousand tonnes.\")"
   ]
  },
  {
   "cell_type": "markdown",
   "id": "7bdc8a1f",
   "metadata": {},
   "source": [
    "### 4.2 Domestic Availability, by Country<a class=\"anchor\" id=\"section_4_2\"></a>"
   ]
  },
  {
   "cell_type": "code",
   "execution_count": 31,
   "id": "dfef6ac5",
   "metadata": {},
   "outputs": [
    {
     "data": {
      "text/html": [
       "<div>\n",
       "<style scoped>\n",
       "    .dataframe tbody tr th:only-of-type {\n",
       "        vertical-align: middle;\n",
       "    }\n",
       "\n",
       "    .dataframe tbody tr th {\n",
       "        vertical-align: top;\n",
       "    }\n",
       "\n",
       "    .dataframe thead th {\n",
       "        text-align: right;\n",
       "    }\n",
       "</style>\n",
       "<table border=\"1\" class=\"dataframe\">\n",
       "  <thead>\n",
       "    <tr style=\"text-align: right;\">\n",
       "      <th></th>\n",
       "      <th>Zone</th>\n",
       "      <th>Disponibilité_intérieure_milliers_tonnes</th>\n",
       "    </tr>\n",
       "  </thead>\n",
       "  <tbody>\n",
       "    <tr>\n",
       "      <th>0</th>\n",
       "      <td>Afghanistan</td>\n",
       "      <td>13515.0</td>\n",
       "    </tr>\n",
       "    <tr>\n",
       "      <th>1</th>\n",
       "      <td>Afrique du Sud</td>\n",
       "      <td>61256.0</td>\n",
       "    </tr>\n",
       "    <tr>\n",
       "      <th>2</th>\n",
       "      <td>Albanie</td>\n",
       "      <td>4758.0</td>\n",
       "    </tr>\n",
       "    <tr>\n",
       "      <th>3</th>\n",
       "      <td>Algérie</td>\n",
       "      <td>42630.0</td>\n",
       "    </tr>\n",
       "    <tr>\n",
       "      <th>4</th>\n",
       "      <td>Allemagne</td>\n",
       "      <td>162275.0</td>\n",
       "    </tr>\n",
       "  </tbody>\n",
       "</table>\n",
       "</div>"
      ],
      "text/plain": [
       "             Zone  Disponibilité_intérieure_milliers_tonnes\n",
       "0     Afghanistan                                   13515.0\n",
       "1  Afrique du Sud                                   61256.0\n",
       "2         Albanie                                    4758.0\n",
       "3         Algérie                                   42630.0\n",
       "4       Allemagne                                  162275.0"
      ]
     },
     "execution_count": 31,
     "metadata": {},
     "output_type": "execute_result"
    }
   ],
   "source": [
    "country_domestic_availability = food_availability.groupby([\"Zone\"])[\"Disponibilité_intérieure_milliers_tonnes\"].sum().reset_index()\n",
    "country_domestic_availability.head()"
   ]
  },
  {
   "cell_type": "markdown",
   "id": "7778cd5e",
   "metadata": {},
   "source": [
    "## Section 5: Domestic Availability allocated to Animal Nutrition<a class=\"anchor\" id=\"section_4_3\"></a>"
   ]
  },
  {
   "cell_type": "markdown",
   "id": "ce8045e5",
   "metadata": {},
   "source": [
    "### 5.1 Proportion of Domestic Availability allocated to Animal Nutrition<a class=\"anchor\" id=\"sub_section_4_3_2\"></a>"
   ]
  },
  {
   "cell_type": "code",
   "execution_count": 32,
   "id": "49bb0bb4",
   "metadata": {},
   "outputs": [
    {
     "name": "stdout",
     "output_type": "stream",
     "text": [
      "The quantity of domestic availability allocated to animal nutrition is 1304245 thousand tonnes.\n"
     ]
    }
   ],
   "source": [
    "animal_quantity = food_availability[(food_availability[\"Aliments pour animaux\"] > 0)]\n",
    "animal_quantity = food_availability[\"Aliments pour animaux\"].sum()\n",
    "print(\"The quantity of domestic availability allocated to animal nutrition is\", round(animal_quantity), \"thousand tonnes.\")"
   ]
  },
  {
   "cell_type": "code",
   "execution_count": 33,
   "id": "7a28684f",
   "metadata": {},
   "outputs": [
    {
     "name": "stdout",
     "output_type": "stream",
     "text": [
      "The proportion of domestic availability allocated to animal nutrition is 13.24 %\n"
     ]
    }
   ],
   "source": [
    "animal_proportion = (animal_quantity / global_domestic_availability) * 100\n",
    "print(\"The proportion of domestic availability allocated to animal nutrition is\", round(animal_proportion, 2), \"%\")"
   ]
  },
  {
   "cell_type": "markdown",
   "id": "3f8aa60e",
   "metadata": {},
   "source": [
    "### 5.2 Proportion of Domestic Availability alloced to Animal Nutrition, by Country<a class=\"anchor\" id=\"sub_section_4_3_1\"></a>"
   ]
  },
  {
   "cell_type": "code",
   "execution_count": 34,
   "id": "795d5b3b",
   "metadata": {},
   "outputs": [],
   "source": [
    "animal_by_country = food_availability[food_availability[\"Aliments pour animaux\"] > 0]\n",
    "animal_by_country = animal_by_country.groupby([\"Zone\"])[\"Aliments pour animaux\"].sum().reset_index()"
   ]
  },
  {
   "cell_type": "code",
   "execution_count": 35,
   "id": "ff0020e0",
   "metadata": {},
   "outputs": [
    {
     "data": {
      "text/html": [
       "<div>\n",
       "<style scoped>\n",
       "    .dataframe tbody tr th:only-of-type {\n",
       "        vertical-align: middle;\n",
       "    }\n",
       "\n",
       "    .dataframe tbody tr th {\n",
       "        vertical-align: top;\n",
       "    }\n",
       "\n",
       "    .dataframe thead th {\n",
       "        text-align: right;\n",
       "    }\n",
       "</style>\n",
       "<table border=\"1\" class=\"dataframe\">\n",
       "  <thead>\n",
       "    <tr style=\"text-align: right;\">\n",
       "      <th></th>\n",
       "      <th>Zone</th>\n",
       "      <th>Disponibilité_intérieure_milliers_tonnes</th>\n",
       "      <th>Aliments pour animaux</th>\n",
       "    </tr>\n",
       "  </thead>\n",
       "  <tbody>\n",
       "    <tr>\n",
       "      <th>0</th>\n",
       "      <td>Afghanistan</td>\n",
       "      <td>13515.0</td>\n",
       "      <td>768.0</td>\n",
       "    </tr>\n",
       "    <tr>\n",
       "      <th>1</th>\n",
       "      <td>Afrique du Sud</td>\n",
       "      <td>61256.0</td>\n",
       "      <td>5309.0</td>\n",
       "    </tr>\n",
       "    <tr>\n",
       "      <th>2</th>\n",
       "      <td>Albanie</td>\n",
       "      <td>4758.0</td>\n",
       "      <td>660.0</td>\n",
       "    </tr>\n",
       "    <tr>\n",
       "      <th>3</th>\n",
       "      <td>Algérie</td>\n",
       "      <td>42630.0</td>\n",
       "      <td>4352.0</td>\n",
       "    </tr>\n",
       "    <tr>\n",
       "      <th>4</th>\n",
       "      <td>Allemagne</td>\n",
       "      <td>162275.0</td>\n",
       "      <td>30209.0</td>\n",
       "    </tr>\n",
       "  </tbody>\n",
       "</table>\n",
       "</div>"
      ],
      "text/plain": [
       "             Zone  Disponibilité_intérieure_milliers_tonnes  \\\n",
       "0     Afghanistan                                   13515.0   \n",
       "1  Afrique du Sud                                   61256.0   \n",
       "2         Albanie                                    4758.0   \n",
       "3         Algérie                                   42630.0   \n",
       "4       Allemagne                                  162275.0   \n",
       "\n",
       "   Aliments pour animaux  \n",
       "0                  768.0  \n",
       "1                 5309.0  \n",
       "2                  660.0  \n",
       "3                 4352.0  \n",
       "4                30209.0  "
      ]
     },
     "execution_count": 35,
     "metadata": {},
     "output_type": "execute_result"
    }
   ],
   "source": [
    "# Merge domestic availability by country with food availability attributed to animal nutrition\n",
    "avail_prop_animal = pd.merge(country_domestic_availability, animal_by_country, how=\"left\", on=\"Zone\")\n",
    "avail_prop_animal.reset_index(drop=True).head().round(2)"
   ]
  },
  {
   "cell_type": "code",
   "execution_count": 36,
   "id": "fab21001",
   "metadata": {},
   "outputs": [
    {
     "data": {
      "text/html": [
       "<div>\n",
       "<style scoped>\n",
       "    .dataframe tbody tr th:only-of-type {\n",
       "        vertical-align: middle;\n",
       "    }\n",
       "\n",
       "    .dataframe tbody tr th {\n",
       "        vertical-align: top;\n",
       "    }\n",
       "\n",
       "    .dataframe thead th {\n",
       "        text-align: right;\n",
       "    }\n",
       "</style>\n",
       "<table border=\"1\" class=\"dataframe\">\n",
       "  <thead>\n",
       "    <tr style=\"text-align: right;\">\n",
       "      <th></th>\n",
       "      <th>Zone</th>\n",
       "      <th>Disponibilité_intérieure_milliers_tonnes</th>\n",
       "      <th>Aliments pour animaux</th>\n",
       "      <th>Proportion Aliments pour animaux</th>\n",
       "    </tr>\n",
       "  </thead>\n",
       "  <tbody>\n",
       "    <tr>\n",
       "      <th>0</th>\n",
       "      <td>Afghanistan</td>\n",
       "      <td>13515.0</td>\n",
       "      <td>768.0</td>\n",
       "      <td>0.06</td>\n",
       "    </tr>\n",
       "    <tr>\n",
       "      <th>1</th>\n",
       "      <td>Afrique du Sud</td>\n",
       "      <td>61256.0</td>\n",
       "      <td>5309.0</td>\n",
       "      <td>0.09</td>\n",
       "    </tr>\n",
       "    <tr>\n",
       "      <th>2</th>\n",
       "      <td>Albanie</td>\n",
       "      <td>4758.0</td>\n",
       "      <td>660.0</td>\n",
       "      <td>0.14</td>\n",
       "    </tr>\n",
       "    <tr>\n",
       "      <th>3</th>\n",
       "      <td>Algérie</td>\n",
       "      <td>42630.0</td>\n",
       "      <td>4352.0</td>\n",
       "      <td>0.10</td>\n",
       "    </tr>\n",
       "    <tr>\n",
       "      <th>4</th>\n",
       "      <td>Allemagne</td>\n",
       "      <td>162275.0</td>\n",
       "      <td>30209.0</td>\n",
       "      <td>0.19</td>\n",
       "    </tr>\n",
       "  </tbody>\n",
       "</table>\n",
       "</div>"
      ],
      "text/plain": [
       "             Zone  Disponibilité_intérieure_milliers_tonnes  \\\n",
       "0     Afghanistan                                   13515.0   \n",
       "1  Afrique du Sud                                   61256.0   \n",
       "2         Albanie                                    4758.0   \n",
       "3         Algérie                                   42630.0   \n",
       "4       Allemagne                                  162275.0   \n",
       "\n",
       "   Aliments pour animaux  Proportion Aliments pour animaux  \n",
       "0                  768.0                              0.06  \n",
       "1                 5309.0                              0.09  \n",
       "2                  660.0                              0.14  \n",
       "3                 4352.0                              0.10  \n",
       "4                30209.0                              0.19  "
      ]
     },
     "metadata": {},
     "output_type": "display_data"
    }
   ],
   "source": [
    "avail_prop_animal[\"Proportion Aliments pour animaux\"] = avail_prop_animal[\"Aliments pour animaux\"] / avail_prop_animal[\"Disponibilité_intérieure_milliers_tonnes\"]\n",
    "display(avail_prop_animal.head().round(2))"
   ]
  },
  {
   "cell_type": "code",
   "execution_count": 37,
   "id": "4675a58d",
   "metadata": {},
   "outputs": [
    {
     "data": {
      "text/html": [
       "<div>\n",
       "<style scoped>\n",
       "    .dataframe tbody tr th:only-of-type {\n",
       "        vertical-align: middle;\n",
       "    }\n",
       "\n",
       "    .dataframe tbody tr th {\n",
       "        vertical-align: top;\n",
       "    }\n",
       "\n",
       "    .dataframe thead th {\n",
       "        text-align: right;\n",
       "    }\n",
       "</style>\n",
       "<table border=\"1\" class=\"dataframe\">\n",
       "  <thead>\n",
       "    <tr style=\"text-align: right;\">\n",
       "      <th></th>\n",
       "      <th>Zone</th>\n",
       "      <th>Disponibilité_intérieure_milliers_tonnes</th>\n",
       "      <th>Aliments pour animaux</th>\n",
       "      <th>Proportion Aliments pour animaux</th>\n",
       "    </tr>\n",
       "  </thead>\n",
       "  <tbody>\n",
       "    <tr>\n",
       "      <th>0</th>\n",
       "      <td>Danemark</td>\n",
       "      <td>19749.0</td>\n",
       "      <td>7835.0</td>\n",
       "      <td>0.40</td>\n",
       "    </tr>\n",
       "    <tr>\n",
       "      <th>1</th>\n",
       "      <td>Arabie saoudite</td>\n",
       "      <td>31274.0</td>\n",
       "      <td>11841.0</td>\n",
       "      <td>0.38</td>\n",
       "    </tr>\n",
       "    <tr>\n",
       "      <th>2</th>\n",
       "      <td>Bélarus</td>\n",
       "      <td>27522.0</td>\n",
       "      <td>10204.0</td>\n",
       "      <td>0.37</td>\n",
       "    </tr>\n",
       "    <tr>\n",
       "      <th>3</th>\n",
       "      <td>Tadjikistan</td>\n",
       "      <td>7617.0</td>\n",
       "      <td>2775.0</td>\n",
       "      <td>0.36</td>\n",
       "    </tr>\n",
       "    <tr>\n",
       "      <th>4</th>\n",
       "      <td>Irlande</td>\n",
       "      <td>10738.0</td>\n",
       "      <td>3758.0</td>\n",
       "      <td>0.35</td>\n",
       "    </tr>\n",
       "  </tbody>\n",
       "</table>\n",
       "</div>"
      ],
      "text/plain": [
       "              Zone  Disponibilité_intérieure_milliers_tonnes  \\\n",
       "0         Danemark                                   19749.0   \n",
       "1  Arabie saoudite                                   31274.0   \n",
       "2          Bélarus                                   27522.0   \n",
       "3      Tadjikistan                                    7617.0   \n",
       "4          Irlande                                   10738.0   \n",
       "\n",
       "   Aliments pour animaux  Proportion Aliments pour animaux  \n",
       "0                 7835.0                              0.40  \n",
       "1                11841.0                              0.38  \n",
       "2                10204.0                              0.37  \n",
       "3                 2775.0                              0.36  \n",
       "4                 3758.0                              0.35  "
      ]
     },
     "execution_count": 37,
     "metadata": {},
     "output_type": "execute_result"
    }
   ],
   "source": [
    "# Countries that allocated the most domestic availability to animal nutrition\n",
    "top_animal_countries = avail_prop_animal.sort_values(\"Proportion Aliments pour animaux\", ascending=False)\n",
    "top_animal_countries.reset_index(drop=True).head().round(2)"
   ]
  },
  {
   "cell_type": "markdown",
   "id": "79a43c29",
   "metadata": {},
   "source": [
    "### Section 6: Domestic Availability allocated to Human Consumption<a class=\"anchor\" id=\"section_4_4\"></a>"
   ]
  },
  {
   "cell_type": "markdown",
   "id": "7b064e8e",
   "metadata": {},
   "source": [
    "### 6.1 Proportion of Domestic Availability attributed to Human Consumption<a class=\"anchor\" id=\"sub_section_4_4_2\"></a>"
   ]
  },
  {
   "cell_type": "code",
   "execution_count": 38,
   "id": "37a6ddf5",
   "metadata": {},
   "outputs": [
    {
     "name": "stdout",
     "output_type": "stream",
     "text": [
      "The quantity of domestic availability attributed to human consumption is 4876258 thousand tonnes.\n"
     ]
    }
   ],
   "source": [
    "total_human_quantity = food_availability[\"Nourriture\"].sum()\n",
    "print(\"The quantity of domestic availability attributed to human consumption is\", round(total_human_quantity), \"thousand tonnes.\")"
   ]
  },
  {
   "cell_type": "code",
   "execution_count": 39,
   "id": "9838a075",
   "metadata": {},
   "outputs": [
    {
     "name": "stdout",
     "output_type": "stream",
     "text": [
      "The proportion of domestic availability allocated to human consumption is 49.48 %\n"
     ]
    }
   ],
   "source": [
    "proportion_human = (total_human_quantity / global_domestic_availability) * 100\n",
    "print(\"The proportion of domestic availability allocated to human consumption is\", round(proportion_human, 2), \"%\")"
   ]
  },
  {
   "cell_type": "markdown",
   "id": "8d5790f2",
   "metadata": {},
   "source": [
    "### 6.2 Proportion of Domestic Availability allocated to Human Consumption, by Country<a class=\"anchor\" id=\"sub_section_4_4_1\"></a>"
   ]
  },
  {
   "cell_type": "code",
   "execution_count": 40,
   "id": "699ef7b8",
   "metadata": {},
   "outputs": [],
   "source": [
    "human_by_country = food_availability[food_availability[\"Nourriture\"] > 0]\n",
    "human_by_country = human_by_country.groupby([\"Zone\"])[\"Nourriture\"].sum().reset_index()"
   ]
  },
  {
   "cell_type": "code",
   "execution_count": 41,
   "id": "afbd7dcd",
   "metadata": {},
   "outputs": [
    {
     "data": {
      "text/html": [
       "<div>\n",
       "<style scoped>\n",
       "    .dataframe tbody tr th:only-of-type {\n",
       "        vertical-align: middle;\n",
       "    }\n",
       "\n",
       "    .dataframe tbody tr th {\n",
       "        vertical-align: top;\n",
       "    }\n",
       "\n",
       "    .dataframe thead th {\n",
       "        text-align: right;\n",
       "    }\n",
       "</style>\n",
       "<table border=\"1\" class=\"dataframe\">\n",
       "  <thead>\n",
       "    <tr style=\"text-align: right;\">\n",
       "      <th></th>\n",
       "      <th>Zone</th>\n",
       "      <th>Disponibilité_intérieure_milliers_tonnes</th>\n",
       "      <th>Nourriture</th>\n",
       "    </tr>\n",
       "  </thead>\n",
       "  <tbody>\n",
       "    <tr>\n",
       "      <th>0</th>\n",
       "      <td>Afghanistan</td>\n",
       "      <td>13515.0</td>\n",
       "      <td>10735.0</td>\n",
       "    </tr>\n",
       "    <tr>\n",
       "      <th>1</th>\n",
       "      <td>Afrique du Sud</td>\n",
       "      <td>61256.0</td>\n",
       "      <td>29812.0</td>\n",
       "    </tr>\n",
       "    <tr>\n",
       "      <th>2</th>\n",
       "      <td>Albanie</td>\n",
       "      <td>4758.0</td>\n",
       "      <td>3476.0</td>\n",
       "    </tr>\n",
       "    <tr>\n",
       "      <th>3</th>\n",
       "      <td>Algérie</td>\n",
       "      <td>42630.0</td>\n",
       "      <td>31729.0</td>\n",
       "    </tr>\n",
       "    <tr>\n",
       "      <th>4</th>\n",
       "      <td>Allemagne</td>\n",
       "      <td>162275.0</td>\n",
       "      <td>79238.0</td>\n",
       "    </tr>\n",
       "  </tbody>\n",
       "</table>\n",
       "</div>"
      ],
      "text/plain": [
       "             Zone  Disponibilité_intérieure_milliers_tonnes  Nourriture\n",
       "0     Afghanistan                                   13515.0     10735.0\n",
       "1  Afrique du Sud                                   61256.0     29812.0\n",
       "2         Albanie                                    4758.0      3476.0\n",
       "3         Algérie                                   42630.0     31729.0\n",
       "4       Allemagne                                  162275.0     79238.0"
      ]
     },
     "execution_count": 41,
     "metadata": {},
     "output_type": "execute_result"
    }
   ],
   "source": [
    "# Merge domestic availability by country with food availability attributed to human consumption\n",
    "avail_prop_human = pd.merge(country_domestic_availability, human_by_country, how=\"left\", on=\"Zone\")\n",
    "avail_prop_human.reset_index(drop=True).head().round(2)"
   ]
  },
  {
   "cell_type": "code",
   "execution_count": 42,
   "id": "42e57841",
   "metadata": {},
   "outputs": [
    {
     "data": {
      "text/html": [
       "<div>\n",
       "<style scoped>\n",
       "    .dataframe tbody tr th:only-of-type {\n",
       "        vertical-align: middle;\n",
       "    }\n",
       "\n",
       "    .dataframe tbody tr th {\n",
       "        vertical-align: top;\n",
       "    }\n",
       "\n",
       "    .dataframe thead th {\n",
       "        text-align: right;\n",
       "    }\n",
       "</style>\n",
       "<table border=\"1\" class=\"dataframe\">\n",
       "  <thead>\n",
       "    <tr style=\"text-align: right;\">\n",
       "      <th></th>\n",
       "      <th>Zone</th>\n",
       "      <th>Disponibilité_intérieure_milliers_tonnes</th>\n",
       "      <th>Nourriture</th>\n",
       "      <th>Proportion Nourriture</th>\n",
       "    </tr>\n",
       "  </thead>\n",
       "  <tbody>\n",
       "    <tr>\n",
       "      <th>0</th>\n",
       "      <td>Afghanistan</td>\n",
       "      <td>13515.0</td>\n",
       "      <td>10735.0</td>\n",
       "      <td>0.79</td>\n",
       "    </tr>\n",
       "    <tr>\n",
       "      <th>1</th>\n",
       "      <td>Afrique du Sud</td>\n",
       "      <td>61256.0</td>\n",
       "      <td>29812.0</td>\n",
       "      <td>0.49</td>\n",
       "    </tr>\n",
       "    <tr>\n",
       "      <th>2</th>\n",
       "      <td>Albanie</td>\n",
       "      <td>4758.0</td>\n",
       "      <td>3476.0</td>\n",
       "      <td>0.73</td>\n",
       "    </tr>\n",
       "    <tr>\n",
       "      <th>3</th>\n",
       "      <td>Algérie</td>\n",
       "      <td>42630.0</td>\n",
       "      <td>31729.0</td>\n",
       "      <td>0.74</td>\n",
       "    </tr>\n",
       "    <tr>\n",
       "      <th>4</th>\n",
       "      <td>Allemagne</td>\n",
       "      <td>162275.0</td>\n",
       "      <td>79238.0</td>\n",
       "      <td>0.49</td>\n",
       "    </tr>\n",
       "  </tbody>\n",
       "</table>\n",
       "</div>"
      ],
      "text/plain": [
       "             Zone  Disponibilité_intérieure_milliers_tonnes  Nourriture  \\\n",
       "0     Afghanistan                                   13515.0     10735.0   \n",
       "1  Afrique du Sud                                   61256.0     29812.0   \n",
       "2         Albanie                                    4758.0      3476.0   \n",
       "3         Algérie                                   42630.0     31729.0   \n",
       "4       Allemagne                                  162275.0     79238.0   \n",
       "\n",
       "   Proportion Nourriture  \n",
       "0                   0.79  \n",
       "1                   0.49  \n",
       "2                   0.73  \n",
       "3                   0.74  \n",
       "4                   0.49  "
      ]
     },
     "execution_count": 42,
     "metadata": {},
     "output_type": "execute_result"
    }
   ],
   "source": [
    "avail_prop_human[\"Proportion Nourriture\"] = avail_prop_human[\"Nourriture\"] / avail_prop_human[\"Disponibilité_intérieure_milliers_tonnes\"]\n",
    "avail_prop_human.head().round(2)"
   ]
  },
  {
   "cell_type": "code",
   "execution_count": 43,
   "id": "86274d86",
   "metadata": {},
   "outputs": [
    {
     "data": {
      "text/html": [
       "<div>\n",
       "<style scoped>\n",
       "    .dataframe tbody tr th:only-of-type {\n",
       "        vertical-align: middle;\n",
       "    }\n",
       "\n",
       "    .dataframe tbody tr th {\n",
       "        vertical-align: top;\n",
       "    }\n",
       "\n",
       "    .dataframe thead th {\n",
       "        text-align: right;\n",
       "    }\n",
       "</style>\n",
       "<table border=\"1\" class=\"dataframe\">\n",
       "  <thead>\n",
       "    <tr style=\"text-align: right;\">\n",
       "      <th></th>\n",
       "      <th>Zone</th>\n",
       "      <th>Disponibilité_intérieure_milliers_tonnes</th>\n",
       "      <th>Nourriture</th>\n",
       "      <th>Proportion Nourriture</th>\n",
       "    </tr>\n",
       "  </thead>\n",
       "  <tbody>\n",
       "    <tr>\n",
       "      <th>0</th>\n",
       "      <td>Chine - RAS de Macao</td>\n",
       "      <td>383.0</td>\n",
       "      <td>368.0</td>\n",
       "      <td>0.96</td>\n",
       "    </tr>\n",
       "    <tr>\n",
       "      <th>1</th>\n",
       "      <td>Timor-Leste</td>\n",
       "      <td>447.0</td>\n",
       "      <td>419.0</td>\n",
       "      <td>0.94</td>\n",
       "    </tr>\n",
       "    <tr>\n",
       "      <th>2</th>\n",
       "      <td>Yémen</td>\n",
       "      <td>9782.0</td>\n",
       "      <td>9162.0</td>\n",
       "      <td>0.94</td>\n",
       "    </tr>\n",
       "    <tr>\n",
       "      <th>3</th>\n",
       "      <td>Lesotho</td>\n",
       "      <td>966.0</td>\n",
       "      <td>899.0</td>\n",
       "      <td>0.93</td>\n",
       "    </tr>\n",
       "    <tr>\n",
       "      <th>4</th>\n",
       "      <td>Rwanda</td>\n",
       "      <td>10054.0</td>\n",
       "      <td>9273.0</td>\n",
       "      <td>0.92</td>\n",
       "    </tr>\n",
       "  </tbody>\n",
       "</table>\n",
       "</div>"
      ],
      "text/plain": [
       "                   Zone  Disponibilité_intérieure_milliers_tonnes  Nourriture  \\\n",
       "0  Chine - RAS de Macao                                     383.0       368.0   \n",
       "1           Timor-Leste                                     447.0       419.0   \n",
       "2                 Yémen                                    9782.0      9162.0   \n",
       "3               Lesotho                                     966.0       899.0   \n",
       "4                Rwanda                                   10054.0      9273.0   \n",
       "\n",
       "   Proportion Nourriture  \n",
       "0                   0.96  \n",
       "1                   0.94  \n",
       "2                   0.94  \n",
       "3                   0.93  \n",
       "4                   0.92  "
      ]
     },
     "execution_count": 43,
     "metadata": {},
     "output_type": "execute_result"
    }
   ],
   "source": [
    "# Countries that allocated the most domestic availability to human consumption\n",
    "top_human_countries = avail_prop_human.sort_values(\"Proportion Nourriture\", ascending=False)\n",
    "top_human_countries.reset_index(drop=True).head().round(2)"
   ]
  },
  {
   "cell_type": "markdown",
   "id": "4d856620",
   "metadata": {},
   "source": [
    "### Section 7: Proportion of Domestic Availability Wasted<a class=\"anchor\" id=\"section_4_5\"></a>"
   ]
  },
  {
   "cell_type": "markdown",
   "id": "c65915d4",
   "metadata": {},
   "source": [
    "### 7.1 Total Proportion of Domestic Availability wasted<a class=\"anchor\" id=\"sub_section_4_5_2\"></a>"
   ]
  },
  {
   "cell_type": "code",
   "execution_count": 44,
   "id": "090e19ee",
   "metadata": {},
   "outputs": [
    {
     "name": "stdout",
     "output_type": "stream",
     "text": [
      "The quantity of domestic availability wasted is 453698 thousand tonnes.\n"
     ]
    }
   ],
   "source": [
    "total_wasted_quantity = food_availability[\"Pertes\"].sum()\n",
    "print(\"The quantity of domestic availability wasted is\", round(total_wasted_quantity), \"thousand tonnes.\")"
   ]
  },
  {
   "cell_type": "code",
   "execution_count": 45,
   "id": "9a8880ec",
   "metadata": {},
   "outputs": [
    {
     "name": "stdout",
     "output_type": "stream",
     "text": [
      "The proportion of allocated domestic availability wasted is 4.6 %\n"
     ]
    }
   ],
   "source": [
    "proportion_wasted = (total_wasted_quantity / global_domestic_availability) * 100\n",
    "print(\"The proportion of allocated domestic availability wasted is\", round(proportion_wasted, 2), \"%\")"
   ]
  },
  {
   "cell_type": "markdown",
   "id": "c24f5d38",
   "metadata": {},
   "source": [
    "### 7.2 Proportion of Domestic Availability wasted, by Country<a class=\"anchor\" id=\"sub_section_4_5_1\"></a>"
   ]
  },
  {
   "cell_type": "code",
   "execution_count": 46,
   "id": "7e45c4ae",
   "metadata": {},
   "outputs": [],
   "source": [
    "wasted_by_country = food_availability[food_availability[\"Pertes\"] > 0]\n",
    "wasted_by_country = wasted_by_country.groupby([\"Zone\"])[\"Pertes\"].sum().reset_index()"
   ]
  },
  {
   "cell_type": "code",
   "execution_count": 47,
   "id": "aaa84263",
   "metadata": {},
   "outputs": [
    {
     "data": {
      "text/html": [
       "<div>\n",
       "<style scoped>\n",
       "    .dataframe tbody tr th:only-of-type {\n",
       "        vertical-align: middle;\n",
       "    }\n",
       "\n",
       "    .dataframe tbody tr th {\n",
       "        vertical-align: top;\n",
       "    }\n",
       "\n",
       "    .dataframe thead th {\n",
       "        text-align: right;\n",
       "    }\n",
       "</style>\n",
       "<table border=\"1\" class=\"dataframe\">\n",
       "  <thead>\n",
       "    <tr style=\"text-align: right;\">\n",
       "      <th></th>\n",
       "      <th>Zone</th>\n",
       "      <th>Disponibilité_intérieure_milliers_tonnes</th>\n",
       "      <th>Pertes</th>\n",
       "    </tr>\n",
       "  </thead>\n",
       "  <tbody>\n",
       "    <tr>\n",
       "      <th>0</th>\n",
       "      <td>Afghanistan</td>\n",
       "      <td>13515.0</td>\n",
       "      <td>1135.0</td>\n",
       "    </tr>\n",
       "    <tr>\n",
       "      <th>1</th>\n",
       "      <td>Afrique du Sud</td>\n",
       "      <td>61256.0</td>\n",
       "      <td>2193.0</td>\n",
       "    </tr>\n",
       "    <tr>\n",
       "      <th>2</th>\n",
       "      <td>Albanie</td>\n",
       "      <td>4758.0</td>\n",
       "      <td>276.0</td>\n",
       "    </tr>\n",
       "    <tr>\n",
       "      <th>3</th>\n",
       "      <td>Algérie</td>\n",
       "      <td>42630.0</td>\n",
       "      <td>3753.0</td>\n",
       "    </tr>\n",
       "    <tr>\n",
       "      <th>4</th>\n",
       "      <td>Allemagne</td>\n",
       "      <td>162275.0</td>\n",
       "      <td>3781.0</td>\n",
       "    </tr>\n",
       "  </tbody>\n",
       "</table>\n",
       "</div>"
      ],
      "text/plain": [
       "             Zone  Disponibilité_intérieure_milliers_tonnes  Pertes\n",
       "0     Afghanistan                                   13515.0  1135.0\n",
       "1  Afrique du Sud                                   61256.0  2193.0\n",
       "2         Albanie                                    4758.0   276.0\n",
       "3         Algérie                                   42630.0  3753.0\n",
       "4       Allemagne                                  162275.0  3781.0"
      ]
     },
     "execution_count": 47,
     "metadata": {},
     "output_type": "execute_result"
    }
   ],
   "source": [
    "# Merge domestic availability by country with losses by country\n",
    "prop_wastes = pd.merge(country_domestic_availability, wasted_by_country, how=\"left\", on=\"Zone\")\n",
    "prop_wastes.reset_index(drop=True).head().round(2)"
   ]
  },
  {
   "cell_type": "code",
   "execution_count": 48,
   "id": "de18ebee",
   "metadata": {},
   "outputs": [
    {
     "data": {
      "text/html": [
       "<div>\n",
       "<style scoped>\n",
       "    .dataframe tbody tr th:only-of-type {\n",
       "        vertical-align: middle;\n",
       "    }\n",
       "\n",
       "    .dataframe tbody tr th {\n",
       "        vertical-align: top;\n",
       "    }\n",
       "\n",
       "    .dataframe thead th {\n",
       "        text-align: right;\n",
       "    }\n",
       "</style>\n",
       "<table border=\"1\" class=\"dataframe\">\n",
       "  <thead>\n",
       "    <tr style=\"text-align: right;\">\n",
       "      <th></th>\n",
       "      <th>Zone</th>\n",
       "      <th>Disponibilité_intérieure_milliers_tonnes</th>\n",
       "      <th>Pertes</th>\n",
       "      <th>Proportion Pertes</th>\n",
       "    </tr>\n",
       "  </thead>\n",
       "  <tbody>\n",
       "    <tr>\n",
       "      <th>0</th>\n",
       "      <td>Afghanistan</td>\n",
       "      <td>13515.0</td>\n",
       "      <td>1135.0</td>\n",
       "      <td>0.08</td>\n",
       "    </tr>\n",
       "    <tr>\n",
       "      <th>1</th>\n",
       "      <td>Afrique du Sud</td>\n",
       "      <td>61256.0</td>\n",
       "      <td>2193.0</td>\n",
       "      <td>0.04</td>\n",
       "    </tr>\n",
       "    <tr>\n",
       "      <th>2</th>\n",
       "      <td>Albanie</td>\n",
       "      <td>4758.0</td>\n",
       "      <td>276.0</td>\n",
       "      <td>0.06</td>\n",
       "    </tr>\n",
       "    <tr>\n",
       "      <th>3</th>\n",
       "      <td>Algérie</td>\n",
       "      <td>42630.0</td>\n",
       "      <td>3753.0</td>\n",
       "      <td>0.09</td>\n",
       "    </tr>\n",
       "    <tr>\n",
       "      <th>4</th>\n",
       "      <td>Allemagne</td>\n",
       "      <td>162275.0</td>\n",
       "      <td>3781.0</td>\n",
       "      <td>0.02</td>\n",
       "    </tr>\n",
       "  </tbody>\n",
       "</table>\n",
       "</div>"
      ],
      "text/plain": [
       "             Zone  Disponibilité_intérieure_milliers_tonnes  Pertes  \\\n",
       "0     Afghanistan                                   13515.0  1135.0   \n",
       "1  Afrique du Sud                                   61256.0  2193.0   \n",
       "2         Albanie                                    4758.0   276.0   \n",
       "3         Algérie                                   42630.0  3753.0   \n",
       "4       Allemagne                                  162275.0  3781.0   \n",
       "\n",
       "   Proportion Pertes  \n",
       "0               0.08  \n",
       "1               0.04  \n",
       "2               0.06  \n",
       "3               0.09  \n",
       "4               0.02  "
      ]
     },
     "execution_count": 48,
     "metadata": {},
     "output_type": "execute_result"
    }
   ],
   "source": [
    "prop_wastes[\"Proportion Pertes\"] = prop_wastes[\"Pertes\"] / prop_wastes[\"Disponibilité_intérieure_milliers_tonnes\"]\n",
    "prop_wastes.head().round(2)"
   ]
  },
  {
   "cell_type": "code",
   "execution_count": 49,
   "id": "7597aae5",
   "metadata": {},
   "outputs": [
    {
     "data": {
      "text/html": [
       "<div>\n",
       "<style scoped>\n",
       "    .dataframe tbody tr th:only-of-type {\n",
       "        vertical-align: middle;\n",
       "    }\n",
       "\n",
       "    .dataframe tbody tr th {\n",
       "        vertical-align: top;\n",
       "    }\n",
       "\n",
       "    .dataframe thead th {\n",
       "        text-align: right;\n",
       "    }\n",
       "</style>\n",
       "<table border=\"1\" class=\"dataframe\">\n",
       "  <thead>\n",
       "    <tr style=\"text-align: right;\">\n",
       "      <th></th>\n",
       "      <th>Zone</th>\n",
       "      <th>Disponibilité_intérieure_milliers_tonnes</th>\n",
       "      <th>Pertes</th>\n",
       "      <th>Proportion Pertes</th>\n",
       "    </tr>\n",
       "  </thead>\n",
       "  <tbody>\n",
       "    <tr>\n",
       "      <th>0</th>\n",
       "      <td>Sierra Leone</td>\n",
       "      <td>6570.0</td>\n",
       "      <td>2191.0</td>\n",
       "      <td>0.33</td>\n",
       "    </tr>\n",
       "    <tr>\n",
       "      <th>1</th>\n",
       "      <td>Ghana</td>\n",
       "      <td>38998.0</td>\n",
       "      <td>7442.0</td>\n",
       "      <td>0.19</td>\n",
       "    </tr>\n",
       "    <tr>\n",
       "      <th>2</th>\n",
       "      <td>Cameroun</td>\n",
       "      <td>26222.0</td>\n",
       "      <td>3981.0</td>\n",
       "      <td>0.15</td>\n",
       "    </tr>\n",
       "    <tr>\n",
       "      <th>3</th>\n",
       "      <td>Angola</td>\n",
       "      <td>32029.0</td>\n",
       "      <td>4799.0</td>\n",
       "      <td>0.15</td>\n",
       "    </tr>\n",
       "    <tr>\n",
       "      <th>4</th>\n",
       "      <td>Dominique</td>\n",
       "      <td>141.0</td>\n",
       "      <td>20.0</td>\n",
       "      <td>0.14</td>\n",
       "    </tr>\n",
       "  </tbody>\n",
       "</table>\n",
       "</div>"
      ],
      "text/plain": [
       "           Zone  Disponibilité_intérieure_milliers_tonnes  Pertes  \\\n",
       "0  Sierra Leone                                    6570.0  2191.0   \n",
       "1         Ghana                                   38998.0  7442.0   \n",
       "2      Cameroun                                   26222.0  3981.0   \n",
       "3        Angola                                   32029.0  4799.0   \n",
       "4     Dominique                                     141.0    20.0   \n",
       "\n",
       "   Proportion Pertes  \n",
       "0               0.33  \n",
       "1               0.19  \n",
       "2               0.15  \n",
       "3               0.15  \n",
       "4               0.14  "
      ]
     },
     "execution_count": 49,
     "metadata": {},
     "output_type": "execute_result"
    }
   ],
   "source": [
    "# Countries losing most of their domestic food availability\n",
    "top_waste_countries = prop_wastes.sort_values(\"Proportion Pertes\", ascending=False)\n",
    "top_waste_countries.reset_index(drop=True).head().round(2)"
   ]
  },
  {
   "cell_type": "markdown",
   "id": "4f902e38",
   "metadata": {},
   "source": [
    "# Part 2 - Malnutrition by Country"
   ]
  },
  {
   "cell_type": "markdown",
   "id": "9298cfad",
   "metadata": {},
   "source": [
    "### Section 1: Countries with the Highest Proportion of Malnourished People in 2017<a class=\"anchor\" id=\"question5\"></a>"
   ]
  },
  {
   "cell_type": "code",
   "execution_count": 50,
   "id": "7c2adb7e",
   "metadata": {},
   "outputs": [
    {
     "data": {
      "text/html": [
       "<div>\n",
       "<style scoped>\n",
       "    .dataframe tbody tr th:only-of-type {\n",
       "        vertical-align: middle;\n",
       "    }\n",
       "\n",
       "    .dataframe tbody tr th {\n",
       "        vertical-align: top;\n",
       "    }\n",
       "\n",
       "    .dataframe thead th {\n",
       "        text-align: right;\n",
       "    }\n",
       "</style>\n",
       "<table border=\"1\" class=\"dataframe\">\n",
       "  <thead>\n",
       "    <tr style=\"text-align: right;\">\n",
       "      <th></th>\n",
       "      <th>Zone</th>\n",
       "      <th>Population_totale</th>\n",
       "      <th>Population_sous_alimentée</th>\n",
       "      <th>Malnutrition (%)</th>\n",
       "    </tr>\n",
       "  </thead>\n",
       "  <tbody>\n",
       "    <tr>\n",
       "      <th>0</th>\n",
       "      <td>Afghanistan</td>\n",
       "      <td>36.30</td>\n",
       "      <td>10.5</td>\n",
       "      <td>28.93</td>\n",
       "    </tr>\n",
       "    <tr>\n",
       "      <th>1</th>\n",
       "      <td>Afrique du Sud</td>\n",
       "      <td>57.01</td>\n",
       "      <td>3.1</td>\n",
       "      <td>5.44</td>\n",
       "    </tr>\n",
       "    <tr>\n",
       "      <th>2</th>\n",
       "      <td>Albanie</td>\n",
       "      <td>2.88</td>\n",
       "      <td>0.1</td>\n",
       "      <td>3.47</td>\n",
       "    </tr>\n",
       "    <tr>\n",
       "      <th>3</th>\n",
       "      <td>Algérie</td>\n",
       "      <td>41.39</td>\n",
       "      <td>1.3</td>\n",
       "      <td>3.14</td>\n",
       "    </tr>\n",
       "    <tr>\n",
       "      <th>4</th>\n",
       "      <td>Allemagne</td>\n",
       "      <td>82.66</td>\n",
       "      <td>0.0</td>\n",
       "      <td>0.00</td>\n",
       "    </tr>\n",
       "  </tbody>\n",
       "</table>\n",
       "</div>"
      ],
      "text/plain": [
       "             Zone  Population_totale  Population_sous_alimentée  \\\n",
       "0     Afghanistan              36.30                       10.5   \n",
       "1  Afrique du Sud              57.01                        3.1   \n",
       "2         Albanie               2.88                        0.1   \n",
       "3         Algérie              41.39                        1.3   \n",
       "4       Allemagne              82.66                        0.0   \n",
       "\n",
       "   Malnutrition (%)  \n",
       "0             28.93  \n",
       "1              5.44  \n",
       "2              3.47  \n",
       "3              3.14  \n",
       "4              0.00  "
      ]
     },
     "metadata": {},
     "output_type": "display_data"
    }
   ],
   "source": [
    "# Calculate the proportion of malnourished people by country\n",
    "malnourished_merged[\"Malnutrition (%)\"] = (malnourished_merged[\"Population_sous_alimentée\"] / malnourished_merged[\"Population_totale\"]) * 100\n",
    "display(malnourished_merged.head().round(2))"
   ]
  },
  {
   "cell_type": "code",
   "execution_count": 51,
   "id": "447dffc0",
   "metadata": {},
   "outputs": [
    {
     "data": {
      "text/html": [
       "<div>\n",
       "<style scoped>\n",
       "    .dataframe tbody tr th:only-of-type {\n",
       "        vertical-align: middle;\n",
       "    }\n",
       "\n",
       "    .dataframe tbody tr th {\n",
       "        vertical-align: top;\n",
       "    }\n",
       "\n",
       "    .dataframe thead th {\n",
       "        text-align: right;\n",
       "    }\n",
       "</style>\n",
       "<table border=\"1\" class=\"dataframe\">\n",
       "  <thead>\n",
       "    <tr style=\"text-align: right;\">\n",
       "      <th></th>\n",
       "      <th>Zone</th>\n",
       "      <th>Population_totale</th>\n",
       "      <th>Population_sous_alimentée</th>\n",
       "      <th>Malnutrition (%)</th>\n",
       "    </tr>\n",
       "  </thead>\n",
       "  <tbody>\n",
       "    <tr>\n",
       "      <th>0</th>\n",
       "      <td>Haïti</td>\n",
       "      <td>10.98</td>\n",
       "      <td>5.3</td>\n",
       "      <td>48.26</td>\n",
       "    </tr>\n",
       "    <tr>\n",
       "      <th>1</th>\n",
       "      <td>République populaire démocratique de Corée</td>\n",
       "      <td>25.43</td>\n",
       "      <td>12.0</td>\n",
       "      <td>47.19</td>\n",
       "    </tr>\n",
       "    <tr>\n",
       "      <th>2</th>\n",
       "      <td>Madagascar</td>\n",
       "      <td>25.57</td>\n",
       "      <td>10.5</td>\n",
       "      <td>41.06</td>\n",
       "    </tr>\n",
       "    <tr>\n",
       "      <th>3</th>\n",
       "      <td>Libéria</td>\n",
       "      <td>4.70</td>\n",
       "      <td>1.8</td>\n",
       "      <td>38.28</td>\n",
       "    </tr>\n",
       "    <tr>\n",
       "      <th>4</th>\n",
       "      <td>Lesotho</td>\n",
       "      <td>2.09</td>\n",
       "      <td>0.8</td>\n",
       "      <td>38.25</td>\n",
       "    </tr>\n",
       "    <tr>\n",
       "      <th>5</th>\n",
       "      <td>Tchad</td>\n",
       "      <td>15.02</td>\n",
       "      <td>5.7</td>\n",
       "      <td>37.96</td>\n",
       "    </tr>\n",
       "    <tr>\n",
       "      <th>6</th>\n",
       "      <td>Rwanda</td>\n",
       "      <td>11.98</td>\n",
       "      <td>4.2</td>\n",
       "      <td>35.06</td>\n",
       "    </tr>\n",
       "    <tr>\n",
       "      <th>7</th>\n",
       "      <td>Mozambique</td>\n",
       "      <td>28.65</td>\n",
       "      <td>9.4</td>\n",
       "      <td>32.81</td>\n",
       "    </tr>\n",
       "    <tr>\n",
       "      <th>8</th>\n",
       "      <td>Timor-Leste</td>\n",
       "      <td>1.24</td>\n",
       "      <td>0.4</td>\n",
       "      <td>32.17</td>\n",
       "    </tr>\n",
       "    <tr>\n",
       "      <th>9</th>\n",
       "      <td>Afghanistan</td>\n",
       "      <td>36.30</td>\n",
       "      <td>10.5</td>\n",
       "      <td>28.93</td>\n",
       "    </tr>\n",
       "  </tbody>\n",
       "</table>\n",
       "</div>"
      ],
      "text/plain": [
       "                                         Zone  Population_totale  \\\n",
       "0                                       Haïti              10.98   \n",
       "1  République populaire démocratique de Corée              25.43   \n",
       "2                                  Madagascar              25.57   \n",
       "3                                     Libéria               4.70   \n",
       "4                                     Lesotho               2.09   \n",
       "5                                       Tchad              15.02   \n",
       "6                                      Rwanda              11.98   \n",
       "7                                  Mozambique              28.65   \n",
       "8                                 Timor-Leste               1.24   \n",
       "9                                 Afghanistan              36.30   \n",
       "\n",
       "   Population_sous_alimentée  Malnutrition (%)  \n",
       "0                        5.3             48.26  \n",
       "1                       12.0             47.19  \n",
       "2                       10.5             41.06  \n",
       "3                        1.8             38.28  \n",
       "4                        0.8             38.25  \n",
       "5                        5.7             37.96  \n",
       "6                        4.2             35.06  \n",
       "7                        9.4             32.81  \n",
       "8                        0.4             32.17  \n",
       "9                       10.5             28.93  "
      ]
     },
     "metadata": {},
     "output_type": "display_data"
    }
   ],
   "source": [
    "# Get the top 10 countries with the highest proportion of malnourished people\n",
    "malnourished_merged_top10 = malnourished_merged.sort_values(\"Malnutrition (%)\", ascending=False).reset_index(drop=True).head(10)\n",
    "display(malnourished_merged_top10[[\"Zone\", \"Population_totale\", \"Population_sous_alimentée\", \"Malnutrition (%)\"]].round(2))"
   ]
  },
  {
   "cell_type": "markdown",
   "id": "2a0a3885",
   "metadata": {},
   "source": [
    "### Section 2: Countries Benefiting from Donations since 2013<a class=\"anchor\" id=\"question6\"></a>"
   ]
  },
  {
   "cell_type": "markdown",
   "id": "ddaf22ef",
   "metadata": {},
   "source": [
    "### 2.1 Amounts of Donations since 2013<a class=\"anchor\" id=\"section_6_1\"></a>"
   ]
  },
  {
   "cell_type": "code",
   "execution_count": 52,
   "id": "3c662782",
   "metadata": {},
   "outputs": [
    {
     "name": "stdout",
     "output_type": "stream",
     "text": [
      "Since 2013, the amount of food donations has been 4166 thousand tons.\n"
     ]
    }
   ],
   "source": [
    "donations_2013 = donations_2013[donations_2013[\"Quantité\"] > 0]\n",
    "total_donations = donations_2013[\"Quantité\"].sum()\n",
    "print(\"Since 2013, the amount of food donations has been\", round(total_donations), \"thousand tons.\")"
   ]
  },
  {
   "cell_type": "markdown",
   "id": "d1bf9b46",
   "metadata": {},
   "source": [
    "### 2..2 Amounts of Donations, by Country<a class=\"anchor\" id=\"section_6_2\"></a>"
   ]
  },
  {
   "cell_type": "code",
   "execution_count": 53,
   "id": "8e1c1b75",
   "metadata": {},
   "outputs": [],
   "source": [
    "# Group donations data by country\n",
    "donations_2013_country = donations_2013.groupby([\"Zone\"])[\"Quantité\"].sum().reset_index()"
   ]
  },
  {
   "cell_type": "code",
   "execution_count": 54,
   "id": "5f25d29c",
   "metadata": {},
   "outputs": [
    {
     "data": {
      "text/html": [
       "<div>\n",
       "<style scoped>\n",
       "    .dataframe tbody tr th:only-of-type {\n",
       "        vertical-align: middle;\n",
       "    }\n",
       "\n",
       "    .dataframe tbody tr th {\n",
       "        vertical-align: top;\n",
       "    }\n",
       "\n",
       "    .dataframe thead th {\n",
       "        text-align: right;\n",
       "    }\n",
       "</style>\n",
       "<table border=\"1\" class=\"dataframe\">\n",
       "  <thead>\n",
       "    <tr style=\"text-align: right;\">\n",
       "      <th></th>\n",
       "      <th>Zone</th>\n",
       "      <th>Quantité</th>\n",
       "    </tr>\n",
       "  </thead>\n",
       "  <tbody>\n",
       "    <tr>\n",
       "      <th>0</th>\n",
       "      <td>Éthiopie</td>\n",
       "      <td>591.40</td>\n",
       "    </tr>\n",
       "    <tr>\n",
       "      <th>1</th>\n",
       "      <td>République arabe syrienne</td>\n",
       "      <td>563.57</td>\n",
       "    </tr>\n",
       "    <tr>\n",
       "      <th>2</th>\n",
       "      <td>Soudan</td>\n",
       "      <td>330.23</td>\n",
       "    </tr>\n",
       "    <tr>\n",
       "      <th>3</th>\n",
       "      <td>Yémen</td>\n",
       "      <td>264.76</td>\n",
       "    </tr>\n",
       "    <tr>\n",
       "      <th>4</th>\n",
       "      <td>Kenya</td>\n",
       "      <td>220.97</td>\n",
       "    </tr>\n",
       "    <tr>\n",
       "      <th>5</th>\n",
       "      <td>Soudan du Sud</td>\n",
       "      <td>196.33</td>\n",
       "    </tr>\n",
       "    <tr>\n",
       "      <th>6</th>\n",
       "      <td>République démocratique du Congo</td>\n",
       "      <td>150.32</td>\n",
       "    </tr>\n",
       "    <tr>\n",
       "      <th>7</th>\n",
       "      <td>Somalie</td>\n",
       "      <td>139.80</td>\n",
       "    </tr>\n",
       "    <tr>\n",
       "      <th>8</th>\n",
       "      <td>Bangladesh</td>\n",
       "      <td>131.02</td>\n",
       "    </tr>\n",
       "    <tr>\n",
       "      <th>9</th>\n",
       "      <td>Afghanistan</td>\n",
       "      <td>128.24</td>\n",
       "    </tr>\n",
       "  </tbody>\n",
       "</table>\n",
       "</div>"
      ],
      "text/plain": [
       "                               Zone  Quantité\n",
       "0                          Éthiopie    591.40\n",
       "1         République arabe syrienne    563.57\n",
       "2                            Soudan    330.23\n",
       "3                             Yémen    264.76\n",
       "4                             Kenya    220.97\n",
       "5                     Soudan du Sud    196.33\n",
       "6  République démocratique du Congo    150.32\n",
       "7                           Somalie    139.80\n",
       "8                        Bangladesh    131.02\n",
       "9                       Afghanistan    128.24"
      ]
     },
     "metadata": {},
     "output_type": "display_data"
    }
   ],
   "source": [
    "# Display the top 10 countries benefiting from the most donations since 2013\n",
    "donations_2013_country_top_10 = donations_2013_country.sort_values(\"Quantité\", ascending=False).reset_index(drop=True).head(10)\n",
    "display(donations_2013_country_top_10.round(2))"
   ]
  },
  {
   "cell_type": "code",
   "execution_count": 55,
   "id": "b650a27e",
   "metadata": {},
   "outputs": [
    {
     "data": {
      "text/html": [
       "<div>\n",
       "<style scoped>\n",
       "    .dataframe tbody tr th:only-of-type {\n",
       "        vertical-align: middle;\n",
       "    }\n",
       "\n",
       "    .dataframe tbody tr th {\n",
       "        vertical-align: top;\n",
       "    }\n",
       "\n",
       "    .dataframe thead th {\n",
       "        text-align: right;\n",
       "    }\n",
       "</style>\n",
       "<table border=\"1\" class=\"dataframe\">\n",
       "  <thead>\n",
       "    <tr style=\"text-align: right;\">\n",
       "      <th></th>\n",
       "      <th>Zone</th>\n",
       "      <th>Population_totale</th>\n",
       "      <th>Population_sous_alimentée</th>\n",
       "      <th>Malnutrition (%)</th>\n",
       "      <th>Quantité</th>\n",
       "    </tr>\n",
       "  </thead>\n",
       "  <tbody>\n",
       "    <tr>\n",
       "      <th>0</th>\n",
       "      <td>Haïti</td>\n",
       "      <td>10.98</td>\n",
       "      <td>5.3</td>\n",
       "      <td>48.26</td>\n",
       "      <td>NaN</td>\n",
       "    </tr>\n",
       "    <tr>\n",
       "      <th>1</th>\n",
       "      <td>République populaire démocratique de Corée</td>\n",
       "      <td>25.43</td>\n",
       "      <td>12.0</td>\n",
       "      <td>47.19</td>\n",
       "      <td>NaN</td>\n",
       "    </tr>\n",
       "    <tr>\n",
       "      <th>2</th>\n",
       "      <td>Madagascar</td>\n",
       "      <td>25.57</td>\n",
       "      <td>10.5</td>\n",
       "      <td>41.06</td>\n",
       "      <td>NaN</td>\n",
       "    </tr>\n",
       "    <tr>\n",
       "      <th>3</th>\n",
       "      <td>Libéria</td>\n",
       "      <td>4.70</td>\n",
       "      <td>1.8</td>\n",
       "      <td>38.28</td>\n",
       "      <td>NaN</td>\n",
       "    </tr>\n",
       "    <tr>\n",
       "      <th>4</th>\n",
       "      <td>Lesotho</td>\n",
       "      <td>2.09</td>\n",
       "      <td>0.8</td>\n",
       "      <td>38.25</td>\n",
       "      <td>NaN</td>\n",
       "    </tr>\n",
       "    <tr>\n",
       "      <th>5</th>\n",
       "      <td>Tchad</td>\n",
       "      <td>15.02</td>\n",
       "      <td>5.7</td>\n",
       "      <td>37.96</td>\n",
       "      <td>NaN</td>\n",
       "    </tr>\n",
       "    <tr>\n",
       "      <th>6</th>\n",
       "      <td>Rwanda</td>\n",
       "      <td>11.98</td>\n",
       "      <td>4.2</td>\n",
       "      <td>35.06</td>\n",
       "      <td>NaN</td>\n",
       "    </tr>\n",
       "    <tr>\n",
       "      <th>7</th>\n",
       "      <td>Mozambique</td>\n",
       "      <td>28.65</td>\n",
       "      <td>9.4</td>\n",
       "      <td>32.81</td>\n",
       "      <td>NaN</td>\n",
       "    </tr>\n",
       "    <tr>\n",
       "      <th>8</th>\n",
       "      <td>Timor-Leste</td>\n",
       "      <td>1.24</td>\n",
       "      <td>0.4</td>\n",
       "      <td>32.17</td>\n",
       "      <td>NaN</td>\n",
       "    </tr>\n",
       "    <tr>\n",
       "      <th>9</th>\n",
       "      <td>Afghanistan</td>\n",
       "      <td>36.30</td>\n",
       "      <td>10.5</td>\n",
       "      <td>28.93</td>\n",
       "      <td>128.24</td>\n",
       "    </tr>\n",
       "  </tbody>\n",
       "</table>\n",
       "</div>"
      ],
      "text/plain": [
       "                                         Zone  Population_totale  \\\n",
       "0                                       Haïti              10.98   \n",
       "1  République populaire démocratique de Corée              25.43   \n",
       "2                                  Madagascar              25.57   \n",
       "3                                     Libéria               4.70   \n",
       "4                                     Lesotho               2.09   \n",
       "5                                       Tchad              15.02   \n",
       "6                                      Rwanda              11.98   \n",
       "7                                  Mozambique              28.65   \n",
       "8                                 Timor-Leste               1.24   \n",
       "9                                 Afghanistan              36.30   \n",
       "\n",
       "   Population_sous_alimentée  Malnutrition (%)  Quantité  \n",
       "0                        5.3             48.26       NaN  \n",
       "1                       12.0             47.19       NaN  \n",
       "2                       10.5             41.06       NaN  \n",
       "3                        1.8             38.28       NaN  \n",
       "4                        0.8             38.25       NaN  \n",
       "5                        5.7             37.96       NaN  \n",
       "6                        4.2             35.06       NaN  \n",
       "7                        9.4             32.81       NaN  \n",
       "8                        0.4             32.17       NaN  \n",
       "9                       10.5             28.93    128.24  "
      ]
     },
     "metadata": {},
     "output_type": "display_data"
    }
   ],
   "source": [
    "# Merge data on malnourished population and donations by country\n",
    "donations_malnourished_pop = pd.merge(malnourished_merged_top10, donations_2013_country_top_10, how=\"left\", on=\"Zone\")\n",
    "display(donations_malnourished_pop.round(2))"
   ]
  },
  {
   "cell_type": "markdown",
   "id": "de07db98",
   "metadata": {},
   "source": [
    "### 3.1 Maximum and Minimum Food Availability per Inhabitant<a class=\"anchor\" id=\"question7\"></a>"
   ]
  },
  {
   "cell_type": "code",
   "execution_count": 56,
   "id": "f49f3eb3",
   "metadata": {},
   "outputs": [],
   "source": [
    "# Merge population by country with food availability by country\n",
    "avail_per_inhab = pd.merge(country_domestic_availability, population_2017, how=\"right\", on=\"Zone\")"
   ]
  },
  {
   "cell_type": "code",
   "execution_count": 73,
   "id": "c51044f0",
   "metadata": {},
   "outputs": [
    {
     "data": {
      "text/html": [
       "<div>\n",
       "<style scoped>\n",
       "    .dataframe tbody tr th:only-of-type {\n",
       "        vertical-align: middle;\n",
       "    }\n",
       "\n",
       "    .dataframe tbody tr th {\n",
       "        vertical-align: top;\n",
       "    }\n",
       "\n",
       "    .dataframe thead th {\n",
       "        text-align: right;\n",
       "    }\n",
       "</style>\n",
       "<table border=\"1\" class=\"dataframe\">\n",
       "  <thead>\n",
       "    <tr style=\"text-align: right;\">\n",
       "      <th></th>\n",
       "      <th>Zone</th>\n",
       "      <th>Disponibilité_intérieure_milliers_tonnes</th>\n",
       "      <th>Année</th>\n",
       "      <th>Population_totale</th>\n",
       "      <th>Availability per Capita</th>\n",
       "    </tr>\n",
       "  </thead>\n",
       "  <tbody>\n",
       "    <tr>\n",
       "      <th>0</th>\n",
       "      <td>Afghanistan</td>\n",
       "      <td>13515.0</td>\n",
       "      <td>2017</td>\n",
       "      <td>36.30</td>\n",
       "      <td>372.35</td>\n",
       "    </tr>\n",
       "    <tr>\n",
       "      <th>1</th>\n",
       "      <td>Afrique du Sud</td>\n",
       "      <td>61256.0</td>\n",
       "      <td>2017</td>\n",
       "      <td>57.01</td>\n",
       "      <td>1074.48</td>\n",
       "    </tr>\n",
       "    <tr>\n",
       "      <th>2</th>\n",
       "      <td>Albanie</td>\n",
       "      <td>4758.0</td>\n",
       "      <td>2017</td>\n",
       "      <td>2.88</td>\n",
       "      <td>1649.70</td>\n",
       "    </tr>\n",
       "    <tr>\n",
       "      <th>3</th>\n",
       "      <td>Algérie</td>\n",
       "      <td>42630.0</td>\n",
       "      <td>2017</td>\n",
       "      <td>41.39</td>\n",
       "      <td>1029.98</td>\n",
       "    </tr>\n",
       "    <tr>\n",
       "      <th>4</th>\n",
       "      <td>Allemagne</td>\n",
       "      <td>162275.0</td>\n",
       "      <td>2017</td>\n",
       "      <td>82.66</td>\n",
       "      <td>1963.20</td>\n",
       "    </tr>\n",
       "  </tbody>\n",
       "</table>\n",
       "</div>"
      ],
      "text/plain": [
       "             Zone  Disponibilité_intérieure_milliers_tonnes Année  \\\n",
       "0     Afghanistan                                   13515.0  2017   \n",
       "1  Afrique du Sud                                   61256.0  2017   \n",
       "2         Albanie                                    4758.0  2017   \n",
       "3         Algérie                                   42630.0  2017   \n",
       "4       Allemagne                                  162275.0  2017   \n",
       "\n",
       "   Population_totale  Availability per Capita  \n",
       "0              36.30                   372.35  \n",
       "1              57.01                  1074.48  \n",
       "2               2.88                  1649.70  \n",
       "3              41.39                  1029.98  \n",
       "4              82.66                  1963.20  "
      ]
     },
     "metadata": {},
     "output_type": "display_data"
    }
   ],
   "source": [
    "avail_per_inhab = avail_per_inhab[avail_per_inhab[\"Disponibilité_intérieure_milliers_tonnes\"] > 0]\n",
    "avail_per_inhab[\"Availability per Capita\"] = avail_per_inhab[\"Disponibilité_intérieure_milliers_tonnes\"] / avail_per_inhab[\"Population_totale\"]\n",
    "display(avail_per_inhab.head().round(2))"
   ]
  },
  {
   "cell_type": "code",
   "execution_count": 58,
   "id": "88ccdfde",
   "metadata": {},
   "outputs": [
    {
     "data": {
      "text/html": [
       "<div>\n",
       "<style scoped>\n",
       "    .dataframe tbody tr th:only-of-type {\n",
       "        vertical-align: middle;\n",
       "    }\n",
       "\n",
       "    .dataframe tbody tr th {\n",
       "        vertical-align: top;\n",
       "    }\n",
       "\n",
       "    .dataframe thead th {\n",
       "        text-align: right;\n",
       "    }\n",
       "</style>\n",
       "<table border=\"1\" class=\"dataframe\">\n",
       "  <thead>\n",
       "    <tr style=\"text-align: right;\">\n",
       "      <th></th>\n",
       "      <th>Zone</th>\n",
       "      <th>Disponibilité_intérieure_milliers_tonnes</th>\n",
       "      <th>Année</th>\n",
       "      <th>Population_totale</th>\n",
       "      <th>Availability per Capita</th>\n",
       "    </tr>\n",
       "  </thead>\n",
       "  <tbody>\n",
       "    <tr>\n",
       "      <th>0</th>\n",
       "      <td>Eswatini</td>\n",
       "      <td>6467.0</td>\n",
       "      <td>2017</td>\n",
       "      <td>1.12</td>\n",
       "      <td>5749.44</td>\n",
       "    </tr>\n",
       "    <tr>\n",
       "      <th>1</th>\n",
       "      <td>Brésil</td>\n",
       "      <td>1033314.0</td>\n",
       "      <td>2017</td>\n",
       "      <td>207.83</td>\n",
       "      <td>4971.83</td>\n",
       "    </tr>\n",
       "    <tr>\n",
       "      <th>2</th>\n",
       "      <td>Guyana</td>\n",
       "      <td>3290.0</td>\n",
       "      <td>2017</td>\n",
       "      <td>0.78</td>\n",
       "      <td>4243.95</td>\n",
       "    </tr>\n",
       "    <tr>\n",
       "      <th>3</th>\n",
       "      <td>Belize</td>\n",
       "      <td>1542.0</td>\n",
       "      <td>2017</td>\n",
       "      <td>0.38</td>\n",
       "      <td>4103.58</td>\n",
       "    </tr>\n",
       "    <tr>\n",
       "      <th>4</th>\n",
       "      <td>Maurice</td>\n",
       "      <td>4767.0</td>\n",
       "      <td>2017</td>\n",
       "      <td>1.26</td>\n",
       "      <td>3769.87</td>\n",
       "    </tr>\n",
       "    <tr>\n",
       "      <th>5</th>\n",
       "      <td>Danemark</td>\n",
       "      <td>19749.0</td>\n",
       "      <td>2017</td>\n",
       "      <td>5.73</td>\n",
       "      <td>3445.23</td>\n",
       "    </tr>\n",
       "    <tr>\n",
       "      <th>6</th>\n",
       "      <td>Bélarus</td>\n",
       "      <td>27522.0</td>\n",
       "      <td>2017</td>\n",
       "      <td>9.45</td>\n",
       "      <td>2912.31</td>\n",
       "    </tr>\n",
       "    <tr>\n",
       "      <th>7</th>\n",
       "      <td>Fidji</td>\n",
       "      <td>2499.0</td>\n",
       "      <td>2017</td>\n",
       "      <td>0.88</td>\n",
       "      <td>2848.00</td>\n",
       "    </tr>\n",
       "    <tr>\n",
       "      <th>8</th>\n",
       "      <td>Australie</td>\n",
       "      <td>66992.0</td>\n",
       "      <td>2017</td>\n",
       "      <td>24.58</td>\n",
       "      <td>2724.96</td>\n",
       "    </tr>\n",
       "    <tr>\n",
       "      <th>9</th>\n",
       "      <td>Lituanie</td>\n",
       "      <td>7467.0</td>\n",
       "      <td>2017</td>\n",
       "      <td>2.85</td>\n",
       "      <td>2624.22</td>\n",
       "    </tr>\n",
       "  </tbody>\n",
       "</table>\n",
       "</div>"
      ],
      "text/plain": [
       "        Zone  Disponibilité_intérieure_milliers_tonnes Année  \\\n",
       "0   Eswatini                                    6467.0  2017   \n",
       "1     Brésil                                 1033314.0  2017   \n",
       "2     Guyana                                    3290.0  2017   \n",
       "3     Belize                                    1542.0  2017   \n",
       "4    Maurice                                    4767.0  2017   \n",
       "5   Danemark                                   19749.0  2017   \n",
       "6    Bélarus                                   27522.0  2017   \n",
       "7      Fidji                                    2499.0  2017   \n",
       "8  Australie                                   66992.0  2017   \n",
       "9   Lituanie                                    7467.0  2017   \n",
       "\n",
       "   Population_totale  Availability per Capita  \n",
       "0               1.12                  5749.44  \n",
       "1             207.83                  4971.83  \n",
       "2               0.78                  4243.95  \n",
       "3               0.38                  4103.58  \n",
       "4               1.26                  3769.87  \n",
       "5               5.73                  3445.23  \n",
       "6               9.45                  2912.31  \n",
       "7               0.88                  2848.00  \n",
       "8              24.58                  2724.96  \n",
       "9               2.85                  2624.22  "
      ]
     },
     "metadata": {},
     "output_type": "display_data"
    }
   ],
   "source": [
    "# Get the top 10 countries with the highest food availability per inhabitant\n",
    "avail_per_inhab_top10 = avail_per_inhab.sort_values(\"Availability per Capita\", ascending=False).reset_index(drop=True).head(10)\n",
    "display(avail_per_inhab_top10.round(2))"
   ]
  },
  {
   "cell_type": "code",
   "execution_count": 59,
   "id": "77108cca",
   "metadata": {},
   "outputs": [
    {
     "data": {
      "text/html": [
       "<div>\n",
       "<style scoped>\n",
       "    .dataframe tbody tr th:only-of-type {\n",
       "        vertical-align: middle;\n",
       "    }\n",
       "\n",
       "    .dataframe tbody tr th {\n",
       "        vertical-align: top;\n",
       "    }\n",
       "\n",
       "    .dataframe thead th {\n",
       "        text-align: right;\n",
       "    }\n",
       "</style>\n",
       "<table border=\"1\" class=\"dataframe\">\n",
       "  <thead>\n",
       "    <tr style=\"text-align: right;\">\n",
       "      <th></th>\n",
       "      <th>Zone</th>\n",
       "      <th>Disponibilité_intérieure_milliers_tonnes</th>\n",
       "      <th>Année</th>\n",
       "      <th>Population_totale</th>\n",
       "      <th>Availability per Capita</th>\n",
       "    </tr>\n",
       "  </thead>\n",
       "  <tbody>\n",
       "    <tr>\n",
       "      <th>0</th>\n",
       "      <td>Yémen</td>\n",
       "      <td>9782.0</td>\n",
       "      <td>2017</td>\n",
       "      <td>27.83</td>\n",
       "      <td>351.43</td>\n",
       "    </tr>\n",
       "    <tr>\n",
       "      <th>1</th>\n",
       "      <td>Tchad</td>\n",
       "      <td>5304.0</td>\n",
       "      <td>2017</td>\n",
       "      <td>15.02</td>\n",
       "      <td>353.21</td>\n",
       "    </tr>\n",
       "    <tr>\n",
       "      <th>2</th>\n",
       "      <td>Timor-Leste</td>\n",
       "      <td>447.0</td>\n",
       "      <td>2017</td>\n",
       "      <td>1.24</td>\n",
       "      <td>359.54</td>\n",
       "    </tr>\n",
       "    <tr>\n",
       "      <th>3</th>\n",
       "      <td>Afghanistan</td>\n",
       "      <td>13515.0</td>\n",
       "      <td>2017</td>\n",
       "      <td>36.30</td>\n",
       "      <td>372.35</td>\n",
       "    </tr>\n",
       "    <tr>\n",
       "      <th>4</th>\n",
       "      <td>Éthiopie</td>\n",
       "      <td>44014.0</td>\n",
       "      <td>2017</td>\n",
       "      <td>106.40</td>\n",
       "      <td>413.67</td>\n",
       "    </tr>\n",
       "    <tr>\n",
       "      <th>5</th>\n",
       "      <td>Gambie</td>\n",
       "      <td>940.0</td>\n",
       "      <td>2017</td>\n",
       "      <td>2.21</td>\n",
       "      <td>424.59</td>\n",
       "    </tr>\n",
       "    <tr>\n",
       "      <th>6</th>\n",
       "      <td>Libéria</td>\n",
       "      <td>2002.0</td>\n",
       "      <td>2017</td>\n",
       "      <td>4.70</td>\n",
       "      <td>425.76</td>\n",
       "    </tr>\n",
       "    <tr>\n",
       "      <th>7</th>\n",
       "      <td>Guinée-Bissau</td>\n",
       "      <td>786.0</td>\n",
       "      <td>2017</td>\n",
       "      <td>1.83</td>\n",
       "      <td>429.94</td>\n",
       "    </tr>\n",
       "    <tr>\n",
       "      <th>8</th>\n",
       "      <td>Bangladesh</td>\n",
       "      <td>72757.0</td>\n",
       "      <td>2017</td>\n",
       "      <td>159.69</td>\n",
       "      <td>455.63</td>\n",
       "    </tr>\n",
       "    <tr>\n",
       "      <th>9</th>\n",
       "      <td>Lesotho</td>\n",
       "      <td>966.0</td>\n",
       "      <td>2017</td>\n",
       "      <td>2.09</td>\n",
       "      <td>461.86</td>\n",
       "    </tr>\n",
       "  </tbody>\n",
       "</table>\n",
       "</div>"
      ],
      "text/plain": [
       "            Zone  Disponibilité_intérieure_milliers_tonnes Année  \\\n",
       "0          Yémen                                    9782.0  2017   \n",
       "1          Tchad                                    5304.0  2017   \n",
       "2    Timor-Leste                                     447.0  2017   \n",
       "3    Afghanistan                                   13515.0  2017   \n",
       "4       Éthiopie                                   44014.0  2017   \n",
       "5         Gambie                                     940.0  2017   \n",
       "6        Libéria                                    2002.0  2017   \n",
       "7  Guinée-Bissau                                     786.0  2017   \n",
       "8     Bangladesh                                   72757.0  2017   \n",
       "9        Lesotho                                     966.0  2017   \n",
       "\n",
       "   Population_totale  Availability per Capita  \n",
       "0              27.83                   351.43  \n",
       "1              15.02                   353.21  \n",
       "2               1.24                   359.54  \n",
       "3              36.30                   372.35  \n",
       "4             106.40                   413.67  \n",
       "5               2.21                   424.59  \n",
       "6               4.70                   425.76  \n",
       "7               1.83                   429.94  \n",
       "8             159.69                   455.63  \n",
       "9               2.09                   461.86  "
      ]
     },
     "metadata": {},
     "output_type": "display_data"
    }
   ],
   "source": [
    "# Get the bottom 10 countries with the lowest food availability per inhabitant\n",
    "avail_per_inhab_flop10 = avail_per_inhab.sort_values(\"Availability per Capita\", ascending=True).reset_index(drop=True).head(10)\n",
    "display(avail_per_inhab_flop10.round(2))"
   ]
  },
  {
   "cell_type": "markdown",
   "id": "e65efc39",
   "metadata": {},
   "source": [
    "# Additional Information"
   ]
  },
  {
   "cell_type": "markdown",
   "id": "0db92a9e",
   "metadata": {},
   "source": [
    "###  Section 1: Use of Cereals<a class=\"anchor\" id=\"question8\"></a>"
   ]
  },
  {
   "cell_type": "code",
   "execution_count": 60,
   "id": "5754e25d",
   "metadata": {},
   "outputs": [],
   "source": [
    "# Filter cereals (wheat, corn, rye, barley, rice, oats, millet, sorghum)\n",
    "cereal_products = [\"Céréales, Autres\", \"Blé\", \"Avoine\", \"Orge\", \"Seigle\", \"Maïs\", \"Millet\", \"Riz (Eq Blanchi)\", \"Sorgho\"]\n",
    "avail_cereals = food_availability[food_availability[\"Produit\"].isin(cereal_products)]\n",
    "avail_cereals[\"Catégorie\"] = \"céréales\"\n",
    "avail_cereals = avail_cereals[[\"Zone\", \"Origine\", \"Catégorie\", \"Disponibilité_intérieure_milliers_tonnes\", \"Nourriture\", \"Aliments pour animaux\"]]"
   ]
  },
  {
   "cell_type": "code",
   "execution_count": 61,
   "id": "cab75fd1",
   "metadata": {},
   "outputs": [
    {
     "data": {
      "text/html": [
       "<div>\n",
       "<style scoped>\n",
       "    .dataframe tbody tr th:only-of-type {\n",
       "        vertical-align: middle;\n",
       "    }\n",
       "\n",
       "    .dataframe tbody tr th {\n",
       "        vertical-align: top;\n",
       "    }\n",
       "\n",
       "    .dataframe thead th {\n",
       "        text-align: right;\n",
       "    }\n",
       "</style>\n",
       "<table border=\"1\" class=\"dataframe\">\n",
       "  <thead>\n",
       "    <tr style=\"text-align: right;\">\n",
       "      <th></th>\n",
       "      <th>Zone</th>\n",
       "      <th>Origine</th>\n",
       "      <th>Catégorie</th>\n",
       "      <th>Disponibilité_intérieure_milliers_tonnes</th>\n",
       "      <th>Nourriture</th>\n",
       "      <th>Aliments pour animaux</th>\n",
       "    </tr>\n",
       "  </thead>\n",
       "  <tbody>\n",
       "    <tr>\n",
       "      <th>7</th>\n",
       "      <td>Afghanistan</td>\n",
       "      <td>vegetale</td>\n",
       "      <td>céréales</td>\n",
       "      <td>5992.0</td>\n",
       "      <td>4895.0</td>\n",
       "      <td>NaN</td>\n",
       "    </tr>\n",
       "    <tr>\n",
       "      <th>12</th>\n",
       "      <td>Afghanistan</td>\n",
       "      <td>vegetale</td>\n",
       "      <td>céréales</td>\n",
       "      <td>0.0</td>\n",
       "      <td>0.0</td>\n",
       "      <td>NaN</td>\n",
       "    </tr>\n",
       "    <tr>\n",
       "      <th>32</th>\n",
       "      <td>Afghanistan</td>\n",
       "      <td>vegetale</td>\n",
       "      <td>céréales</td>\n",
       "      <td>313.0</td>\n",
       "      <td>76.0</td>\n",
       "      <td>200.0</td>\n",
       "    </tr>\n",
       "    <tr>\n",
       "      <th>34</th>\n",
       "      <td>Afghanistan</td>\n",
       "      <td>vegetale</td>\n",
       "      <td>céréales</td>\n",
       "      <td>13.0</td>\n",
       "      <td>12.0</td>\n",
       "      <td>NaN</td>\n",
       "    </tr>\n",
       "    <tr>\n",
       "      <th>40</th>\n",
       "      <td>Afghanistan</td>\n",
       "      <td>vegetale</td>\n",
       "      <td>céréales</td>\n",
       "      <td>524.0</td>\n",
       "      <td>89.0</td>\n",
       "      <td>360.0</td>\n",
       "    </tr>\n",
       "  </tbody>\n",
       "</table>\n",
       "</div>"
      ],
      "text/plain": [
       "           Zone   Origine Catégorie  Disponibilité_intérieure_milliers_tonnes  \\\n",
       "7   Afghanistan  vegetale  céréales                                    5992.0   \n",
       "12  Afghanistan  vegetale  céréales                                       0.0   \n",
       "32  Afghanistan  vegetale  céréales                                     313.0   \n",
       "34  Afghanistan  vegetale  céréales                                      13.0   \n",
       "40  Afghanistan  vegetale  céréales                                     524.0   \n",
       "\n",
       "    Nourriture  Aliments pour animaux  \n",
       "7       4895.0                    NaN  \n",
       "12         0.0                    NaN  \n",
       "32        76.0                  200.0  \n",
       "34        12.0                    NaN  \n",
       "40        89.0                  360.0  "
      ]
     },
     "metadata": {},
     "output_type": "display_data"
    }
   ],
   "source": [
    "# Display the data\n",
    "display(avail_cereals.head().round(2))"
   ]
  },
  {
   "cell_type": "markdown",
   "id": "dda23ccd",
   "metadata": {},
   "source": [
    "### 1.1 Proportion of Cereals Worldwide<a class=\"anchor\" id=\"section_8_1\"></a>"
   ]
  },
  {
   "cell_type": "code",
   "execution_count": 62,
   "id": "4e0cc1db",
   "metadata": {},
   "outputs": [
    {
     "name": "stdout",
     "output_type": "stream",
     "text": [
      "The quantity of cereals is 2406999 thousand tonnes.\n"
     ]
    }
   ],
   "source": [
    "total_cereals_quantity = avail_cereals[\"Disponibilité_intérieure_milliers_tonnes\"].sum()\n",
    "print(\"The quantity of cereals is\", round(total_cereals_quantity), \"thousand tonnes.\")"
   ]
  },
  {
   "cell_type": "code",
   "execution_count": 63,
   "id": "af5e20ae",
   "metadata": {},
   "outputs": [
    {
     "name": "stdout",
     "output_type": "stream",
     "text": [
      "Cereals account for 24.43 % of the world's domestic food availability.\n"
     ]
    }
   ],
   "source": [
    "cereals_prop_global = (total_cereals_quantity / global_domestic_availability) * 100\n",
    "print(\"Cereals account for\", round(cereals_prop_global, 2), \"% of the world's domestic food availability.\")"
   ]
  },
  {
   "cell_type": "markdown",
   "id": "55fac55b",
   "metadata": {},
   "source": [
    "### 1.2 Proportion of Cereals allocated to Human Consumption in relation to Total Domestic Availability<a class=\"anchor\" id=\"sub_section_8_1_2\"></a>"
   ]
  },
  {
   "cell_type": "code",
   "execution_count": 64,
   "id": "27d8f5e6",
   "metadata": {},
   "outputs": [
    {
     "name": "stdout",
     "output_type": "stream",
     "text": [
      "The proportion of cereals availability allocated to human consumption is 42.75 %\n"
     ]
    }
   ],
   "source": [
    "total_cereals_human = avail_cereals[\"Nourriture\"].sum()\n",
    "avail_global_cereals_human = (total_cereals_human / total_cereals_quantity) * 100\n",
    "print(\"The proportion of cereals availability allocated to human consumption is\", round(avail_global_cereals_human, 2), \"%\")"
   ]
  },
  {
   "cell_type": "markdown",
   "id": "91f239aa",
   "metadata": {},
   "source": [
    "### 1.3 Proportion of Cereals allocated to Animal Nutrition in relation to Total Domestic Availability<a class=\"anchor\" id=\"sub_section_8_1_3\"></a>"
   ]
  },
  {
   "cell_type": "code",
   "execution_count": 65,
   "id": "a7416da1",
   "metadata": {},
   "outputs": [
    {
     "name": "stdout",
     "output_type": "stream",
     "text": [
      "The proportion of cereals availability allocated to animal nutrition is 36.29 %\n"
     ]
    }
   ],
   "source": [
    "total_cereals_animal = avail_cereals[\"Aliments pour animaux\"].sum()\n",
    "avail_global_cereals_animal = (total_cereals_animal / total_cereals_quantity) * 100\n",
    "print(\"The proportion of cereals availability allocated to animal nutrition is\", round(avail_global_cereals_animal, 2), \"%\")"
   ]
  },
  {
   "cell_type": "markdown",
   "id": "f3807fc3",
   "metadata": {},
   "source": [
    "### Section 2: Use of Cereals by Country"
   ]
  },
  {
   "cell_type": "markdown",
   "id": "efd3fbdd",
   "metadata": {},
   "source": [
    "### 2.1 Quantity of Cereals, by Country<a class=\"anchor\" id=\"section_8_2\"></a>"
   ]
  },
  {
   "cell_type": "code",
   "execution_count": 66,
   "id": "deaeabc1",
   "metadata": {},
   "outputs": [
    {
     "data": {
      "text/html": [
       "<div>\n",
       "<style scoped>\n",
       "    .dataframe tbody tr th:only-of-type {\n",
       "        vertical-align: middle;\n",
       "    }\n",
       "\n",
       "    .dataframe tbody tr th {\n",
       "        vertical-align: top;\n",
       "    }\n",
       "\n",
       "    .dataframe thead th {\n",
       "        text-align: right;\n",
       "    }\n",
       "</style>\n",
       "<table border=\"1\" class=\"dataframe\">\n",
       "  <thead>\n",
       "    <tr style=\"text-align: right;\">\n",
       "      <th></th>\n",
       "      <th>Zone</th>\n",
       "      <th>Disponibilité_intérieure_milliers_tonnes</th>\n",
       "    </tr>\n",
       "  </thead>\n",
       "  <tbody>\n",
       "    <tr>\n",
       "      <th>0</th>\n",
       "      <td>Afghanistan</td>\n",
       "      <td>7303.0</td>\n",
       "    </tr>\n",
       "    <tr>\n",
       "      <th>1</th>\n",
       "      <td>Afrique du Sud</td>\n",
       "      <td>15493.0</td>\n",
       "    </tr>\n",
       "    <tr>\n",
       "      <th>2</th>\n",
       "      <td>Albanie</td>\n",
       "      <td>1145.0</td>\n",
       "    </tr>\n",
       "    <tr>\n",
       "      <th>3</th>\n",
       "      <td>Algérie</td>\n",
       "      <td>15013.0</td>\n",
       "    </tr>\n",
       "    <tr>\n",
       "      <th>4</th>\n",
       "      <td>Allemagne</td>\n",
       "      <td>42158.0</td>\n",
       "    </tr>\n",
       "  </tbody>\n",
       "</table>\n",
       "</div>"
      ],
      "text/plain": [
       "             Zone  Disponibilité_intérieure_milliers_tonnes\n",
       "0     Afghanistan                                    7303.0\n",
       "1  Afrique du Sud                                   15493.0\n",
       "2         Albanie                                    1145.0\n",
       "3         Algérie                                   15013.0\n",
       "4       Allemagne                                   42158.0"
      ]
     },
     "metadata": {},
     "output_type": "display_data"
    }
   ],
   "source": [
    "avail_cereals_country = avail_cereals.groupby(\"Zone\")[\"Disponibilité_intérieure_milliers_tonnes\"].sum().reset_index()\n",
    "display(avail_cereals_country.head().round(2))"
   ]
  },
  {
   "cell_type": "markdown",
   "id": "bb3832f2",
   "metadata": {},
   "source": [
    "### 2.2 Quantity of cereals for Human Consumption, by Country"
   ]
  },
  {
   "cell_type": "code",
   "execution_count": 67,
   "id": "fbdc1a95",
   "metadata": {},
   "outputs": [
    {
     "data": {
      "text/html": [
       "<div>\n",
       "<style scoped>\n",
       "    .dataframe tbody tr th:only-of-type {\n",
       "        vertical-align: middle;\n",
       "    }\n",
       "\n",
       "    .dataframe tbody tr th {\n",
       "        vertical-align: top;\n",
       "    }\n",
       "\n",
       "    .dataframe thead th {\n",
       "        text-align: right;\n",
       "    }\n",
       "</style>\n",
       "<table border=\"1\" class=\"dataframe\">\n",
       "  <thead>\n",
       "    <tr style=\"text-align: right;\">\n",
       "      <th></th>\n",
       "      <th>Zone</th>\n",
       "      <th>Nourriture</th>\n",
       "    </tr>\n",
       "  </thead>\n",
       "  <tbody>\n",
       "    <tr>\n",
       "      <th>0</th>\n",
       "      <td>Afghanistan</td>\n",
       "      <td>5494.0</td>\n",
       "    </tr>\n",
       "    <tr>\n",
       "      <th>1</th>\n",
       "      <td>Afrique du Sud</td>\n",
       "      <td>9503.0</td>\n",
       "    </tr>\n",
       "    <tr>\n",
       "      <th>2</th>\n",
       "      <td>Albanie</td>\n",
       "      <td>474.0</td>\n",
       "    </tr>\n",
       "    <tr>\n",
       "      <th>3</th>\n",
       "      <td>Algérie</td>\n",
       "      <td>8535.0</td>\n",
       "    </tr>\n",
       "    <tr>\n",
       "      <th>4</th>\n",
       "      <td>Allemagne</td>\n",
       "      <td>9191.0</td>\n",
       "    </tr>\n",
       "  </tbody>\n",
       "</table>\n",
       "</div>"
      ],
      "text/plain": [
       "             Zone  Nourriture\n",
       "0     Afghanistan      5494.0\n",
       "1  Afrique du Sud      9503.0\n",
       "2         Albanie       474.0\n",
       "3         Algérie      8535.0\n",
       "4       Allemagne      9191.0"
      ]
     },
     "metadata": {},
     "output_type": "display_data"
    }
   ],
   "source": [
    "avail_cereals_human_country = avail_cereals[avail_cereals[\"Nourriture\"] > 0].groupby(\"Zone\")[\"Nourriture\"].sum().reset_index()\n",
    "display(avail_cereals_human_country.head().round(2))"
   ]
  },
  {
   "cell_type": "markdown",
   "id": "246762a0",
   "metadata": {},
   "source": [
    "### 2.3 Quantity of Cereals allocated to Animal Nutritrion, by Country"
   ]
  },
  {
   "cell_type": "code",
   "execution_count": 68,
   "id": "7848cfc6",
   "metadata": {},
   "outputs": [
    {
     "data": {
      "text/html": [
       "<div>\n",
       "<style scoped>\n",
       "    .dataframe tbody tr th:only-of-type {\n",
       "        vertical-align: middle;\n",
       "    }\n",
       "\n",
       "    .dataframe tbody tr th {\n",
       "        vertical-align: top;\n",
       "    }\n",
       "\n",
       "    .dataframe thead th {\n",
       "        text-align: right;\n",
       "    }\n",
       "</style>\n",
       "<table border=\"1\" class=\"dataframe\">\n",
       "  <thead>\n",
       "    <tr style=\"text-align: right;\">\n",
       "      <th></th>\n",
       "      <th>Zone</th>\n",
       "      <th>Aliments pour animaux</th>\n",
       "    </tr>\n",
       "  </thead>\n",
       "  <tbody>\n",
       "    <tr>\n",
       "      <th>0</th>\n",
       "      <td>Afghanistan</td>\n",
       "      <td>560.0</td>\n",
       "    </tr>\n",
       "    <tr>\n",
       "      <th>1</th>\n",
       "      <td>Afrique du Sud</td>\n",
       "      <td>4824.0</td>\n",
       "    </tr>\n",
       "    <tr>\n",
       "      <th>2</th>\n",
       "      <td>Albanie</td>\n",
       "      <td>411.0</td>\n",
       "    </tr>\n",
       "    <tr>\n",
       "      <th>3</th>\n",
       "      <td>Algérie</td>\n",
       "      <td>4337.0</td>\n",
       "    </tr>\n",
       "    <tr>\n",
       "      <th>4</th>\n",
       "      <td>Allemagne</td>\n",
       "      <td>26615.0</td>\n",
       "    </tr>\n",
       "  </tbody>\n",
       "</table>\n",
       "</div>"
      ],
      "text/plain": [
       "             Zone  Aliments pour animaux\n",
       "0     Afghanistan                  560.0\n",
       "1  Afrique du Sud                 4824.0\n",
       "2         Albanie                  411.0\n",
       "3         Algérie                 4337.0\n",
       "4       Allemagne                26615.0"
      ]
     },
     "metadata": {},
     "output_type": "display_data"
    }
   ],
   "source": [
    "avail_cereals_animal_country = avail_cereals[avail_cereals[\"Aliments pour animaux\"] > 0].groupby(\"Zone\")[\"Aliments pour animaux\"].sum().reset_index()\n",
    "display(avail_cereals_animal_country.head().round(2))"
   ]
  },
  {
   "cell_type": "markdown",
   "id": "af2cbbac",
   "metadata": {},
   "source": [
    "### 2.4 Proportion of Cereals Availability, by Country"
   ]
  },
  {
   "cell_type": "code",
   "execution_count": 74,
   "id": "d11cf44c",
   "metadata": {},
   "outputs": [
    {
     "data": {
      "text/html": [
       "<div>\n",
       "<style scoped>\n",
       "    .dataframe tbody tr th:only-of-type {\n",
       "        vertical-align: middle;\n",
       "    }\n",
       "\n",
       "    .dataframe tbody tr th {\n",
       "        vertical-align: top;\n",
       "    }\n",
       "\n",
       "    .dataframe thead th {\n",
       "        text-align: right;\n",
       "    }\n",
       "</style>\n",
       "<table border=\"1\" class=\"dataframe\">\n",
       "  <thead>\n",
       "    <tr style=\"text-align: right;\">\n",
       "      <th></th>\n",
       "      <th>Zone</th>\n",
       "      <th>Céréales (milliers de tonnes)</th>\n",
       "      <th>Céréales pour les animaux (milliers de tonnes)</th>\n",
       "      <th>Céréales pour l'homme (milliers de tonnes)</th>\n",
       "    </tr>\n",
       "  </thead>\n",
       "  <tbody>\n",
       "    <tr>\n",
       "      <th>0</th>\n",
       "      <td>Afghanistan</td>\n",
       "      <td>13515.0</td>\n",
       "      <td>560.0</td>\n",
       "      <td>5494.0</td>\n",
       "    </tr>\n",
       "    <tr>\n",
       "      <th>1</th>\n",
       "      <td>Afrique du Sud</td>\n",
       "      <td>61256.0</td>\n",
       "      <td>4824.0</td>\n",
       "      <td>9503.0</td>\n",
       "    </tr>\n",
       "    <tr>\n",
       "      <th>2</th>\n",
       "      <td>Albanie</td>\n",
       "      <td>4758.0</td>\n",
       "      <td>411.0</td>\n",
       "      <td>474.0</td>\n",
       "    </tr>\n",
       "    <tr>\n",
       "      <th>3</th>\n",
       "      <td>Algérie</td>\n",
       "      <td>42630.0</td>\n",
       "      <td>4337.0</td>\n",
       "      <td>8535.0</td>\n",
       "    </tr>\n",
       "    <tr>\n",
       "      <th>4</th>\n",
       "      <td>Allemagne</td>\n",
       "      <td>162275.0</td>\n",
       "      <td>26615.0</td>\n",
       "      <td>9191.0</td>\n",
       "    </tr>\n",
       "  </tbody>\n",
       "</table>\n",
       "</div>"
      ],
      "text/plain": [
       "             Zone  Céréales (milliers de tonnes)  \\\n",
       "0     Afghanistan                        13515.0   \n",
       "1  Afrique du Sud                        61256.0   \n",
       "2         Albanie                         4758.0   \n",
       "3         Algérie                        42630.0   \n",
       "4       Allemagne                       162275.0   \n",
       "\n",
       "   Céréales pour les animaux (milliers de tonnes)  \\\n",
       "0                                           560.0   \n",
       "1                                          4824.0   \n",
       "2                                           411.0   \n",
       "3                                          4337.0   \n",
       "4                                         26615.0   \n",
       "\n",
       "   Céréales pour l'homme (milliers de tonnes)  \n",
       "0                                      5494.0  \n",
       "1                                      9503.0  \n",
       "2                                       474.0  \n",
       "3                                      8535.0  \n",
       "4                                      9191.0  "
      ]
     },
     "metadata": {},
     "output_type": "display_data"
    }
   ],
   "source": [
    "dispo_cereals_all = pd.merge(pd.merge(country_domestic_availability, avail_cereals_animal_country, how=\"left\", on=\"Zone\"), avail_cereals_human_country, how=\"left\", on=\"Zone\")\n",
    "dispo_cereals_all = dispo_cereals_all.rename(columns={\"Disponibilité_intérieure_milliers_tonnes\": \"Céréales (milliers de tonnes)\", \"Aliments pour animaux\": \"Céréales pour les animaux (milliers de tonnes)\", \"Nourriture\": \"Céréales pour l'homme (milliers de tonnes)\"})\n",
    "display(dispo_cereals_all.head().round(2))"
   ]
  },
  {
   "cell_type": "markdown",
   "id": "31ed8633",
   "metadata": {},
   "source": [
    "### 2.5 Proportion of Cereals Availability by Country in relation to Total Food Availability"
   ]
  },
  {
   "cell_type": "code",
   "execution_count": 75,
   "id": "11a8eb54",
   "metadata": {},
   "outputs": [],
   "source": [
    "dispo_cereals_all[\"Proportion pour les animaux (%)\"] = (dispo_cereals_all[\"Céréales pour les animaux (milliers de tonnes)\"] / dispo_cereals_all[\"Céréales (milliers de tonnes)\"]) * 100\n",
    "dispo_cereals_all[\"Proportion pour les humains (%)\"] = (dispo_cereals_all[\"Céréales pour l'homme (milliers de tonnes)\"] / dispo_cereals_all[\"Céréales (milliers de tonnes)\"]) * 100"
   ]
  },
  {
   "cell_type": "code",
   "execution_count": 77,
   "id": "d318a635",
   "metadata": {},
   "outputs": [
    {
     "data": {
      "text/html": [
       "<div>\n",
       "<style scoped>\n",
       "    .dataframe tbody tr th:only-of-type {\n",
       "        vertical-align: middle;\n",
       "    }\n",
       "\n",
       "    .dataframe tbody tr th {\n",
       "        vertical-align: top;\n",
       "    }\n",
       "\n",
       "    .dataframe thead th {\n",
       "        text-align: right;\n",
       "    }\n",
       "</style>\n",
       "<table border=\"1\" class=\"dataframe\">\n",
       "  <thead>\n",
       "    <tr style=\"text-align: right;\">\n",
       "      <th></th>\n",
       "      <th>Zone</th>\n",
       "      <th>Céréales (milliers de tonnes)</th>\n",
       "      <th>Proportion pour les animaux (%)</th>\n",
       "      <th>Proportion pour les humains (%)</th>\n",
       "    </tr>\n",
       "  </thead>\n",
       "  <tbody>\n",
       "    <tr>\n",
       "      <th>0</th>\n",
       "      <td>Arabie saoudite</td>\n",
       "      <td>31274.0</td>\n",
       "      <td>37.35</td>\n",
       "      <td>14.19</td>\n",
       "    </tr>\n",
       "    <tr>\n",
       "      <th>1</th>\n",
       "      <td>Danemark</td>\n",
       "      <td>19749.0</td>\n",
       "      <td>33.67</td>\n",
       "      <td>3.73</td>\n",
       "    </tr>\n",
       "    <tr>\n",
       "      <th>2</th>\n",
       "      <td>Canada</td>\n",
       "      <td>79562.0</td>\n",
       "      <td>30.05</td>\n",
       "      <td>5.28</td>\n",
       "    </tr>\n",
       "    <tr>\n",
       "      <th>3</th>\n",
       "      <td>Serbie</td>\n",
       "      <td>18156.0</td>\n",
       "      <td>27.30</td>\n",
       "      <td>7.03</td>\n",
       "    </tr>\n",
       "    <tr>\n",
       "      <th>4</th>\n",
       "      <td>Irlande</td>\n",
       "      <td>10738.0</td>\n",
       "      <td>26.64</td>\n",
       "      <td>5.44</td>\n",
       "    </tr>\n",
       "  </tbody>\n",
       "</table>\n",
       "</div>"
      ],
      "text/plain": [
       "              Zone  Céréales (milliers de tonnes)  \\\n",
       "0  Arabie saoudite                        31274.0   \n",
       "1         Danemark                        19749.0   \n",
       "2           Canada                        79562.0   \n",
       "3           Serbie                        18156.0   \n",
       "4          Irlande                        10738.0   \n",
       "\n",
       "   Proportion pour les animaux (%)  Proportion pour les humains (%)  \n",
       "0                            37.35                            14.19  \n",
       "1                            33.67                             3.73  \n",
       "2                            30.05                             5.28  \n",
       "3                            27.30                             7.03  \n",
       "4                            26.64                             5.44  "
      ]
     },
     "metadata": {},
     "output_type": "display_data"
    }
   ],
   "source": [
    "# Display countries with the highest proportion of cereals used in animal nutrition\n",
    "top_cereals_animal = dispo_cereals_all.sort_values(\"Proportion pour les animaux (%)\", ascending=False).reset_index(drop=True).head()\n",
    "top_cereals_animal = top_cereals_animal[[\"Zone\", \"Céréales (milliers de tonnes)\", \"Proportion pour les animaux (%)\", \"Proportion pour les humains (%)\"]]\n",
    "display(top_cereals_animal.round(2))"
   ]
  },
  {
   "cell_type": "code",
   "execution_count": 78,
   "id": "18cbf250",
   "metadata": {},
   "outputs": [
    {
     "data": {
      "text/html": [
       "<div>\n",
       "<style scoped>\n",
       "    .dataframe tbody tr th:only-of-type {\n",
       "        vertical-align: middle;\n",
       "    }\n",
       "\n",
       "    .dataframe tbody tr th {\n",
       "        vertical-align: top;\n",
       "    }\n",
       "\n",
       "    .dataframe thead th {\n",
       "        text-align: right;\n",
       "    }\n",
       "</style>\n",
       "<table border=\"1\" class=\"dataframe\">\n",
       "  <thead>\n",
       "    <tr style=\"text-align: right;\">\n",
       "      <th></th>\n",
       "      <th>Zone</th>\n",
       "      <th>Céréales (milliers de tonnes)</th>\n",
       "      <th>Proportion pour les animaux (%)</th>\n",
       "      <th>Proportion pour les humains (%)</th>\n",
       "    </tr>\n",
       "  </thead>\n",
       "  <tbody>\n",
       "    <tr>\n",
       "      <th>0</th>\n",
       "      <td>Lesotho</td>\n",
       "      <td>966.0</td>\n",
       "      <td>0.10</td>\n",
       "      <td>48.55</td>\n",
       "    </tr>\n",
       "    <tr>\n",
       "      <th>1</th>\n",
       "      <td>Timor-Leste</td>\n",
       "      <td>447.0</td>\n",
       "      <td>1.79</td>\n",
       "      <td>41.16</td>\n",
       "    </tr>\n",
       "    <tr>\n",
       "      <th>2</th>\n",
       "      <td>Bangladesh</td>\n",
       "      <td>72757.0</td>\n",
       "      <td>3.75</td>\n",
       "      <td>40.91</td>\n",
       "    </tr>\n",
       "    <tr>\n",
       "      <th>3</th>\n",
       "      <td>Afghanistan</td>\n",
       "      <td>13515.0</td>\n",
       "      <td>4.14</td>\n",
       "      <td>40.65</td>\n",
       "    </tr>\n",
       "    <tr>\n",
       "      <th>4</th>\n",
       "      <td>Yémen</td>\n",
       "      <td>9782.0</td>\n",
       "      <td>2.15</td>\n",
       "      <td>40.38</td>\n",
       "    </tr>\n",
       "  </tbody>\n",
       "</table>\n",
       "</div>"
      ],
      "text/plain": [
       "          Zone  Céréales (milliers de tonnes)  \\\n",
       "0      Lesotho                          966.0   \n",
       "1  Timor-Leste                          447.0   \n",
       "2   Bangladesh                        72757.0   \n",
       "3  Afghanistan                        13515.0   \n",
       "4        Yémen                         9782.0   \n",
       "\n",
       "   Proportion pour les animaux (%)  Proportion pour les humains (%)  \n",
       "0                             0.10                            48.55  \n",
       "1                             1.79                            41.16  \n",
       "2                             3.75                            40.91  \n",
       "3                             4.14                            40.65  \n",
       "4                             2.15                            40.38  "
      ]
     },
     "metadata": {},
     "output_type": "display_data"
    }
   ],
   "source": [
    "# Display countries with the highest proportion of cereals used in human consumption\n",
    "top_cereals_human = dispo_cereals_all.sort_values(\"Proportion pour les humains (%)\", ascending=False).reset_index(drop=True).head()\n",
    "top_cereals_human = top_cereals_human[[\"Zone\", \"Céréales (milliers de tonnes)\", \"Proportion pour les animaux (%)\", \"Proportion pour les humains (%)\"]]\n",
    "display(top_cereals_human.round(2))"
   ]
  }
 ],
 "metadata": {
  "kernelspec": {
   "display_name": "Python 3 (ipykernel)",
   "language": "python",
   "name": "python3"
  },
  "language_info": {
   "codemirror_mode": {
    "name": "ipython",
    "version": 3
   },
   "file_extension": ".py",
   "mimetype": "text/x-python",
   "name": "python",
   "nbconvert_exporter": "python",
   "pygments_lexer": "ipython3",
   "version": "3.10.9"
  }
 },
 "nbformat": 4,
 "nbformat_minor": 5
}
